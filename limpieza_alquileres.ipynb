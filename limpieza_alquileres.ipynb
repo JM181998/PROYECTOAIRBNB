{
 "cells": [
  {
   "cell_type": "code",
   "execution_count": 79,
   "metadata": {},
   "outputs": [],
   "source": [
    "import pandas as pd"
   ]
  },
  {
   "cell_type": "code",
   "execution_count": 80,
   "metadata": {},
   "outputs": [],
   "source": [
    "df = pd.read_csv(\"csv_completos_bruto/alquileres_completo.csv\", low_memory=False)"
   ]
  },
  {
   "cell_type": "code",
   "execution_count": 81,
   "metadata": {},
   "outputs": [
    {
     "data": {
      "text/plain": [
       "array(['almeria', 'cadiz', 'cordoba', 'granada', 'huelva', 'jaen',\n",
       "       'malaga', 'sevilla', 'huesca', 'teruel', 'zaragoza', 'cantabria',\n",
       "       'avila', 'burgos', 'leon', 'palencia', 'salamanca', 'segovia',\n",
       "       'soria', 'valladolid', 'zamora', 'albacete', 'ciudad_real',\n",
       "       'cuenca', 'guadalajara', 'toledo', 'barcelona', 'girona', 'lleida',\n",
       "       'tarragona', 'madrid', 'alicante', 'castellon_castello',\n",
       "       'valencia', 'badajoz', 'caceres', 'a_coruna', 'lugo', 'ourense',\n",
       "       'pontevedra', 'islas_baleares_illes_balears', 'las_palmas',\n",
       "       'santa_cruz_de_tenerife', 'la_rioja', 'navarra_nafarroa',\n",
       "       'alava_araba', 'guipuzcoa_gipuzkoa', 'vizcaya_bizkaia', 'asturias',\n",
       "       'murcia', 'cerdanya_francesa'], dtype=object)"
      ]
     },
     "execution_count": 81,
     "metadata": {},
     "output_type": "execute_result"
    }
   ],
   "source": [
    "df[\"ubicacion\"].unique()"
   ]
  },
  {
   "cell_type": "code",
   "execution_count": 82,
   "metadata": {},
   "outputs": [
    {
     "data": {
      "text/plain": [
       "(29409, 62)"
      ]
     },
     "execution_count": 82,
     "metadata": {},
     "output_type": "execute_result"
    }
   ],
   "source": [
    "df.shape"
   ]
  },
  {
   "cell_type": "code",
   "execution_count": 83,
   "metadata": {},
   "outputs": [
    {
     "data": {
      "text/plain": [
       "Index(['Antigüedad', 'identificador', 'Teléfono', 'Carpintería interior',\n",
       "       'Ascensor', 'Portero automático', 'Armarios empotrados', 'Conservación',\n",
       "       'Superficie construida', 'Lavadero', 'Calle alumbrada', 'Calefacción',\n",
       "       'Calle asfaltada', 'codigo_postal', 'Referencia',\n",
       "       'Sistema de seguridad', 'Aire acondicionado', 'Cocina equipada',\n",
       "       'agencia', 'Terraza', 'Puerta blindada', 'Tipo de casa', 'Gas', 'href',\n",
       "       'Gastos de comunidad', 'Se aceptan mascotas', 'Piscina',\n",
       "       'Adaptado a personas con movilidad reducida', 'Urbanizado', 'Comedor',\n",
       "       'Soleado', 'Habitaciones', 'nombre', 'ubicacion', 'Exterior', 'Jardín',\n",
       "       'Planta', 'Superficie solar', 'Balcón', 'superficie', 'actualizacion',\n",
       "       'emisiones', 'Vidrios dobles', 'Orientación', 'precio', 'Luz',\n",
       "       'consumo', 'Trastero', 'coordenadas', 'Superficie útil', 'Agua',\n",
       "       'Baños', 'Tipo suelo', 'Chimenea', 'Alcantarillado', 'precio_m2',\n",
       "       'timestamp', 'Carpintería exterior', 'Garaje', 'Interior',\n",
       "       'No se aceptan mascotas', 'Amueblado'],\n",
       "      dtype='object')"
      ]
     },
     "execution_count": 83,
     "metadata": {},
     "output_type": "execute_result"
    }
   ],
   "source": [
    "df.columns"
   ]
  },
  {
   "cell_type": "code",
   "execution_count": 84,
   "metadata": {},
   "outputs": [],
   "source": [
    "#Normalizamos los nombres de las columnas\n",
    "def normalizar_nombres(nombres):\n",
    "    nombres = nombres.lower().replace(\" \", \"_\") \n",
    "    nombres = nombres.replace('á', 'a').replace('é', 'e').replace('í', 'i').replace('ó', 'o').replace('ü', 'u').replace('ú', 'u')\n",
    "    nombres = nombres.replace('Á', 'a').replace('É', 'e').replace('Í', 'i').replace('Ó', 'o').replace('Ú', 'u')\n",
    "    return nombres\n",
    "df.columns = [normalizar_nombres(col) for col in df.columns]"
   ]
  },
  {
   "cell_type": "code",
   "execution_count": 85,
   "metadata": {},
   "outputs": [
    {
     "data": {
      "text/plain": [
       "Index(['antiguedad', 'identificador', 'telefono', 'carpinteria_interior',\n",
       "       'ascensor', 'portero_automatico', 'armarios_empotrados', 'conservacion',\n",
       "       'superficie_construida', 'lavadero', 'calle_alumbrada', 'calefaccion',\n",
       "       'calle_asfaltada', 'codigo_postal', 'referencia',\n",
       "       'sistema_de_seguridad', 'aire_acondicionado', 'cocina_equipada',\n",
       "       'agencia', 'terraza', 'puerta_blindada', 'tipo_de_casa', 'gas', 'href',\n",
       "       'gastos_de_comunidad', 'se_aceptan_mascotas', 'piscina',\n",
       "       'adaptado_a_personas_con_movilidad_reducida', 'urbanizado', 'comedor',\n",
       "       'soleado', 'habitaciones', 'nombre', 'ubicacion', 'exterior', 'jardin',\n",
       "       'planta', 'superficie_solar', 'balcon', 'superficie', 'actualizacion',\n",
       "       'emisiones', 'vidrios_dobles', 'orientacion', 'precio', 'luz',\n",
       "       'consumo', 'trastero', 'coordenadas', 'superficie_util', 'agua',\n",
       "       'baños', 'tipo_suelo', 'chimenea', 'alcantarillado', 'precio_m2',\n",
       "       'timestamp', 'carpinteria_exterior', 'garaje', 'interior',\n",
       "       'no_se_aceptan_mascotas', 'amueblado'],\n",
       "      dtype='object')"
      ]
     },
     "execution_count": 85,
     "metadata": {},
     "output_type": "execute_result"
    }
   ],
   "source": [
    "df.columns"
   ]
  },
  {
   "cell_type": "code",
   "execution_count": 86,
   "metadata": {},
   "outputs": [
    {
     "data": {
      "text/plain": [
       "identificador\n",
       "4912333334_109700     82\n",
       "50836834632_100500    81\n",
       "32564541244_992099    81\n",
       "50077676626_100500    81\n",
       "51706580737_101800    81\n",
       "                      ..\n",
       "40884833778_100500     1\n",
       "50876676668_101800     1\n",
       "40917667643_100500     1\n",
       "49206925666_100500     1\n",
       "36693113219_517227     1\n",
       "Name: count, Length: 14542, dtype: int64"
      ]
     },
     "execution_count": 86,
     "metadata": {},
     "output_type": "execute_result"
    }
   ],
   "source": [
    "df[\"identificador\"].value_counts()"
   ]
  },
  {
   "cell_type": "code",
   "execution_count": 87,
   "metadata": {},
   "outputs": [],
   "source": [
    "# Eliminar identificadores únicos duplicados\n",
    "df = df.drop_duplicates(subset='identificador', keep='first')"
   ]
  },
  {
   "cell_type": "code",
   "execution_count": 88,
   "metadata": {},
   "outputs": [
    {
     "data": {
      "text/plain": [
       "identificador\n",
       "50886757575_100500    1\n",
       "49239903264_523824    1\n",
       "50022420851_100500    1\n",
       "46746172729_100500    1\n",
       "51719214790_512463    1\n",
       "                     ..\n",
       "50870623265_515004    1\n",
       "48349443059_108500    1\n",
       "51720664339_108900    1\n",
       "51762916766_108900    1\n",
       "36693113219_517227    1\n",
       "Name: count, Length: 14542, dtype: int64"
      ]
     },
     "execution_count": 88,
     "metadata": {},
     "output_type": "execute_result"
    }
   ],
   "source": [
    "df[\"identificador\"].value_counts()"
   ]
  },
  {
   "cell_type": "code",
   "execution_count": 89,
   "metadata": {},
   "outputs": [],
   "source": [
    "# Eliminamos la columna referencia porque nuestro valor único de inmueble será \"identificador\"\n",
    "df = df.drop(columns=['referencia'])"
   ]
  },
  {
   "cell_type": "code",
   "execution_count": 90,
   "metadata": {},
   "outputs": [
    {
     "data": {
      "text/plain": [
       "Index(['antiguedad', 'identificador', 'telefono', 'carpinteria_interior',\n",
       "       'ascensor', 'portero_automatico', 'armarios_empotrados', 'conservacion',\n",
       "       'superficie_construida', 'lavadero', 'calle_alumbrada', 'calefaccion',\n",
       "       'calle_asfaltada', 'codigo_postal', 'sistema_de_seguridad',\n",
       "       'aire_acondicionado', 'cocina_equipada', 'agencia', 'terraza',\n",
       "       'puerta_blindada', 'tipo_de_casa', 'gas', 'href', 'gastos_de_comunidad',\n",
       "       'se_aceptan_mascotas', 'piscina',\n",
       "       'adaptado_a_personas_con_movilidad_reducida', 'urbanizado', 'comedor',\n",
       "       'soleado', 'habitaciones', 'nombre', 'ubicacion', 'exterior', 'jardin',\n",
       "       'planta', 'superficie_solar', 'balcon', 'superficie', 'actualizacion',\n",
       "       'emisiones', 'vidrios_dobles', 'orientacion', 'precio', 'luz',\n",
       "       'consumo', 'trastero', 'coordenadas', 'superficie_util', 'agua',\n",
       "       'baños', 'tipo_suelo', 'chimenea', 'alcantarillado', 'precio_m2',\n",
       "       'timestamp', 'carpinteria_exterior', 'garaje', 'interior',\n",
       "       'no_se_aceptan_mascotas', 'amueblado'],\n",
       "      dtype='object')"
      ]
     },
     "execution_count": 90,
     "metadata": {},
     "output_type": "execute_result"
    }
   ],
   "source": [
    "df.columns"
   ]
  },
  {
   "cell_type": "code",
   "execution_count": 91,
   "metadata": {},
   "outputs": [
    {
     "data": {
      "text/plain": [
       "precio\n",
       "A consultar    1073\n",
       "1.200 €/mes     564\n",
       "800 €/mes       502\n",
       "1.500 €/mes     456\n",
       "750 €/mes       423\n",
       "               ... \n",
       "796 €/mes         1\n",
       "1.940 €/mes       1\n",
       "2.259 €/mes       1\n",
       "745 €/mes         1\n",
       "2.145 €           1\n",
       "Name: count, Length: 1164, dtype: int64"
      ]
     },
     "execution_count": 91,
     "metadata": {},
     "output_type": "execute_result"
    }
   ],
   "source": [
    "df[\"precio\"].value_counts()"
   ]
  },
  {
   "cell_type": "code",
   "execution_count": 92,
   "metadata": {},
   "outputs": [],
   "source": [
    "# Limpieza de la columna precio\n",
    "def limpiar_precio(x):\n",
    "    try:\n",
    "        if 'A consultar' in x or 'Error al procesar el precio' in x:\n",
    "            return None\n",
    "        return float(x.replace(' €/mes', '').replace('€', '').replace(' ', '').replace('.', '').replace(',', '.'))\n",
    "    except ValueError:\n",
    "        return None\n",
    "df['precio'] = df['precio'].apply(limpiar_precio)\n",
    "df['precio'] = df['precio'].astype(float)"
   ]
  },
  {
   "cell_type": "code",
   "execution_count": 93,
   "metadata": {},
   "outputs": [
    {
     "data": {
      "text/plain": [
       "precio\n",
       "1200.0    575\n",
       "800.0     514\n",
       "1500.0    464\n",
       "750.0     427\n",
       "850.0     406\n",
       "         ... \n",
       "2781.0      1\n",
       "2782.0      1\n",
       "1194.0      1\n",
       "1184.0      1\n",
       "2145.0      1\n",
       "Name: count, Length: 956, dtype: int64"
      ]
     },
     "execution_count": 93,
     "metadata": {},
     "output_type": "execute_result"
    }
   ],
   "source": [
    "df[\"precio\"].value_counts()"
   ]
  },
  {
   "cell_type": "code",
   "execution_count": 94,
   "metadata": {},
   "outputs": [
    {
     "data": {
      "text/plain": [
       "(14542, 61)"
      ]
     },
     "execution_count": 94,
     "metadata": {},
     "output_type": "execute_result"
    }
   ],
   "source": [
    "df.shape"
   ]
  },
  {
   "cell_type": "code",
   "execution_count": 95,
   "metadata": {},
   "outputs": [
    {
     "data": {
      "text/plain": [
       "precio_m2\n",
       "Error al procesar precio m²    1357\n",
       "8 €/m²                          943\n",
       "10 €/m²                         914\n",
       "7 €/m²                          772\n",
       "9 €/m²                          768\n",
       "                               ... \n",
       "78 €/m²                           1\n",
       "700 €/m²                          1\n",
       "72 €/m²                           1\n",
       "85 €/m²                           1\n",
       "350 €/m²                          1\n",
       "Name: count, Length: 99, dtype: int64"
      ]
     },
     "execution_count": 95,
     "metadata": {},
     "output_type": "execute_result"
    }
   ],
   "source": [
    "df['precio_m2'].value_counts()"
   ]
  },
  {
   "cell_type": "code",
   "execution_count": 96,
   "metadata": {},
   "outputs": [],
   "source": [
    "# Limpieza de la olumna precio_m2\n",
    "df['precio_m2'] = df['precio_m2'].apply(lambda x: float(x.replace(' €/m²', '').replace('€', '').replace(' ', '').replace('.', '').replace(',', '.')) if 'Error al procesar precio m²' not in x else None)\n",
    "df['precio_m2'] = df['precio_m2'].astype(float) "
   ]
  },
  {
   "cell_type": "code",
   "execution_count": 97,
   "metadata": {},
   "outputs": [
    {
     "data": {
      "text/plain": [
       "precio_m2\n",
       "8.0      943\n",
       "10.0     914\n",
       "7.0      772\n",
       "9.0      768\n",
       "11.0     750\n",
       "        ... \n",
       "700.0      1\n",
       "71.0       1\n",
       "65.0       1\n",
       "99.0       1\n",
       "350.0      1\n",
       "Name: count, Length: 98, dtype: int64"
      ]
     },
     "execution_count": 97,
     "metadata": {},
     "output_type": "execute_result"
    }
   ],
   "source": [
    "df['precio_m2'].value_counts()"
   ]
  },
  {
   "cell_type": "code",
   "execution_count": 98,
   "metadata": {},
   "outputs": [
    {
     "data": {
      "text/plain": [
       "superficie\n",
       "70 m²            596\n",
       "80 m²            581\n",
       "90 m²            559\n",
       "100 m²           558\n",
       "60 m²            501\n",
       "                ... \n",
       "314 m²             1\n",
       "IFC76350-TG-2      1\n",
       "905 m²             1\n",
       "855 m²             1\n",
       "2 m²               1\n",
       "Name: count, Length: 610, dtype: int64"
      ]
     },
     "execution_count": 98,
     "metadata": {},
     "output_type": "execute_result"
    }
   ],
   "source": [
    "df['superficie'].value_counts()"
   ]
  },
  {
   "cell_type": "code",
   "execution_count": 99,
   "metadata": {},
   "outputs": [],
   "source": [
    "# Limpieza columna superficie\n",
    "df['superficie'] = df['superficie'].apply(lambda x: float(x.replace(' m²', '').replace(' ', '')) if x.replace(' m²', '').replace(' ', '').isnumeric() else None)\n",
    "df['superficie'] = df['superficie'].astype(float)"
   ]
  },
  {
   "cell_type": "code",
   "execution_count": 100,
   "metadata": {},
   "outputs": [
    {
     "data": {
      "text/plain": [
       "superficie\n",
       "70.0     596\n",
       "80.0     581\n",
       "90.0     559\n",
       "100.0    558\n",
       "60.0     501\n",
       "        ... \n",
       "855.0      1\n",
       "975.0      1\n",
       "408.0      1\n",
       "616.0      1\n",
       "507.0      1\n",
       "Name: count, Length: 523, dtype: int64"
      ]
     },
     "execution_count": 100,
     "metadata": {},
     "output_type": "execute_result"
    }
   ],
   "source": [
    "df['superficie'].value_counts()"
   ]
  },
  {
   "cell_type": "code",
   "execution_count": 101,
   "metadata": {},
   "outputs": [
    {
     "data": {
      "text/plain": [
       "superficie_util\n",
       "70 m²     408\n",
       "90 m²     403\n",
       "80 m²     382\n",
       "100 m²    369\n",
       "60 m²     352\n",
       "         ... \n",
       "384 m²      1\n",
       "335 m²      1\n",
       "269 m²      1\n",
       "15 m²       1\n",
       "19 m²       1\n",
       "Name: count, Length: 392, dtype: int64"
      ]
     },
     "execution_count": 101,
     "metadata": {},
     "output_type": "execute_result"
    }
   ],
   "source": [
    "df['superficie_util'].value_counts()"
   ]
  },
  {
   "cell_type": "code",
   "execution_count": 102,
   "metadata": {},
   "outputs": [],
   "source": [
    "# Limpieza columna superficie_util\n",
    "df['superficie_util'] = df['superficie_util'].apply(lambda x: float(x.replace(' m²', '').replace(' ', '')) if isinstance(x, str) and x.replace(' m²', '').replace(' ', '').isnumeric() else None)\n",
    "df['superficie_util'] = df['superficie_util'].astype(float) "
   ]
  },
  {
   "cell_type": "code",
   "execution_count": 103,
   "metadata": {},
   "outputs": [
    {
     "data": {
      "text/plain": [
       "superficie_util\n",
       "70.0     408\n",
       "90.0     403\n",
       "80.0     382\n",
       "100.0    369\n",
       "60.0     352\n",
       "        ... \n",
       "507.0      1\n",
       "22.0       1\n",
       "503.0      1\n",
       "609.0      1\n",
       "19.0       1\n",
       "Name: count, Length: 373, dtype: int64"
      ]
     },
     "execution_count": 103,
     "metadata": {},
     "output_type": "execute_result"
    }
   ],
   "source": [
    "df['superficie_util'].value_counts()"
   ]
  },
  {
   "cell_type": "code",
   "execution_count": 104,
   "metadata": {},
   "outputs": [
    {
     "data": {
      "text/plain": [
       "superficie_solar\n",
       "1.000 m²    63\n",
       "500 m²      62\n",
       "1.200 m²    32\n",
       "800 m²      30\n",
       "400 m²      30\n",
       "            ..\n",
       "896 m²       1\n",
       "1.586 m²     1\n",
       "609 m²       1\n",
       "1.846 m²     1\n",
       "776 m²       1\n",
       "Name: count, Length: 450, dtype: int64"
      ]
     },
     "execution_count": 104,
     "metadata": {},
     "output_type": "execute_result"
    }
   ],
   "source": [
    "df['superficie_solar'].value_counts()"
   ]
  },
  {
   "cell_type": "code",
   "execution_count": 105,
   "metadata": {},
   "outputs": [],
   "source": [
    "# Limpieza columna superficie_solar\n",
    "df['superficie_solar'] = df['superficie_solar'].apply(lambda x: float(x.replace(' m²', '').replace(' ', '').replace('.', '').replace(',', '.')) if isinstance(x, str) and x.replace(' m²', '').replace(' ', '').replace('.', '').replace(',', '').isnumeric() else None)\n",
    "df['superficie_solar'] = df['superficie_solar'].astype(float) "
   ]
  },
  {
   "cell_type": "code",
   "execution_count": 106,
   "metadata": {},
   "outputs": [
    {
     "data": {
      "text/plain": [
       "superficie_solar\n",
       "1000.0    63\n",
       "500.0     62\n",
       "1200.0    32\n",
       "800.0     30\n",
       "400.0     30\n",
       "          ..\n",
       "896.0      1\n",
       "1586.0     1\n",
       "609.0      1\n",
       "1846.0     1\n",
       "776.0      1\n",
       "Name: count, Length: 450, dtype: int64"
      ]
     },
     "execution_count": 106,
     "metadata": {},
     "output_type": "execute_result"
    }
   ],
   "source": [
    "df['superficie_solar'].value_counts()"
   ]
  },
  {
   "cell_type": "code",
   "execution_count": 107,
   "metadata": {},
   "outputs": [
    {
     "data": {
      "text/plain": [
       "superficie_construida\n",
       "70 m²       589\n",
       "80 m²       579\n",
       "100 m²      558\n",
       "90 m²       557\n",
       "60 m²       499\n",
       "           ... \n",
       "890 m²        1\n",
       "1.037 m²      1\n",
       "1.020 m²      1\n",
       "1.855 m²      1\n",
       "2 m²          1\n",
       "Name: count, Length: 587, dtype: int64"
      ]
     },
     "execution_count": 107,
     "metadata": {},
     "output_type": "execute_result"
    }
   ],
   "source": [
    "df['superficie_construida'].value_counts()"
   ]
  },
  {
   "cell_type": "code",
   "execution_count": 108,
   "metadata": {},
   "outputs": [],
   "source": [
    "# Limpieza columna superficie_construida\n",
    "df['superficie_construida'] = df['superficie_construida'].apply(lambda x: float(x.replace(' m²', '').replace(' ', '')) if isinstance(x, str) and x.replace(' m²', '').replace(' ', '').isnumeric() else None)\n",
    "df['superficie_construida'] = df['superficie_construida'].astype(float) "
   ]
  },
  {
   "cell_type": "code",
   "execution_count": 109,
   "metadata": {},
   "outputs": [
    {
     "data": {
      "text/plain": [
       "superficie_construida\n",
       "70.0     589\n",
       "80.0     579\n",
       "100.0    558\n",
       "90.0     557\n",
       "60.0     499\n",
       "        ... \n",
       "314.0      1\n",
       "905.0      1\n",
       "855.0      1\n",
       "975.0      1\n",
       "2.0        1\n",
       "Name: count, Length: 520, dtype: int64"
      ]
     },
     "execution_count": 109,
     "metadata": {},
     "output_type": "execute_result"
    }
   ],
   "source": [
    "df['superficie_construida'].value_counts()"
   ]
  },
  {
   "cell_type": "code",
   "execution_count": 110,
   "metadata": {},
   "outputs": [
    {
     "data": {
      "text/plain": [
       "baños\n",
       "1.0     6356\n",
       "2.0     5815\n",
       "3.0     1378\n",
       "4.0      461\n",
       "5.0      191\n",
       "6.0       84\n",
       "7.0       43\n",
       "8.0       20\n",
       "9.0        7\n",
       "10.0       6\n",
       "11.0       4\n",
       "15.0       2\n",
       "12.0       1\n",
       "16.0       1\n",
       "Name: count, dtype: int64"
      ]
     },
     "execution_count": 110,
     "metadata": {},
     "output_type": "execute_result"
    }
   ],
   "source": [
    "df['baños'].value_counts()"
   ]
  },
  {
   "cell_type": "code",
   "execution_count": 111,
   "metadata": {},
   "outputs": [],
   "source": [
    "# Aplicamos limpieza a baños ya que encontramos valores muy atípicos, por lo que nos quedamos con aquellos inmuebles con como mucho 10 baños y el resto lo dejamos en none\n",
    "def limpiar_banos(x):\n",
    "    try:\n",
    "        x = float(x)\n",
    "        if x > 10 or not x.is_integer():\n",
    "            return None\n",
    "        return x\n",
    "    except ValueError:\n",
    "        return None\n",
    "\n",
    "df['baños'] = df['baños'].apply(limpiar_banos).astype('Int64')"
   ]
  },
  {
   "cell_type": "code",
   "execution_count": 112,
   "metadata": {},
   "outputs": [
    {
     "data": {
      "text/plain": [
       "baños\n",
       "1     6356\n",
       "2     5815\n",
       "3     1378\n",
       "4      461\n",
       "5      191\n",
       "6       84\n",
       "7       43\n",
       "8       20\n",
       "9        7\n",
       "10       6\n",
       "Name: count, dtype: Int64"
      ]
     },
     "execution_count": 112,
     "metadata": {},
     "output_type": "execute_result"
    }
   ],
   "source": [
    "df['baños'].value_counts()"
   ]
  },
  {
   "cell_type": "code",
   "execution_count": 113,
   "metadata": {},
   "outputs": [
    {
     "data": {
      "text/plain": [
       "(14542, 61)"
      ]
     },
     "execution_count": 113,
     "metadata": {},
     "output_type": "execute_result"
    }
   ],
   "source": [
    "df.shape"
   ]
  },
  {
   "cell_type": "code",
   "execution_count": 114,
   "metadata": {},
   "outputs": [
    {
     "data": {
      "text/plain": [
       "habitaciones\n",
       "2.0     4722\n",
       "3.0     4359\n",
       "1.0     2390\n",
       "4.0     1889\n",
       "5.0      565\n",
       "6.0      182\n",
       "7.0       51\n",
       "8.0       38\n",
       "10.0      10\n",
       "9.0        5\n",
       "16.0       4\n",
       "11.0       3\n",
       "21.0       2\n",
       "12.0       2\n",
       "20.0       1\n",
       "80.0       1\n",
       "90.0       1\n",
       "22.0       1\n",
       "13.0       1\n",
       "Name: count, dtype: int64"
      ]
     },
     "execution_count": 114,
     "metadata": {},
     "output_type": "execute_result"
    }
   ],
   "source": [
    "df['habitaciones'].value_counts()"
   ]
  },
  {
   "cell_type": "code",
   "execution_count": 115,
   "metadata": {},
   "outputs": [],
   "source": [
    "# Aplicamos limpieza a habitaciones ya que encontramos valores muy atípicos, por lo que nos quedamos con aquellos inmuebles con como mucho 20 habitaciones y el resto lo dejamos en none\n",
    "def limpiar_habitaciones(x):\n",
    "    try:\n",
    "        x = float(x)\n",
    "        if x > 20 or not x.is_integer():\n",
    "            return None\n",
    "        return x\n",
    "    except ValueError:\n",
    "        return None\n",
    "\n",
    "df['habitaciones'] = df['habitaciones'].apply(limpiar_habitaciones).astype('Int64')"
   ]
  },
  {
   "cell_type": "code",
   "execution_count": 116,
   "metadata": {},
   "outputs": [
    {
     "data": {
      "text/plain": [
       "habitaciones\n",
       "2     4722\n",
       "3     4359\n",
       "1     2390\n",
       "4     1889\n",
       "5      565\n",
       "6      182\n",
       "7       51\n",
       "8       38\n",
       "10      10\n",
       "9        5\n",
       "16       4\n",
       "11       3\n",
       "12       2\n",
       "20       1\n",
       "13       1\n",
       "Name: count, dtype: Int64"
      ]
     },
     "execution_count": 116,
     "metadata": {},
     "output_type": "execute_result"
    }
   ],
   "source": [
    "df['habitaciones'].value_counts()"
   ]
  },
  {
   "cell_type": "code",
   "execution_count": 117,
   "metadata": {},
   "outputs": [
    {
     "data": {
      "text/plain": [
       "5220"
      ]
     },
     "execution_count": 117,
     "metadata": {},
     "output_type": "execute_result"
    }
   ],
   "source": [
    "df['codigo_postal'].isna().sum()"
   ]
  },
  {
   "cell_type": "code",
   "execution_count": 118,
   "metadata": {},
   "outputs": [
    {
     "data": {
      "text/plain": [
       "0"
      ]
     },
     "execution_count": 118,
     "metadata": {},
     "output_type": "execute_result"
    }
   ],
   "source": [
    "# Todas las extracciones tienen timestamp (momento en el que ha sido scrapeado ese inmueble)\n",
    "df['timestamp'].isna().sum()"
   ]
  },
  {
   "cell_type": "code",
   "execution_count": 119,
   "metadata": {},
   "outputs": [],
   "source": [
    "# Convertimos la columna a tipo datetime\n",
    "df['timestamp'] = pd.to_datetime(df['timestamp'], errors='coerce')"
   ]
  },
  {
   "cell_type": "code",
   "execution_count": 120,
   "metadata": {},
   "outputs": [
    {
     "data": {
      "text/plain": [
       "0       2025-03-01 17:43:44\n",
       "1       2025-03-01 17:43:44\n",
       "2       2025-03-01 17:43:45\n",
       "3       2025-03-01 17:43:45\n",
       "4       2025-03-01 17:43:45\n",
       "                ...        \n",
       "29404   2025-03-01 19:50:19\n",
       "29405   2025-03-01 19:50:20\n",
       "29406   2025-03-01 19:50:20\n",
       "29407   2025-03-01 19:50:20\n",
       "29408   2025-03-01 19:50:20\n",
       "Name: timestamp, Length: 14542, dtype: datetime64[ns]"
      ]
     },
     "execution_count": 120,
     "metadata": {},
     "output_type": "execute_result"
    }
   ],
   "source": [
    "df['timestamp']"
   ]
  },
  {
   "cell_type": "code",
   "execution_count": 121,
   "metadata": {},
   "outputs": [
    {
     "data": {
      "text/plain": [
       "dtype('<M8[ns]')"
      ]
     },
     "execution_count": 121,
     "metadata": {},
     "output_type": "execute_result"
    }
   ],
   "source": [
    "df['timestamp'].dtypes"
   ]
  },
  {
   "cell_type": "code",
   "execution_count": 122,
   "metadata": {},
   "outputs": [
    {
     "data": {
      "text/plain": [
       "planta\n",
       "1ª            2165\n",
       "2ª            1942\n",
       "3ª            1543\n",
       "4ª            1117\n",
       "Bajo           840\n",
       "5ª             687\n",
       "6ª             398\n",
       "7ª             310\n",
       "8ª             156\n",
       "9ª              99\n",
       "11ª             63\n",
       "10ª             60\n",
       "Principal       60\n",
       "Entresuelo      45\n",
       "Más de 20       30\n",
       "12ª             19\n",
       "Semisótano      13\n",
       "15ª             12\n",
       "14ª             10\n",
       "13ª              8\n",
       "16ª              7\n",
       "20ª              5\n",
       "Sótano           4\n",
       "17ª              3\n",
       "19ª              3\n",
       "18ª              2\n",
       "Name: count, dtype: int64"
      ]
     },
     "execution_count": 122,
     "metadata": {},
     "output_type": "execute_result"
    }
   ],
   "source": [
    "df['planta'].value_counts()"
   ]
  },
  {
   "cell_type": "code",
   "execution_count": 123,
   "metadata": {},
   "outputs": [],
   "source": [
    "# Limpieza de la columna 'planta'\n",
    "df['planta'] = df['planta'].str.replace('ª', '', regex=False).str.strip()\n",
    "df['planta'] = df['planta'].replace({'Bajo': 0, 'Principal': 0, 'Semisótano': -1, 'Entresuelo': -1, 'Sótano': -1, 'Más de 20': 21})\n",
    "df['planta'] = df['planta'].astype('float64').astype('Int64')"
   ]
  },
  {
   "cell_type": "code",
   "execution_count": 124,
   "metadata": {},
   "outputs": [
    {
     "data": {
      "text/plain": [
       "planta\n",
       "1     2165\n",
       "2     1942\n",
       "3     1543\n",
       "4     1117\n",
       "0      900\n",
       "5      687\n",
       "6      398\n",
       "7      310\n",
       "8      156\n",
       "9       99\n",
       "11      63\n",
       "-1      62\n",
       "10      60\n",
       "21      30\n",
       "12      19\n",
       "15      12\n",
       "14      10\n",
       "13       8\n",
       "16       7\n",
       "20       5\n",
       "17       3\n",
       "19       3\n",
       "18       2\n",
       "Name: count, dtype: Int64"
      ]
     },
     "execution_count": 124,
     "metadata": {},
     "output_type": "execute_result"
    }
   ],
   "source": [
    "df['planta'].value_counts()"
   ]
  },
  {
   "cell_type": "code",
   "execution_count": 125,
   "metadata": {},
   "outputs": [],
   "source": [
    "# Columnas cualitativas Si/No/Sin especificar\n",
    "columnas_si_no = ['luz', 'sistema_de_seguridad', 'vidrios_dobles','se_aceptan_mascotas', 'calefaccion', 'jardin','trastero', 'gastos_de_comunidad',\n",
    "                  'cocina_equipada', 'agua', 'aire_acondicionado', 'terraza', 'armarios_empotrados','balcon', 'garaje', 'puerta_blindada',\n",
    "                  'adaptado_a_personas_con_movilidad_reducida', 'ascensor', 'alcantarillado', 'portero_automatico', 'exterior', 'piscina',\n",
    "                  'calle_alumbrada', 'lavadero', 'amueblado', 'gas', 'comedor', 'chimenea', 'no_se_aceptan_mascotas', 'telefono']"
   ]
  },
  {
   "cell_type": "code",
   "execution_count": 126,
   "metadata": {},
   "outputs": [],
   "source": [
    "df_si_no= df[columnas_si_no]"
   ]
  },
  {
   "cell_type": "code",
   "execution_count": 127,
   "metadata": {},
   "outputs": [
    {
     "data": {
      "text/html": [
       "<div>\n",
       "<style scoped>\n",
       "    .dataframe tbody tr th:only-of-type {\n",
       "        vertical-align: middle;\n",
       "    }\n",
       "\n",
       "    .dataframe tbody tr th {\n",
       "        vertical-align: top;\n",
       "    }\n",
       "\n",
       "    .dataframe thead th {\n",
       "        text-align: right;\n",
       "    }\n",
       "</style>\n",
       "<table border=\"1\" class=\"dataframe\">\n",
       "  <thead>\n",
       "    <tr style=\"text-align: right;\">\n",
       "      <th></th>\n",
       "      <th>luz</th>\n",
       "      <th>sistema_de_seguridad</th>\n",
       "      <th>vidrios_dobles</th>\n",
       "      <th>se_aceptan_mascotas</th>\n",
       "      <th>calefaccion</th>\n",
       "      <th>jardin</th>\n",
       "      <th>trastero</th>\n",
       "      <th>gastos_de_comunidad</th>\n",
       "      <th>cocina_equipada</th>\n",
       "      <th>agua</th>\n",
       "      <th>...</th>\n",
       "      <th>exterior</th>\n",
       "      <th>piscina</th>\n",
       "      <th>calle_alumbrada</th>\n",
       "      <th>lavadero</th>\n",
       "      <th>amueblado</th>\n",
       "      <th>gas</th>\n",
       "      <th>comedor</th>\n",
       "      <th>chimenea</th>\n",
       "      <th>no_se_aceptan_mascotas</th>\n",
       "      <th>telefono</th>\n",
       "    </tr>\n",
       "  </thead>\n",
       "  <tbody>\n",
       "    <tr>\n",
       "      <th>0</th>\n",
       "      <td>NaN</td>\n",
       "      <td>Si</td>\n",
       "      <td>Si</td>\n",
       "      <td>NaN</td>\n",
       "      <td>Eléctrica</td>\n",
       "      <td>Comunitario</td>\n",
       "      <td>NaN</td>\n",
       "      <td>NaN</td>\n",
       "      <td>Cocina amueblada</td>\n",
       "      <td>NaN</td>\n",
       "      <td>...</td>\n",
       "      <td>Si</td>\n",
       "      <td>Comunitaria</td>\n",
       "      <td>NaN</td>\n",
       "      <td>Si</td>\n",
       "      <td>Si</td>\n",
       "      <td>NaN</td>\n",
       "      <td>NaN</td>\n",
       "      <td>NaN</td>\n",
       "      <td>NaN</td>\n",
       "      <td>NaN</td>\n",
       "    </tr>\n",
       "    <tr>\n",
       "      <th>1</th>\n",
       "      <td>NaN</td>\n",
       "      <td>NaN</td>\n",
       "      <td>NaN</td>\n",
       "      <td>NaN</td>\n",
       "      <td>NaN</td>\n",
       "      <td>NaN</td>\n",
       "      <td>NaN</td>\n",
       "      <td>NaN</td>\n",
       "      <td>Amueblada</td>\n",
       "      <td>NaN</td>\n",
       "      <td>...</td>\n",
       "      <td>NaN</td>\n",
       "      <td>NaN</td>\n",
       "      <td>NaN</td>\n",
       "      <td>NaN</td>\n",
       "      <td>Si</td>\n",
       "      <td>NaN</td>\n",
       "      <td>Independiente</td>\n",
       "      <td>NaN</td>\n",
       "      <td>NaN</td>\n",
       "      <td>NaN</td>\n",
       "    </tr>\n",
       "    <tr>\n",
       "      <th>2</th>\n",
       "      <td>NaN</td>\n",
       "      <td>NaN</td>\n",
       "      <td>NaN</td>\n",
       "      <td>NaN</td>\n",
       "      <td>NaN</td>\n",
       "      <td>NaN</td>\n",
       "      <td>NaN</td>\n",
       "      <td>NaN</td>\n",
       "      <td>NaN</td>\n",
       "      <td>NaN</td>\n",
       "      <td>...</td>\n",
       "      <td>NaN</td>\n",
       "      <td>NaN</td>\n",
       "      <td>NaN</td>\n",
       "      <td>NaN</td>\n",
       "      <td>NaN</td>\n",
       "      <td>NaN</td>\n",
       "      <td>NaN</td>\n",
       "      <td>NaN</td>\n",
       "      <td>NaN</td>\n",
       "      <td>NaN</td>\n",
       "    </tr>\n",
       "    <tr>\n",
       "      <th>3</th>\n",
       "      <td>NaN</td>\n",
       "      <td>Videovigilancia</td>\n",
       "      <td>NaN</td>\n",
       "      <td>NaN</td>\n",
       "      <td>NaN</td>\n",
       "      <td>Privado</td>\n",
       "      <td>NaN</td>\n",
       "      <td>50</td>\n",
       "      <td>Si</td>\n",
       "      <td>NaN</td>\n",
       "      <td>...</td>\n",
       "      <td>NaN</td>\n",
       "      <td>Privada</td>\n",
       "      <td>NaN</td>\n",
       "      <td>NaN</td>\n",
       "      <td>Si</td>\n",
       "      <td>NaN</td>\n",
       "      <td>NaN</td>\n",
       "      <td>NaN</td>\n",
       "      <td>NaN</td>\n",
       "      <td>NaN</td>\n",
       "    </tr>\n",
       "    <tr>\n",
       "      <th>4</th>\n",
       "      <td>NaN</td>\n",
       "      <td>Si</td>\n",
       "      <td>Si</td>\n",
       "      <td>NaN</td>\n",
       "      <td>Eléctrica</td>\n",
       "      <td>Comunitario</td>\n",
       "      <td>NaN</td>\n",
       "      <td>NaN</td>\n",
       "      <td>Cocina amueblada</td>\n",
       "      <td>NaN</td>\n",
       "      <td>...</td>\n",
       "      <td>Si</td>\n",
       "      <td>Comunitaria</td>\n",
       "      <td>NaN</td>\n",
       "      <td>Si</td>\n",
       "      <td>Si</td>\n",
       "      <td>NaN</td>\n",
       "      <td>NaN</td>\n",
       "      <td>NaN</td>\n",
       "      <td>NaN</td>\n",
       "      <td>NaN</td>\n",
       "    </tr>\n",
       "    <tr>\n",
       "      <th>...</th>\n",
       "      <td>...</td>\n",
       "      <td>...</td>\n",
       "      <td>...</td>\n",
       "      <td>...</td>\n",
       "      <td>...</td>\n",
       "      <td>...</td>\n",
       "      <td>...</td>\n",
       "      <td>...</td>\n",
       "      <td>...</td>\n",
       "      <td>...</td>\n",
       "      <td>...</td>\n",
       "      <td>...</td>\n",
       "      <td>...</td>\n",
       "      <td>...</td>\n",
       "      <td>...</td>\n",
       "      <td>...</td>\n",
       "      <td>...</td>\n",
       "      <td>...</td>\n",
       "      <td>...</td>\n",
       "      <td>...</td>\n",
       "      <td>...</td>\n",
       "    </tr>\n",
       "    <tr>\n",
       "      <th>29404</th>\n",
       "      <td>NaN</td>\n",
       "      <td>NaN</td>\n",
       "      <td>Si</td>\n",
       "      <td>NaN</td>\n",
       "      <td>Eléctrica</td>\n",
       "      <td>Comunitario</td>\n",
       "      <td>NaN</td>\n",
       "      <td>NaN</td>\n",
       "      <td>Abierta</td>\n",
       "      <td>NaN</td>\n",
       "      <td>...</td>\n",
       "      <td>Si</td>\n",
       "      <td>NaN</td>\n",
       "      <td>NaN</td>\n",
       "      <td>NaN</td>\n",
       "      <td>Si</td>\n",
       "      <td>NaN</td>\n",
       "      <td>Si</td>\n",
       "      <td>NaN</td>\n",
       "      <td>NaN</td>\n",
       "      <td>NaN</td>\n",
       "    </tr>\n",
       "    <tr>\n",
       "      <th>29405</th>\n",
       "      <td>NaN</td>\n",
       "      <td>NaN</td>\n",
       "      <td>Si</td>\n",
       "      <td>NaN</td>\n",
       "      <td>Gasoil</td>\n",
       "      <td>Comunitario</td>\n",
       "      <td>NaN</td>\n",
       "      <td>NaN</td>\n",
       "      <td>Abierta</td>\n",
       "      <td>NaN</td>\n",
       "      <td>...</td>\n",
       "      <td>Si</td>\n",
       "      <td>NaN</td>\n",
       "      <td>NaN</td>\n",
       "      <td>NaN</td>\n",
       "      <td>Si</td>\n",
       "      <td>NaN</td>\n",
       "      <td>Si</td>\n",
       "      <td>NaN</td>\n",
       "      <td>NaN</td>\n",
       "      <td>NaN</td>\n",
       "    </tr>\n",
       "    <tr>\n",
       "      <th>29406</th>\n",
       "      <td>NaN</td>\n",
       "      <td>NaN</td>\n",
       "      <td>NaN</td>\n",
       "      <td>NaN</td>\n",
       "      <td>NaN</td>\n",
       "      <td>NaN</td>\n",
       "      <td>NaN</td>\n",
       "      <td>NaN</td>\n",
       "      <td>NaN</td>\n",
       "      <td>NaN</td>\n",
       "      <td>...</td>\n",
       "      <td>Si</td>\n",
       "      <td>NaN</td>\n",
       "      <td>NaN</td>\n",
       "      <td>NaN</td>\n",
       "      <td>Si</td>\n",
       "      <td>NaN</td>\n",
       "      <td>Abierto a cocina</td>\n",
       "      <td>Si</td>\n",
       "      <td>Si</td>\n",
       "      <td>NaN</td>\n",
       "    </tr>\n",
       "    <tr>\n",
       "      <th>29407</th>\n",
       "      <td>NaN</td>\n",
       "      <td>NaN</td>\n",
       "      <td>Si</td>\n",
       "      <td>NaN</td>\n",
       "      <td>Eléctrica</td>\n",
       "      <td>Privado</td>\n",
       "      <td>Si</td>\n",
       "      <td>NaN</td>\n",
       "      <td>Si</td>\n",
       "      <td>NaN</td>\n",
       "      <td>...</td>\n",
       "      <td>Si</td>\n",
       "      <td>Comunitaria</td>\n",
       "      <td>NaN</td>\n",
       "      <td>Si</td>\n",
       "      <td>Si</td>\n",
       "      <td>NaN</td>\n",
       "      <td>Si</td>\n",
       "      <td>Si</td>\n",
       "      <td>Si</td>\n",
       "      <td>NaN</td>\n",
       "    </tr>\n",
       "    <tr>\n",
       "      <th>29408</th>\n",
       "      <td>NaN</td>\n",
       "      <td>NaN</td>\n",
       "      <td>Si</td>\n",
       "      <td>NaN</td>\n",
       "      <td>Eléctrica</td>\n",
       "      <td>Privado</td>\n",
       "      <td>Si</td>\n",
       "      <td>NaN</td>\n",
       "      <td>Abierta</td>\n",
       "      <td>NaN</td>\n",
       "      <td>...</td>\n",
       "      <td>Con jardin privado</td>\n",
       "      <td>Comunitaria</td>\n",
       "      <td>NaN</td>\n",
       "      <td>NaN</td>\n",
       "      <td>Si</td>\n",
       "      <td>NaN</td>\n",
       "      <td>Con sofa cama</td>\n",
       "      <td>NaN</td>\n",
       "      <td>Si</td>\n",
       "      <td>NaN</td>\n",
       "    </tr>\n",
       "  </tbody>\n",
       "</table>\n",
       "<p>14542 rows × 30 columns</p>\n",
       "</div>"
      ],
      "text/plain": [
       "       luz sistema_de_seguridad vidrios_dobles se_aceptan_mascotas  \\\n",
       "0      NaN                   Si             Si                 NaN   \n",
       "1      NaN                  NaN            NaN                 NaN   \n",
       "2      NaN                  NaN            NaN                 NaN   \n",
       "3      NaN      Videovigilancia            NaN                 NaN   \n",
       "4      NaN                   Si             Si                 NaN   \n",
       "...    ...                  ...            ...                 ...   \n",
       "29404  NaN                  NaN             Si                 NaN   \n",
       "29405  NaN                  NaN             Si                 NaN   \n",
       "29406  NaN                  NaN            NaN                 NaN   \n",
       "29407  NaN                  NaN             Si                 NaN   \n",
       "29408  NaN                  NaN             Si                 NaN   \n",
       "\n",
       "      calefaccion       jardin trastero gastos_de_comunidad   cocina_equipada  \\\n",
       "0       Eléctrica  Comunitario      NaN                 NaN  Cocina amueblada   \n",
       "1             NaN          NaN      NaN                 NaN         Amueblada   \n",
       "2             NaN          NaN      NaN                 NaN               NaN   \n",
       "3             NaN      Privado      NaN                  50                Si   \n",
       "4       Eléctrica  Comunitario      NaN                 NaN  Cocina amueblada   \n",
       "...           ...          ...      ...                 ...               ...   \n",
       "29404   Eléctrica  Comunitario      NaN                 NaN           Abierta   \n",
       "29405      Gasoil  Comunitario      NaN                 NaN           Abierta   \n",
       "29406         NaN          NaN      NaN                 NaN               NaN   \n",
       "29407   Eléctrica      Privado       Si                 NaN                Si   \n",
       "29408   Eléctrica      Privado       Si                 NaN           Abierta   \n",
       "\n",
       "      agua  ...            exterior      piscina calle_alumbrada lavadero  \\\n",
       "0      NaN  ...                  Si  Comunitaria             NaN       Si   \n",
       "1      NaN  ...                 NaN          NaN             NaN      NaN   \n",
       "2      NaN  ...                 NaN          NaN             NaN      NaN   \n",
       "3      NaN  ...                 NaN      Privada             NaN      NaN   \n",
       "4      NaN  ...                  Si  Comunitaria             NaN       Si   \n",
       "...    ...  ...                 ...          ...             ...      ...   \n",
       "29404  NaN  ...                  Si          NaN             NaN      NaN   \n",
       "29405  NaN  ...                  Si          NaN             NaN      NaN   \n",
       "29406  NaN  ...                  Si          NaN             NaN      NaN   \n",
       "29407  NaN  ...                  Si  Comunitaria             NaN       Si   \n",
       "29408  NaN  ...  Con jardin privado  Comunitaria             NaN      NaN   \n",
       "\n",
       "      amueblado  gas           comedor chimenea no_se_aceptan_mascotas  \\\n",
       "0            Si  NaN               NaN      NaN                    NaN   \n",
       "1            Si  NaN     Independiente      NaN                    NaN   \n",
       "2           NaN  NaN               NaN      NaN                    NaN   \n",
       "3            Si  NaN               NaN      NaN                    NaN   \n",
       "4            Si  NaN               NaN      NaN                    NaN   \n",
       "...         ...  ...               ...      ...                    ...   \n",
       "29404        Si  NaN                Si      NaN                    NaN   \n",
       "29405        Si  NaN                Si      NaN                    NaN   \n",
       "29406        Si  NaN  Abierto a cocina       Si                     Si   \n",
       "29407        Si  NaN                Si       Si                     Si   \n",
       "29408        Si  NaN     Con sofa cama      NaN                     Si   \n",
       "\n",
       "      telefono  \n",
       "0          NaN  \n",
       "1          NaN  \n",
       "2          NaN  \n",
       "3          NaN  \n",
       "4          NaN  \n",
       "...        ...  \n",
       "29404      NaN  \n",
       "29405      NaN  \n",
       "29406      NaN  \n",
       "29407      NaN  \n",
       "29408      NaN  \n",
       "\n",
       "[14542 rows x 30 columns]"
      ]
     },
     "execution_count": 127,
     "metadata": {},
     "output_type": "execute_result"
    }
   ],
   "source": [
    "df_si_no"
   ]
  },
  {
   "cell_type": "code",
   "execution_count": 128,
   "metadata": {},
   "outputs": [
    {
     "name": "stdout",
     "output_type": "stream",
     "text": [
      "Valores únicos en la columna 'luz': [nan 'Otra compañía' 'Si' 'Endesa' 'Iberdrola' 'Unión fenosa']\n",
      "\n",
      "Valores únicos en la columna 'sistema_de_seguridad': ['Si' nan 'Videovigilancia' 'Alarma' 'Vigilancia 24h' 'Sistema de alarma'\n",
      " '24 horas' 'Camara y alarma' 'Llave unica'\n",
      " 'Security entrance, security shutters' 'Portero 24 h.'\n",
      " 'Security service 24h, surveillance cameras'\n",
      " 'Security entrance, security service 24h, surveilla' 'Security entrance'\n",
      " 'Security service 24h' 'Security entrance, security service 24h'\n",
      " 'Alarm, security service 24h'\n",
      " 'Alarm, security service 24h, surveillance cameras'\n",
      " 'Alarm, security entrance, security service 24h'\n",
      " 'Security entrance, surveillance cameras' 'Alarm, surveillance cameras'\n",
      " 'Alarm, security entrance' 'Surveillance cameras' 'Alarm'\n",
      " 'Alarm, security entrance, security shutters, surve' 'Portero físico'\n",
      " 'Alarm, security entrance, security service 24h, se' 'Mantenedor'\n",
      " 'Camaras de grabación en zonas comunes' 'Urbanización privada cerrada'\n",
      " 'Pre instalación alarma' 'Zona video vigilada con cámaras de seguridad'\n",
      " 'Alarma opcional' 'Puerta acorazada' 'Conserje'\n",
      " 'Sistema de alarma de seguridad' 'Puerta blindada'\n",
      " 'El conserje, vive en la urbanización' 'con cámaras de seguridad'\n",
      " 'Conserje de lunes a domingo' '12 horas/día los 7 días/semana.'\n",
      " '24  horas' '24 hs' 'Puerta entrada blindada' '24h.conserje'\n",
      " 'vigilancia 24h, con cámaras de seguridad'\n",
      " 'Cctv en zonas comunes de acceso' 'Portero'\n",
      " 'Servicio privado de portería' 'Conserjeria 24h' 'Conserjería 24h'\n",
      " 'Conserge 24 horas' 'Security shutters' 'Servicio de portería'\n",
      " 'Portero en edificio']\n",
      "\n",
      "Valores únicos en la columna 'vidrios_dobles': ['Si' nan 'Climalit' 'Tipo climalit' 'Lumon' 'Doble acristalamiento'\n",
      " 'Aislante tipo climalit' 'Concristal aislante tipo climalit'\n",
      " 'No hay ruido del exterior' 'Ventanas velux'\n",
      " 'Climalit oscilovatientes + mosquiteras' 'Cortizo' 'Aislante'\n",
      " 'Sistema climalit' 'Ventanas insonorizadas' 'Insonorizados' 'No'\n",
      " 'Climalite' 'Rotura puente térmico' 'Aluminio climalit'\n",
      " 'Con aislante térmico y acústico de 20mm.'\n",
      " 'Climalit con rotura puente térmico' 'En salon' 'Salon' 'Dobles'\n",
      " 'Doble ventana' 'Tiene doble cristal.' 'En todas las ventanas'\n",
      " 'Buen aislamiento' 'Cristales climalit' 'Ventanas oscilobatientes'\n",
      " 'Ventanales a medida con cristales dobles' 'Climalit con mosquiteras'\n",
      " '\"tipo climalit\"' 'Doble cristal tipo climalit' 'Nuevos'\n",
      " 'De aluminio blanco' 'Ventanas doble acristalamiento' 'P.v.c' 'Pvc']\n",
      "\n",
      "Valores únicos en la columna 'se_aceptan_mascotas': [nan 'Si']\n",
      "\n",
      "Valores únicos en la columna 'calefaccion': ['Eléctrica' nan 'Si' 'Central' 'En salon y dormitorio' 'Centralizada'\n",
      " 'Centralizado' 'En salon' 'Dos consolas' 'Sin especificar'\n",
      " 'En salon y dos dormitorios' 'Radiadores' 'Gas natural' 'Gasoil'\n",
      " 'Suelo radiante' 'Individual' 'Preinstalación' 'Bomba frío calor'\n",
      " 'Central heating' 'Central heating, underfloor heating (throughout)'\n",
      " 'Central heating, underfloor heating (bathrooms)'\n",
      " 'Underfloor heating (throughout)' 'Underfloor heating (partial)'\n",
      " 'Underfloor heating (bathrooms)' 'Chimenea'\n",
      " 'Central heating, ceiling heating system'\n",
      " 'Underfloor heating (throughout), underfloor heatin'\n",
      " '1 split frio / calor' 'Aerotermia' 'Aereotermia'\n",
      " 'Individual gas - radiadores' 'Central sin contador - radiadores'\n",
      " 'Gas natural independiente' 'Calefacción individual' 'Acumulador'\n",
      " 'Central gas con cotador' 'Emisor térmico de bajo consumo'\n",
      " 'Central con contador individual' 'Central con uso individual'\n",
      " 'Individual gas natural' 'Individual eléctrica' 'Indiv. Gas natural'\n",
      " 'Ss/cc y agua' 'Individual de gas natural' 'Central. Todo incluido'\n",
      " 'Chimenea aire caliente' 'Radiante' 'Pellet' 'aerotermia' 'Electric'\n",
      " 'Heat pumps' 'Bomba de calor' 'Centralised fuel oil' 'Centralised gas'\n",
      " 'Por conducto' 'Solar' 'Ind.gas' 'Individual a gas'\n",
      " 'Bomba de calor inverter' 'Aire acondicionado' 'Electrica'\n",
      " 'Con contadores individuales' 'Bomba frio calor'\n",
      " 'Aire acondicionado frio/calor' 'Contadores individuales'\n",
      " 'Suelo radiante, aerotermia y placas solares' 'Central individualizado'\n",
      " 'Placas solares' 'Bomba friol calor' 'Con contador individual'\n",
      " 'Central de gas con contadores individuales' 'Individual gas'\n",
      " 'Bomba de frío y calor a través de conductos' 'Yes' 'Split' 'Fireplace'\n",
      " 'Centralised' 'Heater' 'Hot cold' 'Radiador electrico en salón'\n",
      " 'No dispone' 'Calefacción central' 'Gas ciudad'\n",
      " 'Gas ciudad con contador individual' 'Eléctrica de bajo consumo' 'Leña'\n",
      " 'Contador individual' 'Electrica de bajo consumo' 'Central con contador'\n",
      " 'Bomba aire y calor']\n",
      "\n",
      "Valores únicos en la columna 'jardin': ['Comunitario' nan 'Privado' 'Si' 'Propio' 'Si,']\n",
      "\n",
      "Valores únicos en la columna 'trastero': [nan 'Si' 'Trastero nº14' 'Pago extra' '-1' 'Dentro vivienda' 'Opcional'\n",
      " 'Sot-3 en la misma plaza 5m²' 'En la 2da planta' 'En caseta' 'Nº 17'\n",
      " 'Dentro del piso' 'Opcional, con la plaza de garaje' 'De 13 m²'\n",
      " 'Incluye un trastero en la venta' 'Dentro de la vivienda'\n",
      " 'En la vivienda' 'Nº 10 y garaje nº 10' '17 m²' '10, g. 9' '10'\n",
      " 'En comunidad' 'Un trastero' 'Incluido en el precio' 'En la misma finca'\n",
      " 'Pequeño en la terraza tendedero de la cocina' 'Amplio' '15' '8'\n",
      " 'Comunitario para dejar sillitas o bicis.'\n",
      " 'Trastero en la terraza, caseta' 'Salida cocina' 'Trastero en el piso'\n",
      " 'Incluido' '6 metros cuadrados' '8 metros cuadrados' 'En planta sótano'\n",
      " '18 metros cuadrados' '5 metros cuadrados' 'Tendedero'\n",
      " '20 metros cuadrados' '4 metros cuadrados' 'En la planta sótano'\n",
      " 'Nº 4 - 2' '0 metros cuadrados' '32 metros cuadrados'\n",
      " 'Trastero en sotano' '2 amplios' 'Junto a parcela de garaje'\n",
      " 'Al lado y arriba' 'Opcional 50€' 'Tiene trastero.']\n",
      "\n",
      "Valores únicos en la columna 'gastos_de_comunidad': [nan '50' 'Incluidos' 'Comunidad incluida' '60'\n",
      " 'Comunidad incluida y basura (incluidos)'\n",
      " 'Comunidad y basura (incluidos)'\n",
      " 'Comunidad incluida más 30 euros de internet' 'Si'\n",
      " 'Comunidad y basura (incluido)' '40' 'Comunidad e internet (incluido)'\n",
      " '41' 'Más de 100 €' '70' 'Inlcuidos' 'Entre 10 y 20 €' 'Entre 60 y 80 €'\n",
      " '100' 'Entre 40 y 60 €' 'Entre 20 y 40 €' 'Incluidas'\n",
      " 'Incluidos en el precio' 'Entre 80 y 100 €' 'Incluida 65,00 €' '80'\n",
      " 'Incluido en el precio' 'No tiene' 'Incluida' '321,50' '190' '115' '195'\n",
      " '30,91' '500' 'Incluidos en la renta junto con el agua' 'Sin especificar'\n",
      " 'Incluido' '-' '80€' 'Incuídos' '23,19' '0€' 'Al mes.'\n",
      " '50€ con garaje, de nov. A mayo :70€-130€' 'Incluidos (con agua)'\n",
      " 'Se repercute al inquilino optante' '73' 'Incluidos en la renta'\n",
      " 'Incluídos en el precio del alquiler'\n",
      " 'Incluidos en el precio de alquiler' 'A consultar'\n",
      " 'Incluido en el precio de alquiler'\n",
      " 'Incluidos, solo, se paga, basuras, gas, luz, agua'\n",
      " 'Alquiler de septiembre a junio' 'A cargo de la propiedad' '60 € por mes'\n",
      " '40 €' '30' 'Gastos incluidos' 'Gastos de comunidad incluidos'\n",
      " 'Los gastos estan incluidos' 'Gastos de comunidad includos'\n",
      " 'Incluido en precio' 'Comunidad a cargo de la propiedad'\n",
      " 'Incluidos en precio' 'Incluids' 'Incluida en el precio' '83' '340'\n",
      " 'Sin comunidad' 'No aplicable' 'Incluido en el alquiler' '69'\n",
      " 'Incluidos en renta' 'Mas 150€ de gastos de comunidad' '123,52'\n",
      " 'Incluida 75 €' '55' '150']\n",
      "\n",
      "Valores únicos en la columna 'cocina_equipada': ['Cocina amueblada' 'Amueblada' nan 'Si' 'Americana - amueblada con elec.'\n",
      " 'Independiente - amueblada con elec.' 'Reformada' 'Individual' 'Equipada'\n",
      " 'Con lavavajillas' 'Available' 'Cocina equipada'\n",
      " 'Independiente amueblada' 'Amueblado' 'Amueblada con electrodomesticos'\n",
      " 'Equipada.' 'Amueblada y equipada' 'Con gran despensa'\n",
      " 'Americana de diseño' 'Amueblada. Electrodomesticos nuevos' '2'\n",
      " 'Amueblada con electrodomésticod'\n",
      " 'Amueblada completamente con electrodomésticos'\n",
      " 'Con comedor todo en un mismo ambiente' 'Todo en un mismo ambiente'\n",
      " 'Totalmente equipada' 'Cocina americana'\n",
      " 'Amueblada con electrodomésticos' 'Completa' 'Americana'\n",
      " 'Amueblada sin electrodomésticos' 'Cocina office.' 'Independiente'\n",
      " 'Amueb' 'Induccion' 'Abierta' '- equipada' 'Americana - equipada'\n",
      " 'Individual - equipada' 'Tostador, kettle' 'Con pasaplatos al salon'\n",
      " 'Equipado totalmente' 'Completa con lavavajillas'\n",
      " 'Amueblada electrodomest' 'Nueva a estrenar' 'Compartido'\n",
      " 'Independiente - amueblada sin elec.' 'Office'\n",
      " 'amueblada con electrodomesticos' 'Independiente con patio'\n",
      " 'Totalmente equipada y con despensa' 'Equipada con electrodomesticos'\n",
      " 'Fully fitted kitchen' 'Fully fitted kitchen, kitchen equipped'\n",
      " 'Completamente equipada' 'Amueblada y equipada con electrodomésticos'\n",
      " 'Equipada con electrodomésticos' 'Abierta al salón' 'Kitchen equipped'\n",
      " 'Americana.' 'Fully fitted kitchen, open plan kitchen' 'Abierta con isla'\n",
      " 'Fully fitted kitchen, kitchen equipped, open plan'\n",
      " 'Fully fitted kitchen, kitchenette' 'Cocina abierta' 'Cocina cerrada'\n",
      " 'Parcialmente equipada' 'Am' 'Cocina independiente'\n",
      " 'Independiente-equipada' 'Amueblada sin electrodomesticos'\n",
      " 'Independiente amueblada con electrodométicos'\n",
      " 'Reformada con electrodomésticos, todo a estrenar'\n",
      " 'Amueblada y equipada con electrodomesticos' 'Con galería'\n",
      " '-cocina-salón totalmente equipada' '-cocina totalmente equipada'\n",
      " 'Equipada y amueblada'\n",
      " '- faltan lavadora y frigorifico (si fuera necesario los pondría la propiedad) - zona office. - zona servicio con dormitorio y empotrado + aseo (bañera).'\n",
      " '-totalmente equipada -a patio interior' '-totalmente equipada'\n",
      " 'Equipada con zona lavanderia' 'Con salida a la terraza'\n",
      " 'Equipada con despensa' 'Cocina amueblada.' 'Cocina no amueblada.'\n",
      " '1 equipada' 'De diseño' '8,55 m²'\n",
      " 'Con todo lo necesario para vivir en el' 'Y equipada' 'Con despensa'\n",
      " 'Con los mejores electrodomésticos, alta gama'\n",
      " 'Cocina amueblada. Cocina americana.'\n",
      " 'Americana, equipada: frigo, vitro, lavadora, etc.'\n",
      " 'Equipada: frigo, vitro, horno, lavadora. Etc.'\n",
      " 'Equipada: frigo, vitro, horno, lavavajillas, lavad'\n",
      " 'Equipada: frigo, horno, vitro, lavadora, etc.'\n",
      " 'Equipada: frigorífico, horno, vitro, lavadora, etc'\n",
      " 'Equipada: frigo, vitro, lavadora, lavavajillas, et'\n",
      " 'Horno, no lavavajillas'\n",
      " 'Equipada: frigo, vitro, horno-microondas, lavadora'\n",
      " 'Equipada, frigorífico, vitro, lavadora, etc.'\n",
      " 'Equipada: frigorífico,  horno, vitro, lavadora, et' 'Con lavaplatos'\n",
      " 'Amueblada con electrodomesticos a estrenar'\n",
      " 'Amueblada completa y electrodomesticos'\n",
      " 'Abierta al salón, amueblada con electrodomésticos'\n",
      " 'Amueblada, electrodomesticos' 'Sin electrodomesticos'\n",
      " 'Totalmente amuebladas' 'Office con isla' 'Cocina completa con comedor'\n",
      " 'Lvj nuevo' 'Dos, una en cada una de las casas' 'Tipo office'\n",
      " 'Reformada, equipada con electrodomésticos'\n",
      " 'Americana, abierta al salón.' 'Independiente.' 'Nueva cocina americana'\n",
      " 'Exterior' 'Independiente y equipada' 'Totalmente equipada con menaje'\n",
      " 'Vitro' '13m²' 'Tipo americana, totalmente equipada'\n",
      " '16m² con salida al patio y jardín' 'Independiente y totalmente equipada'\n",
      " 'Abierta tipo americana, equipada' 'Abierta al comedor'\n",
      " 'Americana-equipada' 'Tipo americana' 'Idependiente' 'Salón - comedor'\n",
      " 'Con salida a porche' 'Office con salida a patio' '6m²' 'Horno' 'Cerrada'\n",
      " 'Todo en un espacio abierto' 'Dos en cada planta'\n",
      " 'Independiente con lavadero' 'Con salida a terraza'\n",
      " 'Incorporada en el comedor  (office) .'\n",
      " 'Independiente totalmente equipada' 'Cocina totalmente equipada'\n",
      " 'Con office' 'Equipada- amueblada' '21 m²'\n",
      " 'Moderna y equipada con electrodomésticos' 'Salón cocina' 'Separada'\n",
      " 'Americana o abierta' 'Equipada con todos los electrodomésticos'\n",
      " 'Reformada a estrenar' 'Con office. Equipada' 'Cocina buen estado'\n",
      " 'Estilo americano' 'Integrada en el salón'\n",
      " 'Integrada al salón con su isla y balcón propio.'\n",
      " 'Con todos los electrodomésticos'\n",
      " 'Integrada en el salón con menaje completo' 'C0n electrodomésticos'\n",
      " 'Completamente equipada integrada al salón' 'Amplia'\n",
      " 'Con electrodomésticos de alta gama' 'Amplia ,moderna'\n",
      " 'Amplia y equipada con electrodomésticos'\n",
      " 'Amueblada  y con electrodomesticos'\n",
      " 'Independiente totalmente equipada y amueblada'\n",
      " 'Amueblada con lavadora y frigo' 'Sin lavavajillas:'\n",
      " 'Sin lavavajillas . Con lavadora.' 'Con gran electrodomesticos'\n",
      " 'Muy amplia con zona de comedor y equipada' 'Cocina en isla'\n",
      " 'Amplia y equipada' 'Independiente con zona de office'\n",
      " 'Independiente con zona de office y galería' 'Con electrodomesticos'\n",
      " 'Independiente con office y galería' 'Indep.'\n",
      " 'Cocina equipada con salida a galería' 'Con electrodomésticos'\n",
      " 'Nevera, lavadora, lavavajillas, microndas' 'Bien equipada'\n",
      " 'Cocina-comedor' 'Con barra americana' 'Abierta al salón comedor'\n",
      " 'Equipada con lavavajillas, horno, microondas' 'Equipada con menaje'\n",
      " 'Completa con ajuar de cocina' 'Equipada, integrada'\n",
      " 'A estrenar, con o sin electrodomésticos' 'Toda equipada' 'Con galeria'\n",
      " 'Nevera,lavadora, secadora, lavavajillas, microonda' 'Estrenar'\n",
      " 'Lavadora' 'Muy luminosa, con electrodomésticos a estrenar'\n",
      " 'Office amueblada y con electrodomésticos'\n",
      " 'Con salida a lavadero, y terraza con barbacoa'\n",
      " 'Toda equipada,vitro, horno, nevera, lavadora, lava'\n",
      " 'Nueva a estrenar,totalmente equipada'\n",
      " 'Cocina muy grande con electrodomesticos' 'Con electodomésticos'\n",
      " 'Diseño, amueblada y equipada con electrodomésticos'\n",
      " 'Individual. Reformada' 'Con comedor en la misma' 'Oficce'\n",
      " 'Cocina integrada en el salon' 'Cocina con electrodomesticos'\n",
      " 'No hay lavavajillas ni horno' 'Independiente equipada' 'Amueblada c/e'\n",
      " 'Americana amueblada c/e' 'Americana con electrodomesticos'\n",
      " 'De 30 m² amuebla c/e' 'Cocina con terraza de servicio'\n",
      " 'Americana amueblada' 'Moderna y equipada'\n",
      " 'Cocina no amueblada. Cocina americana.' 'Amueblada equipada'\n",
      " 'Amueblada y con electrodomésticos'\n",
      " 'Completamente equipada y abierta al salón'\n",
      " 'Kitchen equipped, kitchenette' 'Equipado'\n",
      " 'Kitchen equipped, open plan kitchen, kitchenette' 'Con electrodoméstico'\n",
      " 'Diafana' 'Americana equipada con todo' 'Moderna'\n",
      " 'Cocina completamente equipada' 'Amueblada integrada en salón'\n",
      " 'Semiamueblada' 'Amueblada y electrodomesticos'\n",
      " 'De origen excepto los electrodomésticos' 'Con balcon' 'Euipada' 'Cocina'\n",
      " 'Comedor' 'Montada' 'De trabajo a patio' 'Copleta'\n",
      " 'Interior, con zona de comedor' 'Cocina completa americana'\n",
      " 'Equipada. Exterior al sur y con acceso a balcón-la'\n",
      " 'Muy espaciosa y en un solo espacio abierta al saló'\n",
      " 'Independiente con comedor' '10' 'Cocina-comedor exterior con balcón'\n",
      " 'Equipada - americana abierta al salón' 'Equipada abierta al salón'\n",
      " 'Cocina comedor exterior' 'Cocina compartida equipada'\n",
      " 'Cocina equipada exterior' 'Interior equipada'\n",
      " 'Equipada con salida a terraza' 'Con tendedero'\n",
      " 'Equipada con espacio para comer' 'Balcon' 'Independiente, con despensa'\n",
      " 'Equipada abierta' 'Equipada americana' 'Equipada nueva'\n",
      " 'Si grande 15 mtrs' 'Totalmente equipada nueva'\n",
      " 'Cocina equipada con balcón' 'Si, equipada' 'Equipada amplia'\n",
      " 'Si, equipada, americana' 'Equipada nueva abierta al salón'\n",
      " 'Equipada con colgador' 'Equipada con comedor'\n",
      " 'Equipada estilo americano' 'Equipada con terraza amplia abierta'\n",
      " 'Unida al salon y equipada' 'Totalente equipada'\n",
      " 'Equipada e independiente' 'Con terraza tendedero'\n",
      " 'Exterior, totalmente equipada' 'Amplia, con terraza tendedero'\n",
      " 'Vitroceramica. Caldera de gas ciudad' 'Independiente, vitroceramica'\n",
      " 'Vitroceramic,equipada' 'Amplia y reformada' 'amueblada y pequeña'\n",
      " 'Amueblada y electrodomésticos' 'Propia' 'Muebles + electrodomesticos'\n",
      " 'Abierta a comedor']\n",
      "\n",
      "Valores únicos en la columna 'agua': [nan 'Termo electrico' 'Si' 'Available' 'Gasóleo' 'Dada de alta' 'Central'\n",
      " 'Butano' 'Gas ciudad' 'Termo gas' 'Gas natural' 'Otros' 'Agua potable'\n",
      " 'Aerotermia' 'Agua individual' 'Individual_electrica'\n",
      " 'Central_con_contador_individual' 'Individual_gas' 'Si_sin_detallar'\n",
      " 'Toma_de_gas' 'Individual_propano' 'Individual_gasoleo' 'Termo eléctrico'\n",
      " 'Central con contador' 'Caliente por termo eléctrico'\n",
      " 'Central con contador individual' 'Comunitaria'\n",
      " 'Tiene suministro de agua.' 'Agua caliente mediante aerotermia' 'Caldera'\n",
      " 'Caliente' 'Individual_butano' 'Propano']\n",
      "\n",
      "Valores únicos en la columna 'aire_acondicionado': ['Frío' nan 'Preinstalación' 'Si' 'Frío y calor'\n",
      " 'Split salon y dormitorio principal' 'Centralizado'\n",
      " 'En salon y dormitorio' 'No tiene aire' 'Dormitorio principal'\n",
      " 'Frío-calor' 'En salon' 'Dos consolas' 'Frío/calor centralizado'\n",
      " 'Ventiladores de techo' 'Sin especificar' 'Aire en el salón'\n",
      " 'Centraizado' 'En salon y dos dormitorios'\n",
      " 'Máquinas de aire en toda la casa' 'Salón y dormitorio principal'\n",
      " 'Splits y unidades' 'Una consola en cada habitacion salon' 'Frío/calor'\n",
      " 'Frío y calor salón' 'Preinstalacion' 'Frío/carlor' 'Split'\n",
      " 'Si - centralizado-frio/calor' 'A/a f/c' 'Comunitario' 'Instalación'\n",
      " 'Ventiladores' 'A/a' 'De ventana' 'Split salon' 'A/a f/c centralizado'\n",
      " 'Climatizador' 'Aire acondicionado centralizado' 'Individual a/c units'\n",
      " 'Ceiling cooling system' 'Splits' '2 split' 'Centralizada' 'Tres split'\n",
      " 'Aereotermia' 'Por conductos' 'Aerotermia' 'aerotermia' 'Yes'\n",
      " 'Conductos centrales' 'A/a por conductos' 'Por conducto'\n",
      " 'Con bomba de calor' 'Bomba calor y frio' 'Ventilarores'\n",
      " 'Suelo refrescante' 'Hot cold' 'Chimenea' 'A/a f/c por conductos'\n",
      " 'Split en el salon' '1 en salón'\n",
      " 'Aire acondicionado por conductos frio calor'\n",
      " 'Preinstalación por conductos' 'Split en el salón' 'Conductos'\n",
      " 'Posiblemente pondrán' 'Aire acondicionado' 'Caleffacion de gas' 'No'\n",
      " 'En el salon comedor' 'Aire acondicionado frío/calor']\n",
      "\n",
      "Valores únicos en la columna 'terraza': ['Si' nan '2' 'De 10 m²' '8 m²' '20 m²' 'De 9 m²' 'De 8 m²' 'Acristalada'\n",
      " '20 m' '10 m²' '16 m²' '4.00 m²' '15 m²' '5 m²'\n",
      " 'Dos, una de 8 m² y otra de 10 m²' '15.00 m²' 'De 15 m²'\n",
      " 'Con vistas al mar' '3 m²' '70 m²' '60 m²' '10.00 m²' '40 m²' 'De 6 m²'\n",
      " '12 m²' 'Tres' '20.00 m²' '88.00 m²' 'Dada al salón' '25 m²'\n",
      " 'Con vista al mar' '50 m²' 'Amplia' '3.00 m²' 'Dos' '30 m²' 'De 25 m²'\n",
      " 'Available' 'M2' '26.26m²' 'Saliendo desde dormitorio principal.'\n",
      " 'Saliendo del salon' '8' 'Comunitaria' 'Dispone de dos terrazas'\n",
      " '40 metros' '48mt' '60.00 m²' '1' '2 ambientes' '62m²' '15 mt.'\n",
      " 'No acristalada' '9 m²' '18 m²' '11mt' '16 mt' '27 metros'\n",
      " 'Amplia con vistas' 'Vista al mar' '2 terrazas' '25m²' 'Vistas al mar'\n",
      " '3' 'Dos terrazas alargadas' 'La terraza tiene 100 metros cuadrados'\n",
      " 'Vista al mar mediterraneo' '15' 'mtrs=10' '10' '9'\n",
      " 'Covered terrace, uncovered terrace' 'Private terrace'\n",
      " '2 terrazas con 13,96 m²' 'Varias terrazas' 'De unos 15m²'\n",
      " 'Private terrace, covered terrace' 'Covered terrace'\n",
      " 'Private terrace, covered terrace, uncovered terrac' '60ma'\n",
      " 'Terraza cubierta' '35 m²' 'Con 4 metros cuadrados aproximadamente.'\n",
      " 'Con 6 metros cuadrados aproximadamente.' '2 grandes terrazas con toldo'\n",
      " 'Adosada al salón' '97 m72' 'Con 128 metros cuadrados aproximadamente.'\n",
      " 'Con 100 metros cuadrados aproximadamente.' '12' 'Terraza' '35'\n",
      " '90 metros' 'Muy amplia' 'Private terrace, uncovered terrace' '27' '80'\n",
      " '6' '67' '3m²' '5m²' '50 metros'\n",
      " '-una galería cerrada, salida desde la cocina'\n",
      " '- en salón a sagasta con toldo y armario almacenaje. - galeria en cocina a patio de luces, zona tendedor y armario aluminio de almacenaje'\n",
      " '-salida desde el salón -cerrada -exterior a fdo. Católico'\n",
      " 'Arriba de 60metros' '4' '40m²' 'Al sur' 'En cocina descubierta'\n",
      " 'Salon y cocina cubierta' '2,30 m²' 'Cerrada en la cocina'\n",
      " '1 terraza y 1 balcón' '0 metros cuadrados' '2 cerradas' 'Cerrada'\n",
      " 'Interior cocina' 'Cerrada en salón' '4 metros cuadrados'\n",
      " 'Pequeña en la cocina' 'En el salón' '12 metros cuadrados'\n",
      " 'Balcón con vistas y galería cerrada' 'Balcón' '10 metros cuadrados'\n",
      " 'Solarium' '16' 'Grande' '53' 'Tiene terraza.' '138 m²' '66 m²' 'Toldo'\n",
      " 'Amplia y despejada' '50m² solarium y 30m²' '5 metros'\n",
      " 'Terraza solarium en la cubierta' 'Con toldo' 'Desde el comedor' '30 mts'\n",
      " 'Privada interior' '20m²' '15m' 'Privada'\n",
      " 'Terraza de 50m² de uso privativo independiente'\n",
      " 'De uso privado aproximadamente de 20m²' '19 m²' '10m² patio' '30m²'\n",
      " 'Privada de 19 m²' '3ra planta' 'Vista frotal mar'\n",
      " 'Amplia terraza de 80 m²' 'Vista frontal al mar'\n",
      " 'Vistas zona comunitaria' 'Vista al pueblo' 'Vista mar'\n",
      " 'Vista al mar frontal' 'Vista frontal mar' 'Porche cubierto'\n",
      " 'Grande ,  con vista lateral a la playa' 'Si y solariun privado'\n",
      " 'Chill out con vistas al mar' 'Si , grande' 'Muy grande,  de 2o metros .'\n",
      " 'Vista lateral a la playa' '5' 'Gran mirador para 2 sillas y una mesita.'\n",
      " 'Dos terrazas de 60 m² cada uno'\n",
      " 'Una a pie de salón y otra amplia en planta alta.'\n",
      " 'En azotea con vistas  de madrid' '20 mt'\n",
      " '12 mts( a pie salon) y 80 mts en cubierta'\n",
      " 'Con espacio para mesa y tumbonas' '30  m²' 'De unos 8m²' '125 m²'\n",
      " '3 terrazas' 'mtrs=0' 'En azotea' 'En el dormitorio'\n",
      " 'En una de las habitaciones' '100' 'De unos 10m²' '6m²'\n",
      " 'Dos terrazas, una al salón y otra a la cocina.' '35m²' 'Mas de 18m²'\n",
      " 'De 40 m².' 'Orientada al sur' '10 mts' '6.69' '90' '59.9' 'Balcones'\n",
      " '4 metros' 'Abierta' '20' 'mtrs=3' '2 balcones' 'mtrs=2'\n",
      " 'Enorme terraza propia de 100 m²' 'Cubierta' 'Acristalada muy amplia'\n",
      " 'Terraza de 25 m²' 'Terraza de 40 m²' 'De unos 35 metros'\n",
      " 'Terraza de 8 m²' 'Enorme con vistas al mar' 'Frontal al mar'\n",
      " 'Amplia terraza con vistas mar' 'En esquina de 53 metros' '90.00 m²'\n",
      " 'Delantera' '2 terrazas grandes, una por cada lado' 'Interior'\n",
      " 'Terraza interior' 'Dos grandes terrazas' 'Dos terracitas'\n",
      " 'De unos 40 m²' 'Amplia encima del piso' '25' 'Comunitaria para tender'\n",
      " '2 terrazas: 28m² y 16 m²' '9 metros cuadrados' '20 metros cuadrados'\n",
      " '19' '22 metros cuadrados' '200m²' '80 metros cuadrados' '70'\n",
      " 'Delante salón' 'Porche cubierto de 25.6m²  y exterior de piscina'\n",
      " 'mtrs=6' 'mtrs=20' 'mtrs=70' 'mtrs=30' '20 metros' 'mtrs=90'\n",
      " 'Con jardin propio' '2: vistas al mar + detrás'\n",
      " '19m² en planta y 40m² en azotea' 'mtrs=40' 'Pequeña' 'Tres terrazas'\n",
      " '40 m² aprox' 'mtrs=9' 'Dos terrazas'\n",
      " 'De las mejor situadas en oasis la caleta' '29m²'\n",
      " 'Cenador para 15 personas cerrado' 'No' 'A uria'\n",
      " 'Con vistas a una piscina' 'Con vistas a las piscinas' '8.00'\n",
      " '30 m² de terraza principal' '0 m² de terraza principal'\n",
      " '15 m² de terraza principal' '20 m² de terraza principal'\n",
      " '40 m² de terraza principal' '6 m² de terraza principal'\n",
      " '10 m² de terraza principal' 'Con impresionantes vistas']\n",
      "\n",
      "Valores únicos en la columna 'armarios_empotrados': ['1' nan '2' 'Empotrados dos' 'Empotrados uno' 'Sin especificar'\n",
      " '3 empotrados' 'Más de 2' '2 empotrados' 'Si' 'Empotrados'\n",
      " 'Empotrados tres' '1 empotrado'\n",
      " 'Empotrados 3 (uno en cada dormitorio 1 pasillo)' 'Empotrdos'\n",
      " '4 empotrados' 'Cuatro' 'Uno en cada dormitorio y uno en recibidor'\n",
      " 'Empotrado' 'Armario normal' 'Mas de 10' 'Armarios empotrados'\n",
      " 'Empotrados 7' 'Sin armarios'\n",
      " 'Y más espacio de almacenaje en buhardilla y traste'\n",
      " 'Todas las habitaciones tienen su armario empotrado'\n",
      " '3 armarios empotrados' 'Tiene 1 armarios empotrados'\n",
      " 'Tiene 2 armarios empotrados' 'Tiene 3 armarios empotrados'\n",
      " 'Dos empotrados' 'Tiene armario empotrado.'\n",
      " 'Todas las estancias tienen armarios empotrados'\n",
      " '+12 armarios empotrados' 'Armario no empotrado'\n",
      " 'Empotrados en las habitaciones' 'En todas las habitaciones'\n",
      " 'Empotrados y vestidos' '1 armario de 3 metros'\n",
      " 'Todos los dormitorios disponen de muchos armarios'\n",
      " 'En cada dormitorio y en el pasillo'\n",
      " 'En todas las habitaciones y vestidor en la habitac' 'A/e en habitación'\n",
      " '3 emp.' '4 forrados y vestidos' 'Armario para ropa de baño y enseres .'\n",
      " 'Y vestidor' 'Tiene 4 armarios empotrados' 'Tiene 6 armarios empotrados'\n",
      " 'Armario de invitados' '1 y un cuarto para la plancha'\n",
      " 'En dos dormitorios' '2 armarios empotrados' '4 armarios empotrados'\n",
      " '1 armarios empotrados']\n",
      "\n",
      "Valores únicos en la columna 'balcon': [nan 'Si']\n",
      "\n",
      "Valores únicos en la columna 'garaje': ['1' nan 'Si' '2' 'Comunitario' 'Comunitario 1 plazas' 'Más de 2'\n",
      " 'Privado 2 plazas' 'Con 7 garaje/s' 'Sot-3 582x220'\n",
      " '-en la misma finca -para coche grande y moto 537x307' 'Con 1 garaje/s'\n",
      " 'Con 2 garaje/s']\n",
      "\n",
      "Valores únicos en la columna 'puerta_blindada': [nan 'Si' 'Internet por fibra' 'Puerta acorazada' 'Acorazada' 'Seguridad'\n",
      " 'Lacada en blanco' 'De entrada' 'Con cerradura de seguridad'\n",
      " 'Herrajes de seguridad' 'Tiene puerta blindada.']\n",
      "\n",
      "Valores únicos en la columna 'adaptado_a_personas_con_movilidad_reducida': [nan 'Si']\n",
      "\n",
      "Valores únicos en la columna 'ascensor': ['Si' nan '2' '3' '4' 'Con ascensor' 'Ascensor'\n",
      " 'Hasta azotea del edificio' 'A cota cero 104x065' '115x98 088x094'\n",
      " '-a cota cero' 'Llega hasta el 4º piso' 'Desde el 1ºer piso'\n",
      " 'Sin barreras' 'Dos ascensores' 'Tiene ascensor.' 'No' 'No tiene'\n",
      " 'Instalado, a falta de permisos y licencias' 'Precioso de madera'\n",
      " 'En entreplanta' 'Dos' '3 ascensores' '6' 'Sí, dos' 'En la entre-planta.'\n",
      " '5' 'Tiene 2 ascensores' '2 ascensores' '6 personas' 'A cota cero'\n",
      " '6 escaleras' 'Subir una planta']\n",
      "\n",
      "Valores únicos en la columna 'alcantarillado': [nan 'Si']\n",
      "\n",
      "Valores únicos en la columna 'portero_automatico': [nan 'Si' 'Videoportero' 'Available' 'Videportero' 'Video portero'\n",
      " 'Porteria 24 horas' 'Portero electronico' 'E' 'Portero físico'\n",
      " 'lunes a domingo' 'Con cámara' 'Conserje' 'Y físico'\n",
      " 'Dispone también de conserje' 'Dispone' 'Y fisico'\n",
      " 'Tiene portero automático.']\n",
      "\n",
      "Valores únicos en la columna 'exterior': ['Si' nan 'Todo exterior hace esquina' 'Con vistas al mar'\n",
      " 'Toda la vivienda' 'Magnificas vistas al mar' 'Vistas al mar'\n",
      " 'Terraza en salon' 'Vistas frontales al mar' 'Buenas vistas'\n",
      " 'Buenas vistas.' 'Salón y dormitorio princial' '2 habitaciones'\n",
      " 'Suite y salon' '1d y salon' 'Excepto baños' 'Todo exterior'\n",
      " 'Dormitorios, cocina y salon' 'Ladrillo' 'Soleado'\n",
      " 'A amplio patio de manzana' 'Exterior' 'Acceso directo a plaza'\n",
      " 'Muy luminoso' '2 estancias' 'Balcones a la alameda de hercules'\n",
      " 'Terraza' 'Entero' 'Salón y los 3 dormitorios'\n",
      " 'Salón a torres villarroel' 'Salón y 1 dor.'\n",
      " 'Todo, excepto cocina y baños' 'Semiexterior' 'Gran terraza de 40 m²'\n",
      " 'A calle reina amalia' 'Totalmente exterior' 'Salón, cocina, suite.'\n",
      " 'Habitación y salón' 'Luminoso' 'Vistas al vecindario'\n",
      " 'Con vistas al exterior' 'Exterior calle' 'Terraza privada'\n",
      " 'Con vistas a la calle' 'Con terraza cubierta' 'Bastante luminoso'\n",
      " 'Vista mar' 'Esquinero' 'Primera linea playa'\n",
      " 'Con vistas a la piscina comunitaria' 'Con vistas al mar 1º linea'\n",
      " 'Ultima planta' 'Son ascensor'\n",
      " '5 balcones con grandes ventanales a la calle.' 'Exterior patio manzana'\n",
      " 'Muy luminoso por estar en esquina' 'Toda la casa' 'Todos' 'Salon'\n",
      " 'Con vistas  a la calle' 'Hace esquina' 'Excelente'\n",
      " 'Con vistas al mar y puerto'\n",
      " 'Esquinero, todas las dependencias con terraza' 'Terraza, trastero'\n",
      " 'amplio balcon' 'Todo el bajo exterior' 'Todo el piso exterior'\n",
      " 'Piso completamente exterior, a excepción del baño.'\n",
      " 'Zonas comunes de ocio instalaciones deportivas' 'A plaza pública'\n",
      " 'Vista al mar' 'Vista desde el salón al mar' 'Vistas a la zona privada'\n",
      " 'Dos terrazas' 'Interior' 'Totalmente' 'Parte exterior'\n",
      " 'Salón 2 salidas terraza' 'Todo' '3 huecos' 'Muy soleado'\n",
      " 'Vistas increibles a bilbao' 'Vistas despejadas'\n",
      " 'Vistas al campo san francisco' 'Con vistas al cadi i a la tossa de alp'\n",
      " 'Con jardin privado']\n",
      "\n",
      "Valores únicos en la columna 'piscina': ['Comunitaria' nan 'Privada' 'Si' 'Propia' 'Comunitarias (2 + 1 cubierta)'\n",
      " 'Sin especificar' 'Individual' 'Todo el año' 'Niños y adultos'\n",
      " 'Abierta todo el año' 'De temporada estival' 'Climatizada' 'Infantil'\n",
      " 'Si,' 'Parking comunitario' 'Comunitaria, indoor pool, heated pool'\n",
      " 'Propia, indoor pool' 'Interior' 'Con piscina' 'Private' 'Yes'\n",
      " 'Centro de lavado comunitario' 'Jacuzzi' 'Community' 'Pista de padel'\n",
      " 'Con sauna y jacuzzi' 'Pista padel, gimnasio, club social, zona infantil'\n",
      " 'Otro' 'No' 'Tres en comunidad.' 'Tres en comunidad' 'Tres comunitarias'\n",
      " '3 en comunidad']\n",
      "\n",
      "Valores únicos en la columna 'calle_alumbrada': [nan 'Si']\n",
      "\n",
      "Valores únicos en la columna 'lavadero': ['Si' nan '15 m²' '10 m²' 'Avcristalado' 'Independiente en baño de fuera.'\n",
      " 'Con secadora' 'Independiente' 'No' 'Lavadora y secadora'\n",
      " 'Si en patio cerrado' 'Exterior' 'Amplio' 'Cerrado'\n",
      " 'Con lavadora y termo' 'Independiente y acristalado'\n",
      " 'Lavadero independiente' 'Con acceso a terraza' 'En la cocina'\n",
      " 'Pequeña terraza - tendedero en la cocina' 'Lavadero y zona de servicio'\n",
      " 'Lavadora, secadora, armarios de limpieza' 'Totalmente equipado'\n",
      " 'Acceso desde la cocina' 'Exterior en zona patio'\n",
      " 'Con salida a la terraza' 'Individual' 'Reformado' 'Lavadora'\n",
      " 'Tendedero en patio  tambien' 'Cubierto' 'Terraza tendedero' 'Grande'\n",
      " 'Con la cocina' 'En patio interio' 'Desde la cocina'\n",
      " 'Galería con lavadora.' 'Toma lavadora y secadora. Zona de almacenaje'\n",
      " 'Galeria' 'Lavavajillas' 'Con lavadora' 'Galeria cerrada' 'Galería'\n",
      " 'Semi cerrado' 'Cubierto. Acceso desde la cocina' 'Salida desde cocina'\n",
      " 'Con acceso desde la cocina' '2 galerias cerradas' 'Galeria en la cocina'\n",
      " 'Se encuentra en la ultima planta' 'Con lavadora secadora'\n",
      " 'Lavadera en terraza de servicio' 'En zona de cocina'\n",
      " 'Integrado en la cocina' 'Disponible' '5m²' 'En baño en planta baja'\n",
      " 'Arriba' 'Lavadero' 'Equipado' 'Solana' 'Tiene dentro de la vivienda'\n",
      " 'En la terraza.' 'Lavadora, secadora y caldera gas' 'Comunitario']\n",
      "\n",
      "Valores únicos en la columna 'amueblado': ['Si' nan 'Completamente amueblado' 'Amueblado' 'Semiamueblado'\n",
      " 'Available' 'Completa' 'Muy coqueto' 'Nuevo' 'Nuevos' 'Cocina amueblada'\n",
      " 'Completo tipo ikea' '2' '6' 'Semi amueblado' 'Moderno' 'Fully furnished'\n",
      " 'Totalmente amueblado' '3' 'No tiene tv, ni cama'\n",
      " 'Totalmente equipado y en producción' 'Opcional' 'Parcialmente amueblado'\n",
      " 'Partly furnished' '4' '31' 'Fully furnished, optional furniture'\n",
      " 'Algunos' 'Vacío' 'Nuevos modernos' 'Totalmente amueblado, muy bonito'\n",
      " 'Grandes armarios, escritorios, etc.' 'Todo' 'Totalmente' 'Completo'\n",
      " 'Esta amueblado.' 'Solo el salón comedor'\n",
      " 'Algún mobiliario en salón-comedor, dormitorios' 'Sin amueblar'\n",
      " 'Totalmente equipado' 'Con cama supletoria'\n",
      " 'Todo lo necesario para vivir cómodamente' 'A estrenar'\n",
      " 'Solo la cocina y los baños' 'No' 'Amueblada'\n",
      " 'Tal y como aparece en el anuncio' 'Calidad superior'\n",
      " 'Opcional amueblado/vacio' 'Solo cocina'\n",
      " 'No muy bien, mala calidad y poco ergonómico.'\n",
      " 'Completamente amueblado y equipado' 'Semi' 'Si completamente' 'Modernos'\n",
      " 'Modernos de estreno' 'Amueblado y con menaje de cocina' 'Con tv'\n",
      " 'Todos los muebles que se ven' 'Con muebles' 'Todo el piso amueblado'\n",
      " 'Con todos los muebles' 'Solo dormitorio principal y mesa comedor'\n",
      " 'Semi-amueblado' 'Todos los muebles de la casa' 'Opción de sin muebles'\n",
      " 'Algunos muebles pero no amueblado completamente' 'Todo a estrenar'\n",
      " 'Y con equipamiento' 'Y equipado' 'Y completamente equipado' 'Entero'\n",
      " 'Totalmente amueblado y equipado' 'Amueblado y equipado completo'\n",
      " 'Parcial' 'Actual' 'Completamente amueblada' 'Modenos']\n",
      "\n",
      "Valores únicos en la columna 'gas': [nan 'Otra compañía' 'Si' 'Sin gas' 'Butano' 'Eléctrico' 'Electrico'\n",
      " 'Gas natural' 'Agua caliente' 'Agua caliente con gas butano' 'Barbacoa'\n",
      " 'Natural' 'Iberdrola' 'El termo' 'Gas natural con contador individual'\n",
      " 'Alta' 'Propano' 'Ciudad' 'Natural (para cocinar)'\n",
      " 'Preinstalación en edificio' 'Caldera individual'\n",
      " 'Solo para el agua caliente']\n",
      "\n",
      "Valores únicos en la columna 'comedor': [nan 'Independiente' 'Si' 'Salón' '52 m²' 'Dos salones' '2' 'Available'\n",
      " 'Vistas fontales al mar' 'Con wifi y aire acondicionado' 'Salón comedor'\n",
      " '20' 'A calle' 'Amplio con balcón' 'Super amplio'\n",
      " 'Con salida a terraza soleada' 'Compartido' 'Amplio' 'Amplio de 35 m²'\n",
      " 'Muy grande tv 75*' 'Amueblado' 'Luminoso' 'Amplio y luminoso'\n",
      " 'Luminoso, con a/c' 'Integrado en el salón' 'Con estucado italiano'\n",
      " 'Indep.' 'Sala comedor de 14 m² aprox junto a cocina.'\n",
      " 'Con acceso a terraza y jardín' 'Exterior a doctor casas' 'Con terraza'\n",
      " 'De 28 m² exterior' 'Exterior' 'Salon exterior con 2 balcones' 'Comedor'\n",
      " 'Equipado' 'Grande con vistas' 'Con galeria' 'Equpado' '20,41 m²'\n",
      " 'Con todos los muebles, televisor' 'Muy amplio con salida a una terraza'\n",
      " 'Muebles del corte ingles, sofá eléctrico' 'Esquina'\n",
      " 'Con chimenea y salida a terraza'\n",
      " 'Salón comedor con zona de estar y gran salón' 'Living'\n",
      " 'Dos, una en cada una de las casas' '100.00' 'Salón-comedor'\n",
      " '27,35m² sala-comedor con cocina' '30m² con salida a terraza'\n",
      " 'Amplio 24m² con chimenea' 'Foc a terra' 'Abierta a la cocina.'\n",
      " 'Exterior con grandes ventanales.'\n",
      " 'Salida directa a gran terraza de 40 m²' 'Totalmente amueblado'\n",
      " 'Con salida a la terraza' 'De 24m² con bañera.' 'Nuevo' 'Amplio comedor'\n",
      " '30m²' 'Salón - comedor' 'Salida a dos balcones' '40m² aprox'\n",
      " 'Amplio con salida a la terraza' 'Con salida a balcón francés'\n",
      " 'Amplio de 6 puestos' 'Con salida a balcón' 'Con salida a terraza'\n",
      " 'Con salida al jardín' 'Amplio salon comedor' 'Con acceso a jardín'\n",
      " 'Muy soleado con vistas' '18m²' 'Gran comedor para 12 comensales'\n",
      " 'Con chimenea' 'Muy amplio' 'Salón-comedor , grande'\n",
      " 'Con sofa-cama y salida a terraza' 'Grande'\n",
      " 'Salón comedor con vistas al mar'\n",
      " 'Salon comedor con terrazas y vistas al mar' 'Si, grande'\n",
      " 'Grande , con chimenea' 'Gran salón comedor' '21 m²' 'Para 7 personas'\n",
      " 'Casa amueblada' 'Con salida a terraza con vistas al lago de la urba'\n",
      " '45 mts con chimenea' 'Con acceso a terraza' 'Integrado en cocina'\n",
      " 'Integrado al salón de más de 40 m². Con 4 balcones'\n",
      " 'Amplio y bien distribuido' 'Independiente desde el salón'\n",
      " 'Integrado al salon' 'Integrada en la cocina' '35 mts'\n",
      " 'Con acceso directo al jardin' 'Salon' 'Con cocina' 'De paso'\n",
      " 'En el salón' 'Muy amplio con vistas a avenida salamanca'\n",
      " 'Amplio con salida a terraza'\n",
      " 'Amplio y luminoso, divido en dos ambientes, con sa'\n",
      " 'Amplio y luminoso con salida directa a la terraza'\n",
      " 'Amplio luminoso en esquina con salida directa a la'\n",
      " 'Amplio salón-comedor con salida a una terraza'\n",
      " 'Salón comedor con salida a terraza' 'Amplio 30 metros'\n",
      " 'Amplio salón-comedor' 'Con salida al balcón'\n",
      " 'Con split de aire acondicionado' 'Muy luminoso' 'Tv' 'Completo con tv'\n",
      " 'Con tv' '35m²' 'Chaflan con salida a balcon'\n",
      " 'Amplio recayente a terraza' 'Muy grande'\n",
      " 'Amplio y luminoso con gran balcón'\n",
      " 'Amplio, exterior con acceso al balcón' 'Salón con sofá cama'\n",
      " 'Muy luminoso y  con salida a balcon' 'Comedor muy grande'\n",
      " 'Amplio. Acceso directo desde planta. A/a'\n",
      " 'Amplio con aire acondicionado' 'Con balcon aterrazado'\n",
      " 'Amplio y diafano dispone de tubo solar.' 'Comedor grande'\n",
      " 'Amplio con ventanas a calle' 'Salon comedor'\n",
      " 'Con acceso a amplia terraza' 'Señorial con lareira'\n",
      " 'Salón-comedor unidos' '27' '27 m²'\n",
      " 'Muy amplio y luminoso con vistas despejadas de 43m'\n",
      " 'Totalmente equipado' 'Salón / comedor' 'Sala de estar-comedor'\n",
      " 'Muy amplio y luminoso' 'Integrado en el salón.'\n",
      " 'Forma una parte del salón' 'Exterior con mirador'\n",
      " 'Amplio salón - comedor con chimenea'\n",
      " 'Exterior orientado al oeste, con acceso a una pequ' 'Salón exterior'\n",
      " 'Exterior al sur' 'Exterior con salida a una terraza orientada al nor'\n",
      " 'Salón y comedor en un solo espacio muy amplio fren' 'Gran salón-comedor'\n",
      " 'Exterior a la calle usandizaga' '37,10'\n",
      " 'Amplio salón exterior con balcón' 'Salón-cocina americana exterior'\n",
      " 'Exterior con acceso a terraza' 'Exterior con salida a bonita terraza'\n",
      " 'Salóñ comedor exterior'\n",
      " 'Exterior a patio de manzana con agradable terraza'\n",
      " 'Exterior a patio de manzana' 'Con comedor' 'Americano'\n",
      " 'Comedor con terraza' 'Salón-comedor con terraza' 'Salon-comedor'\n",
      " 'Abierto a cocina' 'No' 'Salón comedor con mirador' 'Equipada'\n",
      " 'Amplio con mirador' 'No hay sala' 'Con salida a terraza de 30m²' 'Sala'\n",
      " 'Salón comedor abierto' 'Amplio con comedor'\n",
      " 'Amueblado - ropa de cama, menaje, tv, wifi incluid'\n",
      " 'Amplio con mucha luz' 'Salón comedor con dos balcones'\n",
      " 'Amueblado con terraza' '- comedor' 'Salón comedor equipado nuevo'\n",
      " 'Amplio con balcon' 'Salon comedor con vistas  a al ria'\n",
      " 'Amplio y equipado' 'Amueblado vistas parque' 'Sin amueblar'\n",
      " 'Con sofá cama (1,60)' 'Amplico con gran comedor'\n",
      " 'Equipado - ropa de cama, menaje, tv, wifi incluido' 'Impresionante'\n",
      " 'Con 2 camas' 'Espacioso, exterior' 'Salon - comedor'\n",
      " 'Con precioso balcón' 'Sofa-cama 1,35' '36 m'\n",
      " 'Inmejorables vistas a la playa' 'Salón/comedor' 'Con sofa cama']\n",
      "\n",
      "Valores únicos en la columna 'chimenea': [nan 'Si' '2' 'Leña' 'Chimenea abierta' 'Con bioetanol' 'Chimenea' 'Salón'\n",
      " '4' 'Salón-comedor' 'Dos chimeneas en las salas de estar' 'No' 'Cocina'\n",
      " 'En el salón' 'En la cocina' 'En funcionamiento'\n",
      " 'En el salón casette cerrado' 'Llar de foc']\n",
      "\n",
      "Valores únicos en la columna 'no_se_aceptan_mascotas': [nan 'Si']\n",
      "\n",
      "Valores únicos en la columna 'telefono': [nan 'Si' 'Wifi' 'Fibra óptica' 'Cableado' 'Wifi incluido']\n",
      "\n"
     ]
    }
   ],
   "source": [
    "# Crear un diccionario para almacenar los valores únicos de cada columna\n",
    "valores_unicos = {}\n",
    "\n",
    "# Iterar sobre cada columna conflictiva y obtener los valores únicos\n",
    "for col in columnas_si_no:\n",
    "    valores_unicos[col] = df[col].unique()\n",
    "\n",
    "# Mostrar los valores únicos de cada columna\n",
    "for col, valores in valores_unicos.items():\n",
    "    print(f\"Valores únicos en la columna '{col}': {valores}\\n\")"
   ]
  },
  {
   "cell_type": "code",
   "execution_count": 129,
   "metadata": {},
   "outputs": [],
   "source": [
    "# Vamos a aplicar una logica común ya que este dato en la página da tres posibilidades:\n",
    "# Escribir la caracteristica concreta o especificar que si, lo hemos reducido a \"Si\" por simplificar\n",
    "# Escribir que no, implica confirmación de que no se da esa caracteristica en dicho inmueble por lo que la tratamos como \"No\"\n",
    "# La tercera opción es que devolviera la clave valor vacía, lo que significa que no se especifica, de esta forma no nos inventamos información\n",
    "def limpiar_columnas_si_no(valor, valores_unicos):\n",
    "    if pd.isna(valor) or valor.strip() == \"\":\n",
    "        return \"Sin especificar\"\n",
    "    if valor == \"Sin especificar\":\n",
    "        return valor\n",
    "    elif \"no\" in valor.lower().split():\n",
    "        return \"No\"\n",
    "    else:\n",
    "        return \"Si\"\n",
    "\n",
    "# Iterar sobre cada columna conflictiva y limpiar los valores\n",
    "for col in columnas_si_no:\n",
    "    valores_unicos = df[col].dropna().unique()\n",
    "    df[col] = df[col].apply(lambda x: limpiar_columnas_si_no(x, valores_unicos))"
   ]
  },
  {
   "cell_type": "code",
   "execution_count": 130,
   "metadata": {},
   "outputs": [
    {
     "name": "stdout",
     "output_type": "stream",
     "text": [
      "Valores únicos en la columna 'luz': ['Sin especificar' 'Si']\n",
      "\n",
      "Valores únicos en la columna 'sistema_de_seguridad': ['Si' 'Sin especificar']\n",
      "\n",
      "Valores únicos en la columna 'vidrios_dobles': ['Si' 'Sin especificar' 'No']\n",
      "\n",
      "Valores únicos en la columna 'se_aceptan_mascotas': ['Sin especificar' 'Si']\n",
      "\n",
      "Valores únicos en la columna 'calefaccion': ['Si' 'Sin especificar' 'No']\n",
      "\n",
      "Valores únicos en la columna 'jardin': ['Si' 'Sin especificar']\n",
      "\n",
      "Valores únicos en la columna 'trastero': ['Sin especificar' 'Si']\n",
      "\n",
      "Valores únicos en la columna 'gastos_de_comunidad': ['Sin especificar' 'Si' 'No']\n",
      "\n",
      "Valores únicos en la columna 'cocina_equipada': ['Si' 'Sin especificar' 'No']\n",
      "\n",
      "Valores únicos en la columna 'agua': ['Sin especificar' 'Si']\n",
      "\n",
      "Valores únicos en la columna 'aire_acondicionado': ['Si' 'Sin especificar' 'No']\n",
      "\n",
      "Valores únicos en la columna 'terraza': ['Si' 'Sin especificar' 'No']\n",
      "\n",
      "Valores únicos en la columna 'armarios_empotrados': ['Si' 'Sin especificar' 'No']\n",
      "\n",
      "Valores únicos en la columna 'balcon': ['Sin especificar' 'Si']\n",
      "\n",
      "Valores únicos en la columna 'garaje': ['Si' 'Sin especificar']\n",
      "\n",
      "Valores únicos en la columna 'puerta_blindada': ['Sin especificar' 'Si']\n",
      "\n",
      "Valores únicos en la columna 'adaptado_a_personas_con_movilidad_reducida': ['Sin especificar' 'Si']\n",
      "\n",
      "Valores únicos en la columna 'ascensor': ['Si' 'Sin especificar' 'No']\n",
      "\n",
      "Valores únicos en la columna 'alcantarillado': ['Sin especificar' 'Si']\n",
      "\n",
      "Valores únicos en la columna 'portero_automatico': ['Sin especificar' 'Si']\n",
      "\n",
      "Valores únicos en la columna 'exterior': ['Si' 'Sin especificar']\n",
      "\n",
      "Valores únicos en la columna 'piscina': ['Si' 'Sin especificar' 'No']\n",
      "\n",
      "Valores únicos en la columna 'calle_alumbrada': ['Sin especificar' 'Si']\n",
      "\n",
      "Valores únicos en la columna 'lavadero': ['Si' 'Sin especificar' 'No']\n",
      "\n",
      "Valores únicos en la columna 'amueblado': ['Si' 'Sin especificar' 'No']\n",
      "\n",
      "Valores únicos en la columna 'gas': ['Sin especificar' 'Si']\n",
      "\n",
      "Valores únicos en la columna 'comedor': ['Sin especificar' 'Si' 'No']\n",
      "\n",
      "Valores únicos en la columna 'chimenea': ['Sin especificar' 'Si' 'No']\n",
      "\n",
      "Valores únicos en la columna 'no_se_aceptan_mascotas': ['Sin especificar' 'Si']\n",
      "\n",
      "Valores únicos en la columna 'telefono': ['Sin especificar' 'Si']\n",
      "\n"
     ]
    }
   ],
   "source": [
    "# Crear un diccionario para almacenar los valores únicos de cada columna\n",
    "valores_unicos = {}\n",
    "\n",
    "# Iterar sobre cada columna conflictiva y obtener los valores únicos\n",
    "for col in columnas_si_no:\n",
    "    valores_unicos[col] = df[col].unique()\n",
    "\n",
    "# Mostrar los valores únicos de cada columna\n",
    "for col, valores in valores_unicos.items():\n",
    "    print(f\"Valores únicos en la columna '{col}': {valores}\\n\")"
   ]
  },
  {
   "cell_type": "code",
   "execution_count": 131,
   "metadata": {},
   "outputs": [],
   "source": [
    "# Limpieza y unión en la columna 'se_aceptan_mascotas' \n",
    "df['se_aceptan_mascotas'] = df.apply(lambda row: 'Si' if row['se_aceptan_mascotas'] == 'Si' else \n",
    "                                                ('No' if row['no_se_aceptan_mascotas'] == 'Si' else 'Sin especificar'), axis=1)\n",
    "\n",
    "df = df.drop(columns=['no_se_aceptan_mascotas'])"
   ]
  },
  {
   "cell_type": "code",
   "execution_count": 132,
   "metadata": {},
   "outputs": [
    {
     "data": {
      "text/plain": [
       "orientacion\n",
       "Sur                  1305\n",
       "Este                  903\n",
       "Sureste               593\n",
       "Oeste                 413\n",
       "Norte                 374\n",
       "                     ... \n",
       "Este/oeste              1\n",
       "Norte::sur::este        1\n",
       "Sur este                1\n",
       "Nordeste, sudeste       1\n",
       "S/e, s/o                1\n",
       "Name: count, Length: 92, dtype: int64"
      ]
     },
     "execution_count": 132,
     "metadata": {},
     "output_type": "execute_result"
    }
   ],
   "source": [
    "df['orientacion'].value_counts()"
   ]
  },
  {
   "cell_type": "code",
   "execution_count": 133,
   "metadata": {},
   "outputs": [],
   "source": [
    "# Limpieza en la columna orientacion\n",
    "mapeo_direcciones = {\n",
    "    'norte': 'NORTE', 'n': 'NORTE', 'sur': 'SUR', 's': 'SUR', \n",
    "    'este': 'ESTE', 'e': 'ESTE', 'oeste': 'OESTE', 'o': 'OESTE', \n",
    "    'suroeste': 'SUROESTE', 'so': 'SUROESTE', 'sureste': 'SURESTE', \n",
    "    'se': 'SURESTE', 'noreste': 'NORESTE', 'ne': 'NORESTE', \n",
    "    'noroeste': 'NOROESTE', 'no': 'NOROESTE', 'este-sur': 'SURESTE', \n",
    "    'sur-oeste': 'SUROESTE', 'norte|este': 'NORESTE', 'norte|oeste': 'NOROESTE',\n",
    "    'sur|este': 'SURESTE', 'north/east': 'NORESTE', 'north/west': 'NOROESTE',\n",
    "    'south/east': 'SURESTE', 'south/west': 'SUROESTE', 'sur|oeste': 'SUROESTE',\n",
    "    'norte|este|oeste': 'NORTE', 'se': 'SURESTE', 'sur, este, oeste': 'SUR',\n",
    "    'norte::este': 'NORESTE', 'norte::oeste': 'NOROESTE', 'sur::este': 'SURESTE', \n",
    "    'sur::oeste': 'SUROESTE', 'sur::este::oeste': 'SUR'\n",
    "}\n",
    "df['orientacion'] = df['orientacion'].str.lower().map(mapeo_direcciones).fillna('Sin especificar')"
   ]
  },
  {
   "cell_type": "code",
   "execution_count": 134,
   "metadata": {},
   "outputs": [
    {
     "data": {
      "text/plain": [
       "orientacion\n",
       "Sin especificar    10133\n",
       "SUR                 1311\n",
       "ESTE                 906\n",
       "SURESTE              636\n",
       "OESTE                415\n",
       "SUROESTE             389\n",
       "NORTE                376\n",
       "NORESTE              243\n",
       "NOROESTE             133\n",
       "Name: count, dtype: int64"
      ]
     },
     "execution_count": 134,
     "metadata": {},
     "output_type": "execute_result"
    }
   ],
   "source": [
    "df['orientacion'].value_counts()"
   ]
  },
  {
   "cell_type": "code",
   "execution_count": 135,
   "metadata": {},
   "outputs": [
    {
     "data": {
      "text/plain": [
       "Index(['antiguedad', 'identificador', 'telefono', 'carpinteria_interior',\n",
       "       'ascensor', 'portero_automatico', 'armarios_empotrados', 'conservacion',\n",
       "       'superficie_construida', 'lavadero', 'calle_alumbrada', 'calefaccion',\n",
       "       'calle_asfaltada', 'codigo_postal', 'sistema_de_seguridad',\n",
       "       'aire_acondicionado', 'cocina_equipada', 'agencia', 'terraza',\n",
       "       'puerta_blindada', 'tipo_de_casa', 'gas', 'href', 'gastos_de_comunidad',\n",
       "       'se_aceptan_mascotas', 'piscina',\n",
       "       'adaptado_a_personas_con_movilidad_reducida', 'urbanizado', 'comedor',\n",
       "       'soleado', 'habitaciones', 'nombre', 'ubicacion', 'exterior', 'jardin',\n",
       "       'planta', 'superficie_solar', 'balcon', 'superficie', 'actualizacion',\n",
       "       'emisiones', 'vidrios_dobles', 'orientacion', 'precio', 'luz',\n",
       "       'consumo', 'trastero', 'coordenadas', 'superficie_util', 'agua',\n",
       "       'baños', 'tipo_suelo', 'chimenea', 'alcantarillado', 'precio_m2',\n",
       "       'timestamp', 'carpinteria_exterior', 'garaje', 'interior', 'amueblado'],\n",
       "      dtype='object')"
      ]
     },
     "execution_count": 135,
     "metadata": {},
     "output_type": "execute_result"
    }
   ],
   "source": [
    "df.columns"
   ]
  },
  {
   "cell_type": "code",
   "execution_count": 136,
   "metadata": {},
   "outputs": [],
   "source": [
    "# Elimino algunas ya por su poco valor informativo o por ser redundantes(Ej: Soleado se sobreentiende con la columna orientación)\n",
    "df = df.drop(columns=['urbanizado', 'calle_asfaltada', 'soleado', 'interior'])"
   ]
  },
  {
   "cell_type": "code",
   "execution_count": 137,
   "metadata": {},
   "outputs": [
    {
     "data": {
      "text/plain": [
       "antiguedad\n",
       "Más de 50 años        1672\n",
       "Entre 30 y 50 años    1417\n",
       "Entre 10 y 20 años    1339\n",
       "Entre 20 y 30 años    1250\n",
       "Menos de 5 años        667\n",
       "Entre 5 y 10 años      498\n",
       "Name: count, dtype: int64"
      ]
     },
     "execution_count": 137,
     "metadata": {},
     "output_type": "execute_result"
    }
   ],
   "source": [
    "df[\"antiguedad\"].value_counts()"
   ]
  },
  {
   "cell_type": "code",
   "execution_count": 138,
   "metadata": {},
   "outputs": [],
   "source": [
    "# Columnas que deben ser 'category'\n",
    "category_columns = [\n",
    "    'telefono', 'ascensor', 'portero_automatico', 'armarios_empotrados', 'lavadero',\n",
    "    'calle_alumbrada', 'calefaccion', 'sistema_de_seguridad', 'aire_acondicionado',\n",
    "    'garaje', 'cocina_equipada', 'terraza', 'puerta_blindada', 'gas',\n",
    "    'gastos_de_comunidad', 'adaptado_a_personas_con_movilidad_reducida', 'comedor',\n",
    "    'exterior', 'jardin', 'balcon', 'vidrios_dobles', 'luz', 'trastero',\n",
    "    'agua', 'chimenea', 'alcantarillado', 'piscina', 'amueblado'\n",
    "]\n",
    "\n",
    "# Columnas que deben ser 'object'\n",
    "object_columns = [\n",
    "    'antiguedad', 'identificador', 'carpinteria_interior', 'conservacion',\n",
    "    'agencia', 'tipo_de_casa', 'href', 'se_aceptan_mascotas',\n",
    "    'nombre', 'ubicacion', 'actualizacion', 'emisiones',\n",
    "    'orientacion', 'consumo', 'coordenadas', 'carpinteria_exterior',\n",
    "    'tipo_suelo', 'codigo_postal'\n",
    "]\n",
    "\n",
    "# Cambiar las columnas a category\n",
    "for col in category_columns:\n",
    "    df[col] = df[col].astype('category')\n",
    "\n",
    "# Cambiar las columnas a object\n",
    "for col in object_columns:\n",
    "    df[col] = df[col].astype('object')\n",
    "\n",
    "# Cambiar otros tipos de datos\n",
    "df['superficie_construida'] = df['superficie_construida'].astype('float64')\n",
    "df['superficie_solar'] = df['superficie_solar'].astype('float64')\n",
    "df['superficie'] = df['superficie'].astype('float64')\n",
    "df['precio'] = df['precio'].astype('float64')\n",
    "df['superficie_util'] = df['superficie_util'].astype('float64')\n",
    "df['precio_m2'] = df['precio_m2'].astype('float64')\n",
    "\n",
    "df['habitaciones'] = df['habitaciones'].astype('Int64')\n",
    "df['planta'] = df['planta'].astype('Int64')\n",
    "df['baños'] = df['baños'].astype('Int64')\n",
    "\n",
    "df['timestamp'] = pd.to_datetime(df['timestamp'])\n"
   ]
  },
  {
   "cell_type": "code",
   "execution_count": 139,
   "metadata": {},
   "outputs": [
    {
     "data": {
      "text/plain": [
       "habitaciones                                           Int64\n",
       "baños                                                  Int64\n",
       "planta                                                 Int64\n",
       "piscina                                             category\n",
       "adaptado_a_personas_con_movilidad_reducida          category\n",
       "comedor                                             category\n",
       "garaje                                              category\n",
       "exterior                                            category\n",
       "jardin                                              category\n",
       "balcon                                              category\n",
       "vidrios_dobles                                      category\n",
       "luz                                                 category\n",
       "trastero                                            category\n",
       "agua                                                category\n",
       "chimenea                                            category\n",
       "alcantarillado                                      category\n",
       "gastos_de_comunidad                                 category\n",
       "gas                                                 category\n",
       "amueblado                                           category\n",
       "calle_alumbrada                                     category\n",
       "armarios_empotrados                                 category\n",
       "ascensor                                            category\n",
       "puerta_blindada                                     category\n",
       "lavadero                                            category\n",
       "calefaccion                                         category\n",
       "telefono                                            category\n",
       "portero_automatico                                  category\n",
       "aire_acondicionado                                  category\n",
       "terraza                                             category\n",
       "cocina_equipada                                     category\n",
       "sistema_de_seguridad                                category\n",
       "timestamp                                     datetime64[ns]\n",
       "superficie                                           float64\n",
       "precio                                               float64\n",
       "precio_m2                                            float64\n",
       "superficie_solar                                     float64\n",
       "superficie_construida                                float64\n",
       "superficie_util                                      float64\n",
       "identificador                                         object\n",
       "carpinteria_interior                                  object\n",
       "coordenadas                                           object\n",
       "tipo_suelo                                            object\n",
       "carpinteria_exterior                                  object\n",
       "tipo_de_casa                                          object\n",
       "emisiones                                             object\n",
       "orientacion                                           object\n",
       "conservacion                                          object\n",
       "actualizacion                                         object\n",
       "ubicacion                                             object\n",
       "nombre                                                object\n",
       "codigo_postal                                         object\n",
       "se_aceptan_mascotas                                   object\n",
       "agencia                                               object\n",
       "href                                                  object\n",
       "consumo                                               object\n",
       "antiguedad                                            object\n",
       "dtype: object"
      ]
     },
     "execution_count": 139,
     "metadata": {},
     "output_type": "execute_result"
    }
   ],
   "source": [
    "df.dtypes.astype(str).sort_values()"
   ]
  },
  {
   "cell_type": "code",
   "execution_count": 140,
   "metadata": {},
   "outputs": [],
   "source": [
    "# Obtener los valores únicos de la columna \"ubicacion\"\n",
    "ubicaciones = df[\"ubicacion\"].unique()\n",
    "\n",
    "# Exportar los valores a un archivo .txt\n",
    "with open(\"ubicaciones.txt\", \"w\") as file:\n",
    "    for ubicacion in ubicaciones:\n",
    "        file.write(ubicacion + \"\\n\")"
   ]
  },
  {
   "cell_type": "code",
   "execution_count": 141,
   "metadata": {},
   "outputs": [
    {
     "data": {
      "text/plain": [
       "array(['almeria', 'cadiz', 'cordoba', 'granada', 'huelva', 'jaen',\n",
       "       'malaga', 'sevilla', 'huesca', 'teruel', 'zaragoza', 'cantabria',\n",
       "       'avila', 'burgos', 'leon', 'palencia', 'salamanca', 'segovia',\n",
       "       'soria', 'valladolid', 'zamora', 'albacete', 'ciudad_real',\n",
       "       'cuenca', 'guadalajara', 'toledo', 'barcelona', 'girona', 'lleida',\n",
       "       'tarragona', 'madrid', 'alicante', 'castellon_castello',\n",
       "       'valencia', 'badajoz', 'caceres', 'a_coruna', 'lugo', 'ourense',\n",
       "       'pontevedra', 'islas_baleares_illes_balears', 'las_palmas',\n",
       "       'santa_cruz_de_tenerife', 'la_rioja', 'navarra_nafarroa',\n",
       "       'alava_araba', 'guipuzcoa_gipuzkoa', 'vizcaya_bizkaia', 'asturias',\n",
       "       'murcia', 'cerdanya_francesa'], dtype=object)"
      ]
     },
     "execution_count": 141,
     "metadata": {},
     "output_type": "execute_result"
    }
   ],
   "source": [
    "df[\"ubicacion\"].unique()"
   ]
  },
  {
   "cell_type": "code",
   "execution_count": 142,
   "metadata": {},
   "outputs": [],
   "source": [
    "# Usamos un diccionario para mapear los nombres antiguos a los nuevos\n",
    "nuevos_nombres = {\n",
    "    \"almeria\": \"Almeria\",\n",
    "    \"cadiz\": \"Cadiz\",\n",
    "    \"cordoba\": \"Cordoba\",\n",
    "    \"granada\": \"Granada\",\n",
    "    \"huelva\": \"Huelva\",\n",
    "    \"jaen\": \"Jaen\",\n",
    "    \"malaga\": \"Malaga\",\n",
    "    \"sevilla\": \"Sevilla\",\n",
    "    \"huesca\": \"Huesca\",\n",
    "    \"teruel\": \"Teruel\",\n",
    "    \"zaragoza\": \"Zaragoza\",\n",
    "    \"cantabria\": \"Cantabria\",\n",
    "    \"avila\": \"Avila\",\n",
    "    \"burgos\": \"Burgos\",\n",
    "    \"leon\": \"Leon\",\n",
    "    \"palencia\": \"Palencia\",\n",
    "    \"salamanca\": \"Salamanca\",\n",
    "    \"segovia\": \"Segovia\",\n",
    "    \"soria\": \"Soria\",\n",
    "    \"valladolid\": \"Valladolid\",\n",
    "    \"zamora\": \"Zamora\",\n",
    "    \"albacete\": \"Albacete\",\n",
    "    \"ciudad_real\": \"Ciudad Real\",\n",
    "    \"cuenca\": \"Cuenca\",\n",
    "    \"guadalajara\": \"Guadalajara\",\n",
    "    \"toledo\": \"Toledo\",\n",
    "    \"barcelona\": \"Barcelona\",\n",
    "    \"girona\": \"Girona\",\n",
    "    \"lleida\": \"Lleida\",\n",
    "    \"tarragona\": \"Tarragona\",\n",
    "    \"madrid\": \"Madrid\",\n",
    "    \"alicante\": \"Alicante/Alacant\",\n",
    "    \"castellon_castello\": \"Castellon/Castello\",\n",
    "    \"valencia\": \"Valencia\",\n",
    "    \"badajoz\": \"Badajoz\",\n",
    "    \"caceres\": \"Caceres\",\n",
    "    \"a_coruna\": \"A Coruna\",\n",
    "    \"lugo\": \"Lugo\",\n",
    "    \"ourense\": \"Ourense\",\n",
    "    \"pontevedra\": \"Pontevedra\",\n",
    "    \"islas_baleares_illes_balears\": \"Islas Baleares/Illes Balears\",\n",
    "    \"las_palmas\": \"Las Palmas\",\n",
    "    \"santa_cruz_de_tenerife\": \"Santa Cruz de Tenerife\",\n",
    "    \"la_rioja\": \"La Rioja\",\n",
    "    \"navarra_nafarroa\": \"Navarra\",\n",
    "    \"alava_araba\": \"Alava/Araba\",\n",
    "    \"guipuzcoa_gipuzkoa\": \"Guipuzcoa/Gipuzkoa\",\n",
    "    \"vizcaya_bizkaia\": \"Vizcaya/Bizkaia\",\n",
    "    \"asturias\": \"Asturias\",\n",
    "    \"murcia\": \"Murcia\",\n",
    "    \"cerdanya_francesa\": \"Cerdanya Francesa\"\n",
    "}"
   ]
  },
  {
   "cell_type": "code",
   "execution_count": 143,
   "metadata": {},
   "outputs": [],
   "source": [
    "def nuevos_nombres_df(df, column_name, rename_map):\n",
    "    df[column_name] = df[column_name].apply(lambda x: rename_map.get(x, x.capitalize().replace('_',' ')))\n",
    "    \n",
    "# Renombramos las provincias en el DataFrame\n",
    "nuevos_nombres_df(df, 'ubicacion', nuevos_nombres)\n",
    "\n",
    "# Renombramos la columna de ubicacion a provincia\n",
    "df.rename(columns={'ubicacion': 'provincia'}, inplace=True)"
   ]
  },
  {
   "cell_type": "code",
   "execution_count": 144,
   "metadata": {},
   "outputs": [
    {
     "data": {
      "text/plain": [
       "array(['Almeria', 'Cadiz', 'Cordoba', 'Granada', 'Huelva', 'Jaen',\n",
       "       'Malaga', 'Sevilla', 'Huesca', 'Teruel', 'Zaragoza', 'Cantabria',\n",
       "       'Avila', 'Burgos', 'Leon', 'Palencia', 'Salamanca', 'Segovia',\n",
       "       'Soria', 'Valladolid', 'Zamora', 'Albacete', 'Ciudad Real',\n",
       "       'Cuenca', 'Guadalajara', 'Toledo', 'Barcelona', 'Girona', 'Lleida',\n",
       "       'Tarragona', 'Madrid', 'Alicante/Alacant', 'Castellon/Castello',\n",
       "       'Valencia', 'Badajoz', 'Caceres', 'A Coruna', 'Lugo', 'Ourense',\n",
       "       'Pontevedra', 'Islas Baleares/Illes Balears', 'Las Palmas',\n",
       "       'Santa Cruz de Tenerife', 'La Rioja', 'Navarra', 'Alava/Araba',\n",
       "       'Guipuzcoa/Gipuzkoa', 'Vizcaya/Bizkaia', 'Asturias', 'Murcia',\n",
       "       'Cerdanya Francesa'], dtype=object)"
      ]
     },
     "execution_count": 144,
     "metadata": {},
     "output_type": "execute_result"
    }
   ],
   "source": [
    "df[\"provincia\"].unique()"
   ]
  },
  {
   "cell_type": "code",
   "execution_count": 145,
   "metadata": {},
   "outputs": [],
   "source": [
    "# Creamos un diccionario para mapear las provincias en sus comunidades autonomas\n",
    "ccaa_provincias = {\n",
    "    'Pais Vasco': ['Alava/Araba', 'Vizcaya/Bizkaia', 'Guipuzcoa/Gipuzkoa'],\n",
    "    'Castilla-La Mancha': ['Albacete', 'Ciudad Real', 'Cuenca', 'Guadalajara', 'Toledo'],\n",
    "    'Comunidad Valenciana': ['Alicante/Alacant', 'Castellon/Castello', 'Valencia'],\n",
    "    'Andalucia': ['Almeria', 'Cadiz', 'Cordoba', 'Granada', 'Huelva', 'Jaen', 'Malaga', 'Sevilla'],\n",
    "    'Castilla Y Leon': ['Avila', 'Burgos', 'Leon', 'Palencia', 'Salamanca', 'Segovia', 'Soria', 'Valladolid', 'Zamora'],\n",
    "    'Extremadura': ['Badajoz', 'Caceres'],\n",
    "    'Islas Baleares/Illes Balears': ['Islas Baleares/Illes Balears'],\n",
    "    'Cataluna': ['Barcelona', 'Girona', 'Lleida', 'Tarragona'],\n",
    "    'Galicia': ['A Coruna', 'Lugo', 'Ourense', 'Pontevedra'],\n",
    "    'Comunidad De Madrid': ['Madrid'],\n",
    "    'Region De Murcia': ['Murcia'],\n",
    "    'Comunidad Foral De Navarra': ['Navarra'],\n",
    "    'Principado De Asturias': ['Asturias'],\n",
    "    'Islas Canarias': ['Las Palmas', 'Santa Cruz de Tenerife'],\n",
    "    'Cantabria': ['Cantabria'],\n",
    "    'La Rioja': ['La Rioja'],\n",
    "    'Aragon': ['Huesca', 'Teruel', 'Zaragoza'],\n",
    "    'Ciudad De Ceuta': ['Ceuta'],\n",
    "    'Ciudad De Melilla': ['Melilla'],\n",
    "    'Cerdanya Francesa': ['Cerdanya Francesa']\n",
    "}"
   ]
  },
  {
   "cell_type": "code",
   "execution_count": 146,
   "metadata": {},
   "outputs": [],
   "source": [
    "def get_comunidad_autonoma(provincia):\n",
    "    for comunidad, provincias in ccaa_provincias.items():\n",
    "        if provincia in provincias:\n",
    "            return comunidad\n",
    "    return None\n",
    "\n",
    "df['comunidad_autonoma'] = df['provincia'].apply(get_comunidad_autonoma)"
   ]
  },
  {
   "cell_type": "code",
   "execution_count": 147,
   "metadata": {},
   "outputs": [
    {
     "data": {
      "text/plain": [
       "Index(['antiguedad', 'identificador', 'telefono', 'carpinteria_interior',\n",
       "       'ascensor', 'portero_automatico', 'armarios_empotrados', 'conservacion',\n",
       "       'superficie_construida', 'lavadero', 'calle_alumbrada', 'calefaccion',\n",
       "       'codigo_postal', 'sistema_de_seguridad', 'aire_acondicionado',\n",
       "       'cocina_equipada', 'agencia', 'terraza', 'puerta_blindada',\n",
       "       'tipo_de_casa', 'gas', 'href', 'gastos_de_comunidad',\n",
       "       'se_aceptan_mascotas', 'piscina',\n",
       "       'adaptado_a_personas_con_movilidad_reducida', 'comedor', 'habitaciones',\n",
       "       'nombre', 'provincia', 'exterior', 'jardin', 'planta',\n",
       "       'superficie_solar', 'balcon', 'superficie', 'actualizacion',\n",
       "       'emisiones', 'vidrios_dobles', 'orientacion', 'precio', 'luz',\n",
       "       'consumo', 'trastero', 'coordenadas', 'superficie_util', 'agua',\n",
       "       'baños', 'tipo_suelo', 'chimenea', 'alcantarillado', 'precio_m2',\n",
       "       'timestamp', 'carpinteria_exterior', 'garaje', 'amueblado',\n",
       "       'comunidad_autonoma'],\n",
       "      dtype='object')"
      ]
     },
     "execution_count": 147,
     "metadata": {},
     "output_type": "execute_result"
    }
   ],
   "source": [
    "df.columns"
   ]
  },
  {
   "cell_type": "code",
   "execution_count": 148,
   "metadata": {},
   "outputs": [],
   "source": [
    "# Vamos a reordenar las columnas del df para que sea mas sencilla su visualizacion\n",
    "column_order = [\n",
    "    'identificador', 'nombre', 'provincia','comunidad_autonoma', 'codigo_postal', 'coordenadas', 'href',\n",
    "    'antiguedad', 'conservacion', 'superficie', 'superficie_util', 'superficie_construida','tipo_de_casa',\n",
    "    'superficie_solar', 'planta', 'habitaciones', 'baños', 'calefaccion', 'aire_acondicionado', 'gas', 'agua',\n",
    "    'luz', 'alcantarillado', 'telefono', 'sistema_de_seguridad', 'puerta_blindada', 'vidrios_dobles', 'tipo_suelo',\n",
    "    'carpinteria_interior', 'carpinteria_exterior', 'chimenea', 'ascensor', 'portero_automatico', 'armarios_empotrados',\n",
    "    'cocina_equipada', 'terraza', 'balcon', 'jardin', 'piscina', 'lavadero', 'comedor', 'trastero', 'garaje', 'amueblado',\n",
    "    'se_aceptan_mascotas', 'adaptado_a_personas_con_movilidad_reducida', 'gastos_de_comunidad', 'precio', 'precio_m2',\n",
    "    'emisiones', 'consumo', 'orientacion', 'calle_alumbrada', 'agencia', 'actualizacion', 'timestamp'\n",
    "]\n",
    "\n",
    "df = df[column_order]"
   ]
  },
  {
   "cell_type": "code",
   "execution_count": 149,
   "metadata": {},
   "outputs": [
    {
     "data": {
      "text/html": [
       "<div>\n",
       "<style scoped>\n",
       "    .dataframe tbody tr th:only-of-type {\n",
       "        vertical-align: middle;\n",
       "    }\n",
       "\n",
       "    .dataframe tbody tr th {\n",
       "        vertical-align: top;\n",
       "    }\n",
       "\n",
       "    .dataframe thead th {\n",
       "        text-align: right;\n",
       "    }\n",
       "</style>\n",
       "<table border=\"1\" class=\"dataframe\">\n",
       "  <thead>\n",
       "    <tr style=\"text-align: right;\">\n",
       "      <th></th>\n",
       "      <th>identificador</th>\n",
       "      <th>nombre</th>\n",
       "      <th>provincia</th>\n",
       "      <th>comunidad_autonoma</th>\n",
       "      <th>codigo_postal</th>\n",
       "      <th>coordenadas</th>\n",
       "      <th>href</th>\n",
       "      <th>antiguedad</th>\n",
       "      <th>conservacion</th>\n",
       "      <th>superficie</th>\n",
       "      <th>...</th>\n",
       "      <th>gastos_de_comunidad</th>\n",
       "      <th>precio</th>\n",
       "      <th>precio_m2</th>\n",
       "      <th>emisiones</th>\n",
       "      <th>consumo</th>\n",
       "      <th>orientacion</th>\n",
       "      <th>calle_alumbrada</th>\n",
       "      <th>agencia</th>\n",
       "      <th>actualizacion</th>\n",
       "      <th>timestamp</th>\n",
       "    </tr>\n",
       "  </thead>\n",
       "  <tbody>\n",
       "    <tr>\n",
       "      <th>0</th>\n",
       "      <td>50886757575_100500</td>\n",
       "      <td>Apartamento en Carretera de Ciudad de Cádiz</td>\n",
       "      <td>Almeria</td>\n",
       "      <td>Andalucia</td>\n",
       "      <td>4740.0</td>\n",
       "      <td>36.7171955, -2.6392756</td>\n",
       "      <td>https://www.pisos.com/alquilar/apartamento-urb...</td>\n",
       "      <td>Entre 20 y 30 años</td>\n",
       "      <td>En buen estado</td>\n",
       "      <td>90.0</td>\n",
       "      <td>...</td>\n",
       "      <td>Sin especificar</td>\n",
       "      <td>750.0</td>\n",
       "      <td>8.0</td>\n",
       "      <td>C, C</td>\n",
       "      <td>C, C</td>\n",
       "      <td>ESTE</td>\n",
       "      <td>Sin especificar</td>\n",
       "      <td>FARO INMOBILIARIA</td>\n",
       "      <td>Anuncio actualizado el 01/03/2025</td>\n",
       "      <td>2025-03-01 17:43:44</td>\n",
       "    </tr>\n",
       "    <tr>\n",
       "      <th>1</th>\n",
       "      <td>48377934693_514659</td>\n",
       "      <td>Piso en calle Vera</td>\n",
       "      <td>Almeria</td>\n",
       "      <td>Andalucia</td>\n",
       "      <td>4007.0</td>\n",
       "      <td>36.8317798, -2.4501068</td>\n",
       "      <td>https://www.pisos.com/alquilar/piso-ciudad_jar...</td>\n",
       "      <td>NaN</td>\n",
       "      <td>Reformado</td>\n",
       "      <td>75.0</td>\n",
       "      <td>...</td>\n",
       "      <td>Sin especificar</td>\n",
       "      <td>800.0</td>\n",
       "      <td>10.0</td>\n",
       "      <td>Error al procesar emisiones</td>\n",
       "      <td>Error al procesar consumo</td>\n",
       "      <td>Sin especificar</td>\n",
       "      <td>Sin especificar</td>\n",
       "      <td>ALMERICRIS INMOBILIARIA</td>\n",
       "      <td>Anuncio actualizado el 01/03/2025</td>\n",
       "      <td>2025-03-01 17:43:44</td>\n",
       "    </tr>\n",
       "    <tr>\n",
       "      <th>2</th>\n",
       "      <td>48426063799_501470</td>\n",
       "      <td>Piso en Ciudad Jardín-Tagarete-Zapillo</td>\n",
       "      <td>Almeria</td>\n",
       "      <td>Andalucia</td>\n",
       "      <td>4007.0</td>\n",
       "      <td>36.8287258, -2.4493571</td>\n",
       "      <td>https://www.pisos.com/alquilar/piso-ciudad_jar...</td>\n",
       "      <td>NaN</td>\n",
       "      <td>En buen estado</td>\n",
       "      <td>95.0</td>\n",
       "      <td>...</td>\n",
       "      <td>Sin especificar</td>\n",
       "      <td>800.0</td>\n",
       "      <td>8.0</td>\n",
       "      <td>Error al procesar emisiones</td>\n",
       "      <td>Error al procesar consumo</td>\n",
       "      <td>Sin especificar</td>\n",
       "      <td>Sin especificar</td>\n",
       "      <td>ALCASA SERVICIOS INMOBILIARIOS</td>\n",
       "      <td>Anuncio actualizado el 01/03/2025</td>\n",
       "      <td>2025-03-01 17:43:45</td>\n",
       "    </tr>\n",
       "    <tr>\n",
       "      <th>3</th>\n",
       "      <td>49173485071_108900</td>\n",
       "      <td>Piso en La Envía</td>\n",
       "      <td>Almeria</td>\n",
       "      <td>Andalucia</td>\n",
       "      <td>NaN</td>\n",
       "      <td>36.835574427, -2.611330666</td>\n",
       "      <td>https://www.pisos.com/alquilar/piso-la_envia-4...</td>\n",
       "      <td>NaN</td>\n",
       "      <td>NaN</td>\n",
       "      <td>100.0</td>\n",
       "      <td>...</td>\n",
       "      <td>Si</td>\n",
       "      <td>850.0</td>\n",
       "      <td>8.0</td>\n",
       "      <td>Error al procesar emisiones</td>\n",
       "      <td>Error al procesar consumo</td>\n",
       "      <td>Sin especificar</td>\n",
       "      <td>Sin especificar</td>\n",
       "      <td>M.M.C. INMOBILIARIA</td>\n",
       "      <td>Anuncio actualizado el 19/02/2025</td>\n",
       "      <td>2025-03-01 17:43:45</td>\n",
       "    </tr>\n",
       "    <tr>\n",
       "      <th>4</th>\n",
       "      <td>33340257518_100500</td>\n",
       "      <td>Piso en Carretera de Ciudad de Cádiz</td>\n",
       "      <td>Almeria</td>\n",
       "      <td>Andalucia</td>\n",
       "      <td>4740.0</td>\n",
       "      <td>36.7171955, -2.6392756</td>\n",
       "      <td>https://www.pisos.com/alquilar/piso-urbanizaci...</td>\n",
       "      <td>NaN</td>\n",
       "      <td>En buen estado</td>\n",
       "      <td>90.0</td>\n",
       "      <td>...</td>\n",
       "      <td>Sin especificar</td>\n",
       "      <td>1250.0</td>\n",
       "      <td>13.0</td>\n",
       "      <td>D, C</td>\n",
       "      <td>D, C</td>\n",
       "      <td>SUR</td>\n",
       "      <td>Sin especificar</td>\n",
       "      <td>FARO INMOBILIARIA</td>\n",
       "      <td>Anuncio actualizado el 01/03/2025</td>\n",
       "      <td>2025-03-01 17:43:45</td>\n",
       "    </tr>\n",
       "    <tr>\n",
       "      <th>...</th>\n",
       "      <td>...</td>\n",
       "      <td>...</td>\n",
       "      <td>...</td>\n",
       "      <td>...</td>\n",
       "      <td>...</td>\n",
       "      <td>...</td>\n",
       "      <td>...</td>\n",
       "      <td>...</td>\n",
       "      <td>...</td>\n",
       "      <td>...</td>\n",
       "      <td>...</td>\n",
       "      <td>...</td>\n",
       "      <td>...</td>\n",
       "      <td>...</td>\n",
       "      <td>...</td>\n",
       "      <td>...</td>\n",
       "      <td>...</td>\n",
       "      <td>...</td>\n",
       "      <td>...</td>\n",
       "      <td>...</td>\n",
       "      <td>...</td>\n",
       "    </tr>\n",
       "    <tr>\n",
       "      <th>29404</th>\n",
       "      <td>41675245908_517227</td>\n",
       "      <td>Apartamento en calle Roch, nº 5</td>\n",
       "      <td>Cerdanya Francesa</td>\n",
       "      <td>Cerdanya Francesa</td>\n",
       "      <td>NaN</td>\n",
       "      <td>42.3871, 2.00175</td>\n",
       "      <td>https://www.pisos.com/alquilar/apartamento-oss...</td>\n",
       "      <td>NaN</td>\n",
       "      <td>Reformado</td>\n",
       "      <td>55.0</td>\n",
       "      <td>...</td>\n",
       "      <td>Sin especificar</td>\n",
       "      <td>750.0</td>\n",
       "      <td>13.0</td>\n",
       "      <td>G, G</td>\n",
       "      <td>G, G</td>\n",
       "      <td>SUR</td>\n",
       "      <td>Sin especificar</td>\n",
       "      <td>FINQUES BELLVER</td>\n",
       "      <td>Anuncio actualizado el 02/01/2025</td>\n",
       "      <td>2025-03-01 19:50:19</td>\n",
       "    </tr>\n",
       "    <tr>\n",
       "      <th>29405</th>\n",
       "      <td>49206973095_517227</td>\n",
       "      <td>Apartamento en calle Canigo, nº 3</td>\n",
       "      <td>Cerdanya Francesa</td>\n",
       "      <td>Cerdanya Francesa</td>\n",
       "      <td>NaN</td>\n",
       "      <td>42.43690985362229, 2.0173286672415274</td>\n",
       "      <td>https://www.pisos.com/alquilar/apartamento-err...</td>\n",
       "      <td>Entre 5 y 10 años</td>\n",
       "      <td>En buen estado</td>\n",
       "      <td>55.0</td>\n",
       "      <td>...</td>\n",
       "      <td>Sin especificar</td>\n",
       "      <td>650.0</td>\n",
       "      <td>11.0</td>\n",
       "      <td>Error al procesar emisiones</td>\n",
       "      <td>Error al procesar consumo</td>\n",
       "      <td>ESTE</td>\n",
       "      <td>Sin especificar</td>\n",
       "      <td>FINQUES BELLVER</td>\n",
       "      <td>Anuncio actualizado el 08/12/2024</td>\n",
       "      <td>2025-03-01 19:50:20</td>\n",
       "    </tr>\n",
       "    <tr>\n",
       "      <th>29406</th>\n",
       "      <td>50887588369_517227</td>\n",
       "      <td>Apartamento en Carrer de Francesc Macià</td>\n",
       "      <td>Cerdanya Francesa</td>\n",
       "      <td>Cerdanya Francesa</td>\n",
       "      <td>NaN</td>\n",
       "      <td>42.369853264, 1.775765794</td>\n",
       "      <td>https://www.pisos.com/alquilar/apartamento-sai...</td>\n",
       "      <td>Entre 5 y 10 años</td>\n",
       "      <td>En buen estado</td>\n",
       "      <td>70.0</td>\n",
       "      <td>...</td>\n",
       "      <td>Sin especificar</td>\n",
       "      <td>900.0</td>\n",
       "      <td>12.0</td>\n",
       "      <td>Error al procesar emisiones</td>\n",
       "      <td>Error al procesar consumo</td>\n",
       "      <td>Sin especificar</td>\n",
       "      <td>Sin especificar</td>\n",
       "      <td>FINQUES BELLVER</td>\n",
       "      <td>Anuncio actualizado el 14/01/2025</td>\n",
       "      <td>2025-03-01 19:50:20</td>\n",
       "    </tr>\n",
       "    <tr>\n",
       "      <th>29407</th>\n",
       "      <td>29256476347_517227</td>\n",
       "      <td>Piso en calle Bajande, nº 5</td>\n",
       "      <td>Cerdanya Francesa</td>\n",
       "      <td>Cerdanya Francesa</td>\n",
       "      <td>NaN</td>\n",
       "      <td>42.46671303609228, 2.0082377165662373</td>\n",
       "      <td>https://www.pisos.com/alquilar/piso-estavar_ce...</td>\n",
       "      <td>Menos de 5 años</td>\n",
       "      <td>En buen estado</td>\n",
       "      <td>65.0</td>\n",
       "      <td>...</td>\n",
       "      <td>Sin especificar</td>\n",
       "      <td>1200.0</td>\n",
       "      <td>18.0</td>\n",
       "      <td>Error al procesar emisiones</td>\n",
       "      <td>Error al procesar consumo</td>\n",
       "      <td>SUR</td>\n",
       "      <td>Sin especificar</td>\n",
       "      <td>FINQUES BELLVER</td>\n",
       "      <td>Anuncio actualizado el 31/01/2025</td>\n",
       "      <td>2025-03-01 19:50:20</td>\n",
       "    </tr>\n",
       "    <tr>\n",
       "      <th>29408</th>\n",
       "      <td>36693113219_517227</td>\n",
       "      <td>Apartamento en calle Caldegas</td>\n",
       "      <td>Cerdanya Francesa</td>\n",
       "      <td>Cerdanya Francesa</td>\n",
       "      <td>NaN</td>\n",
       "      <td>42.4338622055752, 1.944115971585786</td>\n",
       "      <td>https://www.pisos.com/alquilar/apartamento-bou...</td>\n",
       "      <td>NaN</td>\n",
       "      <td>En buen estado</td>\n",
       "      <td>36.0</td>\n",
       "      <td>...</td>\n",
       "      <td>Sin especificar</td>\n",
       "      <td>1300.0</td>\n",
       "      <td>36.0</td>\n",
       "      <td>Error al procesar emisiones</td>\n",
       "      <td>Error al procesar consumo</td>\n",
       "      <td>ESTE</td>\n",
       "      <td>Sin especificar</td>\n",
       "      <td>FINQUES BELLVER</td>\n",
       "      <td>Anuncio actualizado el 01/03/2025</td>\n",
       "      <td>2025-03-01 19:50:20</td>\n",
       "    </tr>\n",
       "  </tbody>\n",
       "</table>\n",
       "<p>14542 rows × 56 columns</p>\n",
       "</div>"
      ],
      "text/plain": [
       "            identificador                                       nombre  \\\n",
       "0      50886757575_100500  Apartamento en Carretera de Ciudad de Cádiz   \n",
       "1      48377934693_514659                           Piso en calle Vera   \n",
       "2      48426063799_501470       Piso en Ciudad Jardín-Tagarete-Zapillo   \n",
       "3      49173485071_108900                             Piso en La Envía   \n",
       "4      33340257518_100500         Piso en Carretera de Ciudad de Cádiz   \n",
       "...                   ...                                          ...   \n",
       "29404  41675245908_517227              Apartamento en calle Roch, nº 5   \n",
       "29405  49206973095_517227            Apartamento en calle Canigo, nº 3   \n",
       "29406  50887588369_517227      Apartamento en Carrer de Francesc Macià   \n",
       "29407  29256476347_517227                  Piso en calle Bajande, nº 5   \n",
       "29408  36693113219_517227                Apartamento en calle Caldegas   \n",
       "\n",
       "               provincia comunidad_autonoma codigo_postal  \\\n",
       "0                Almeria          Andalucia        4740.0   \n",
       "1                Almeria          Andalucia        4007.0   \n",
       "2                Almeria          Andalucia        4007.0   \n",
       "3                Almeria          Andalucia           NaN   \n",
       "4                Almeria          Andalucia        4740.0   \n",
       "...                  ...                ...           ...   \n",
       "29404  Cerdanya Francesa  Cerdanya Francesa           NaN   \n",
       "29405  Cerdanya Francesa  Cerdanya Francesa           NaN   \n",
       "29406  Cerdanya Francesa  Cerdanya Francesa           NaN   \n",
       "29407  Cerdanya Francesa  Cerdanya Francesa           NaN   \n",
       "29408  Cerdanya Francesa  Cerdanya Francesa           NaN   \n",
       "\n",
       "                                 coordenadas  \\\n",
       "0                     36.7171955, -2.6392756   \n",
       "1                     36.8317798, -2.4501068   \n",
       "2                     36.8287258, -2.4493571   \n",
       "3                 36.835574427, -2.611330666   \n",
       "4                     36.7171955, -2.6392756   \n",
       "...                                      ...   \n",
       "29404                       42.3871, 2.00175   \n",
       "29405  42.43690985362229, 2.0173286672415274   \n",
       "29406              42.369853264, 1.775765794   \n",
       "29407  42.46671303609228, 2.0082377165662373   \n",
       "29408    42.4338622055752, 1.944115971585786   \n",
       "\n",
       "                                                    href          antiguedad  \\\n",
       "0      https://www.pisos.com/alquilar/apartamento-urb...  Entre 20 y 30 años   \n",
       "1      https://www.pisos.com/alquilar/piso-ciudad_jar...                 NaN   \n",
       "2      https://www.pisos.com/alquilar/piso-ciudad_jar...                 NaN   \n",
       "3      https://www.pisos.com/alquilar/piso-la_envia-4...                 NaN   \n",
       "4      https://www.pisos.com/alquilar/piso-urbanizaci...                 NaN   \n",
       "...                                                  ...                 ...   \n",
       "29404  https://www.pisos.com/alquilar/apartamento-oss...                 NaN   \n",
       "29405  https://www.pisos.com/alquilar/apartamento-err...   Entre 5 y 10 años   \n",
       "29406  https://www.pisos.com/alquilar/apartamento-sai...   Entre 5 y 10 años   \n",
       "29407  https://www.pisos.com/alquilar/piso-estavar_ce...     Menos de 5 años   \n",
       "29408  https://www.pisos.com/alquilar/apartamento-bou...                 NaN   \n",
       "\n",
       "         conservacion  superficie  ...  gastos_de_comunidad  precio precio_m2  \\\n",
       "0      En buen estado        90.0  ...      Sin especificar   750.0       8.0   \n",
       "1           Reformado        75.0  ...      Sin especificar   800.0      10.0   \n",
       "2      En buen estado        95.0  ...      Sin especificar   800.0       8.0   \n",
       "3                 NaN       100.0  ...                   Si   850.0       8.0   \n",
       "4      En buen estado        90.0  ...      Sin especificar  1250.0      13.0   \n",
       "...               ...         ...  ...                  ...     ...       ...   \n",
       "29404       Reformado        55.0  ...      Sin especificar   750.0      13.0   \n",
       "29405  En buen estado        55.0  ...      Sin especificar   650.0      11.0   \n",
       "29406  En buen estado        70.0  ...      Sin especificar   900.0      12.0   \n",
       "29407  En buen estado        65.0  ...      Sin especificar  1200.0      18.0   \n",
       "29408  En buen estado        36.0  ...      Sin especificar  1300.0      36.0   \n",
       "\n",
       "                         emisiones                    consumo  \\\n",
       "0                             C, C                       C, C   \n",
       "1      Error al procesar emisiones  Error al procesar consumo   \n",
       "2      Error al procesar emisiones  Error al procesar consumo   \n",
       "3      Error al procesar emisiones  Error al procesar consumo   \n",
       "4                             D, C                       D, C   \n",
       "...                            ...                        ...   \n",
       "29404                         G, G                       G, G   \n",
       "29405  Error al procesar emisiones  Error al procesar consumo   \n",
       "29406  Error al procesar emisiones  Error al procesar consumo   \n",
       "29407  Error al procesar emisiones  Error al procesar consumo   \n",
       "29408  Error al procesar emisiones  Error al procesar consumo   \n",
       "\n",
       "           orientacion  calle_alumbrada                         agencia  \\\n",
       "0                 ESTE  Sin especificar               FARO INMOBILIARIA   \n",
       "1      Sin especificar  Sin especificar         ALMERICRIS INMOBILIARIA   \n",
       "2      Sin especificar  Sin especificar  ALCASA SERVICIOS INMOBILIARIOS   \n",
       "3      Sin especificar  Sin especificar             M.M.C. INMOBILIARIA   \n",
       "4                  SUR  Sin especificar               FARO INMOBILIARIA   \n",
       "...                ...              ...                             ...   \n",
       "29404              SUR  Sin especificar                 FINQUES BELLVER   \n",
       "29405             ESTE  Sin especificar                 FINQUES BELLVER   \n",
       "29406  Sin especificar  Sin especificar                 FINQUES BELLVER   \n",
       "29407              SUR  Sin especificar                 FINQUES BELLVER   \n",
       "29408             ESTE  Sin especificar                 FINQUES BELLVER   \n",
       "\n",
       "                           actualizacion           timestamp  \n",
       "0      Anuncio actualizado el 01/03/2025 2025-03-01 17:43:44  \n",
       "1      Anuncio actualizado el 01/03/2025 2025-03-01 17:43:44  \n",
       "2      Anuncio actualizado el 01/03/2025 2025-03-01 17:43:45  \n",
       "3      Anuncio actualizado el 19/02/2025 2025-03-01 17:43:45  \n",
       "4      Anuncio actualizado el 01/03/2025 2025-03-01 17:43:45  \n",
       "...                                  ...                 ...  \n",
       "29404  Anuncio actualizado el 02/01/2025 2025-03-01 19:50:19  \n",
       "29405  Anuncio actualizado el 08/12/2024 2025-03-01 19:50:20  \n",
       "29406  Anuncio actualizado el 14/01/2025 2025-03-01 19:50:20  \n",
       "29407  Anuncio actualizado el 31/01/2025 2025-03-01 19:50:20  \n",
       "29408  Anuncio actualizado el 01/03/2025 2025-03-01 19:50:20  \n",
       "\n",
       "[14542 rows x 56 columns]"
      ]
     },
     "execution_count": 149,
     "metadata": {},
     "output_type": "execute_result"
    }
   ],
   "source": [
    "df"
   ]
  },
  {
   "cell_type": "code",
   "execution_count": 150,
   "metadata": {},
   "outputs": [
    {
     "name": "stdout",
     "output_type": "stream",
     "text": [
      "[]\n"
     ]
    }
   ],
   "source": [
    "nan_rows = df[df[\"comunidad_autonoma\"].isna()]\n",
    "provincias_nan = nan_rows[\"provincia\"].unique()\n",
    "print(provincias_nan)"
   ]
  },
  {
   "cell_type": "code",
   "execution_count": 151,
   "metadata": {},
   "outputs": [],
   "source": [
    "provincia_to_comunidad = {}\n",
    "for comunidad, provincias in ccaa_provincias.items():\n",
    "    for provincia in provincias:\n",
    "        provincia_to_comunidad[provincia] = comunidad"
   ]
  },
  {
   "cell_type": "code",
   "execution_count": 152,
   "metadata": {},
   "outputs": [],
   "source": [
    "df[\"comunidad_autonoma\"] = df.apply(\n",
    "    lambda row: provincia_to_comunidad.get(row[\"provincia\"], row[\"comunidad_autonoma\"]),\n",
    "    axis=1\n",
    ")"
   ]
  },
  {
   "cell_type": "code",
   "execution_count": 153,
   "metadata": {},
   "outputs": [
    {
     "data": {
      "text/plain": [
       "0"
      ]
     },
     "execution_count": 153,
     "metadata": {},
     "output_type": "execute_result"
    }
   ],
   "source": [
    "df[\"comunidad_autonoma\"].isna().sum()"
   ]
  },
  {
   "cell_type": "code",
   "execution_count": 154,
   "metadata": {},
   "outputs": [],
   "source": [
    "df.to_csv('alquileres_completo_limpio.csv', index=False)"
   ]
  },
  {
   "cell_type": "code",
   "execution_count": 155,
   "metadata": {},
   "outputs": [],
   "source": [
    "df_limpio = pd.read_csv(\"csv_completos_limpio/alquileres_completo_limpio.csv\", low_memory=False)"
   ]
  },
  {
   "cell_type": "code",
   "execution_count": 157,
   "metadata": {},
   "outputs": [
    {
     "data": {
      "text/plain": [
       "40"
      ]
     },
     "execution_count": 157,
     "metadata": {},
     "output_type": "execute_result"
    }
   ],
   "source": [
    "df_limpio[\"comunidad_autonoma\"].isna().sum()"
   ]
  }
 ],
 "metadata": {
  "kernelspec": {
   "display_name": "Python 3.11.7",
   "language": "python",
   "name": "python3"
  },
  "language_info": {
   "codemirror_mode": {
    "name": "ipython",
    "version": 3
   },
   "file_extension": ".py",
   "mimetype": "text/x-python",
   "name": "python",
   "nbconvert_exporter": "python",
   "pygments_lexer": "ipython3",
   "version": "3.11.7"
  },
  "orig_nbformat": 4,
  "vscode": {
   "interpreter": {
    "hash": "faa10f75de45951c7c3939f3103988890fef5be60eea20e39c3d3747e4fc449a"
   }
  }
 },
 "nbformat": 4,
 "nbformat_minor": 2
}
