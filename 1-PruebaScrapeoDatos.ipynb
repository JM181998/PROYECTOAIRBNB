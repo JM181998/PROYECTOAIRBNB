{
 "cells": [
  {
   "cell_type": "code",
   "execution_count": 1,
   "id": "263016c0-d9a1-4c83-9cac-3d18f9c25580",
   "metadata": {},
   "outputs": [
    {
     "data": {
      "text/html": [
       "<div>\n",
       "<style scoped>\n",
       "    .dataframe tbody tr th:only-of-type {\n",
       "        vertical-align: middle;\n",
       "    }\n",
       "\n",
       "    .dataframe tbody tr th {\n",
       "        vertical-align: top;\n",
       "    }\n",
       "\n",
       "    .dataframe thead th {\n",
       "        text-align: right;\n",
       "    }\n",
       "</style>\n",
       "<table border=\"1\" class=\"dataframe\">\n",
       "  <thead>\n",
       "    <tr style=\"text-align: right;\">\n",
       "      <th></th>\n",
       "      <th>Habitaciones</th>\n",
       "      <th>Baños</th>\n",
       "      <th>Metros cuadrados</th>\n",
       "      <th>€/m²</th>\n",
       "    </tr>\n",
       "  </thead>\n",
       "  <tbody>\n",
       "    <tr>\n",
       "      <th>0</th>\n",
       "      <td>Obra nueva</td>\n",
       "      <td>5 habs.</td>\n",
       "      <td>6 baños</td>\n",
       "      <td>327 m²</td>\n",
       "    </tr>\n",
       "  </tbody>\n",
       "</table>\n",
       "</div>"
      ],
      "text/plain": [
       "  Habitaciones    Baños Metros cuadrados    €/m²\n",
       "0   Obra nueva  5 habs.          6 baños  327 m²"
      ]
     },
     "execution_count": 1,
     "metadata": {},
     "output_type": "execute_result"
    }
   ],
   "source": [
    "import requests\n",
    "from bs4 import BeautifulSoup\n",
    "import pandas as pd\n",
    "\n",
    "\n",
    "url = \"https://www.pisos.com/comprar/casa_adosada-estacion_zona_norte28224-5127476266_109700/\"\n",
    "headers = {'User-Agent': 'Mozilla/5.0'}  # Evitar bloqueos del servidor\n",
    "\n",
    "\n",
    "response = requests.get(url, headers=headers)\n",
    "soup = BeautifulSoup(response.text, 'html.parser')\n",
    "\n",
    "\n",
    "try:\n",
    "    features = soup.find_all('li', class_='features-summary__item')\n",
    "    habitaciones = features[0].text.strip()\n",
    "    banos = features[1].text.strip()\n",
    "    metros_cuadrados = features[2].text.strip()\n",
    "    precio_m2 = features[3].text.strip()\n",
    "except:\n",
    "    habitaciones, banos, metros_cuadrados, precio_m2 = 'No disponible', 'No disponible', 'No disponible', 'No disponible'\n",
    "\n",
    "\n",
    "data = {\n",
    "    'Habitaciones': [habitaciones],\n",
    "    'Baños': [banos],\n",
    "    'Metros cuadrados': [metros_cuadrados],\n",
    "    '€/m²': [precio_m2]\n",
    "}\n",
    "\n",
    "df = pd.DataFrame(data)\n",
    "\n",
    "df\n"
   ]
  },
  {
   "cell_type": "code",
   "execution_count": null,
   "id": "64067061-8c7f-48d6-bdaa-8b8f7217b89f",
   "metadata": {},
   "outputs": [],
   "source": [
    "i = 1\n",
    "\n",
    "urls = list()\n",
    "\n",
    "while len(urls) != 2:\n",
    "\n",
    "    url = \"https://www.pisos.com/comprar/casa_adosada-estacion_zona_norte28224-5127476266_10970{i}/\"\n",
    "\n",
    "    response = requests.get(url = url)\n",
    "\n",
    "    soup = BeautifulSoup(response.text, \"html.parser\")\n",
    "\n",
    "    results = [x.find(\"a\")[\"href\"] for x in soup.find_all(\"article\", class_ = \"product_pod\")]\n",
    "\n",
    "    urls.extend(results)\n",
    "\n",
    "    i = i + 1"
   ]
  },
  {
   "cell_type": "code",
   "execution_count": null,
   "id": "119801b7-0c31-470d-9dc6-f8f85fcea974",
   "metadata": {},
   "outputs": [],
   "source": []
  },
  {
   "cell_type": "code",
   "execution_count": null,
   "id": "b1f47c4f-e6b5-4966-a889-97b8ef7fb066",
   "metadata": {},
   "outputs": [],
   "source": [
    "urls = [f\"https://books.toscrape.com/catalogue/{url}\" for url in urls]"
   ]
  }
 ],
 "metadata": {
  "kernelspec": {
   "display_name": "Python 3 (ipykernel)",
   "language": "python",
   "name": "python3"
  },
  "language_info": {
   "codemirror_mode": {
    "name": "ipython",
    "version": 3
   },
   "file_extension": ".py",
   "mimetype": "text/x-python",
   "name": "python",
   "nbconvert_exporter": "python",
   "pygments_lexer": "ipython3",
   "version": "3.12.7"
  }
 },
 "nbformat": 4,
 "nbformat_minor": 5
}
