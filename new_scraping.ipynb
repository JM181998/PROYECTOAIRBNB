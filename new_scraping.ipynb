{
 "cells": [
  {
   "cell_type": "code",
   "execution_count": 16,
   "metadata": {},
   "outputs": [],
   "source": [
    "import pandas as pd\n",
    "from selenium import webdriver\n",
    "from selenium.webdriver.common.by import By\n",
    "from time import sleep"
   ]
  },
  {
   "cell_type": "code",
   "execution_count": 17,
   "metadata": {},
   "outputs": [
    {
     "name": "stdout",
     "output_type": "stream",
     "text": [
      "https://www.pisos.com/viviendas/madrid/\n",
      "Comarca1:https://www.pisos.com/viviendas/corredor_del_henares/ \n",
      "Municipio1 Comarca1:https://www.pisos.com/venta/pisos-ajalvir/ \n",
      "                                                 URL  \\\n",
      "0  https://www.pisos.com/comprar/atico-ajalvir_ce...   \n",
      "1  https://www.pisos.com/comprar/atico-ajalvir_ce...   \n",
      "\n",
      "                              Nombre     Precio  \n",
      "0  Ático en venta en Calle Real, s/n  329.700 €  \n",
      "1  Ático en venta en Calle Real, s/n  177.700 €  \n"
     ]
    }
   ],
   "source": [
    "# Función para extraer los datos de una URL\n",
    "def extraer_datos_url(url):\n",
    "    # Configuración del navegador\n",
    "    browser.get(url)\n",
    "    sleep(2)  # Esperar que cargue la página\n",
    "    \n",
    "    # Extraer nombre (título)\n",
    "    try:\n",
    "        nombre = browser.find_element(By.XPATH, \"//h1\").text\n",
    "    except:\n",
    "        nombre = None\n",
    "\n",
    "    # Extraer precio\n",
    "    try:\n",
    "        precio = browser.find_element(By.CSS_SELECTOR, \".price__value.jsPriceValue\").text\n",
    "    except:\n",
    "        precio = None\n",
    "\n",
    "    return {\"URL\": url, \"Nombre\": nombre, \"Precio\": precio}\n",
    "\n",
    "# Configuración del navegador\n",
    "browser = webdriver.Chrome()\n",
    "browser.get(\"https://www.pisos.com/\")\n",
    "browser.maximize_window()\n",
    "\n",
    "# Aceptar cookies si es necesario\n",
    "browser.find_element(by=By.CSS_SELECTOR, value=\"#didomi-notice-disagree-button\").click()\n",
    "sleep(1)\n",
    "\n",
    "# Buscar \"Madrid\"\n",
    "buscador = browser.find_element(by=By.XPATH, value='/html/body/main/div[1]/div/div[2]/div/div[2]/div/div[1]/input')\n",
    "buscador.click()\n",
    "sleep(1)\n",
    "buscador.send_keys(\"Madrid\")\n",
    "sleep(1)\n",
    "\n",
    "# Hacer clic en \"Provincia\"\n",
    "browser.find_element(by=By.XPATH, value=\"//div[@class='location-item__subtitle' and text()='Provincia']\").click()\n",
    "sleep(1)\n",
    "\n",
    "# Almacenar la URL actual como provincia_madrid\n",
    "provincia_madrid = browser.current_url\n",
    "print(provincia_madrid)  # Imprime el URL actual\n",
    "\n",
    "# Inicializar la lista para almacenar los resultados\n",
    "datos = []\n",
    "\n",
    "# Acceder a las diferentes zonas y extraer las URLs\n",
    "browser.find_element(by=By.CSS_SELECTOR, value=\"#main > div.inner-body.with-footer > div.content.subHome.subhome__wrapper > div:nth-child(5) > div.subhome__content > div:nth-child(1) > div.zoneList > nav > div > ul > li:nth-child(1) > a.seo-box__location-link.seo-box__location-link--level2\").click()\n",
    "sleep(1)\n",
    "\n",
    "# Comarca1\n",
    "comarca1_url = browser.current_url\n",
    "print(f\"Comarca1:{comarca1_url} \")\n",
    "\n",
    "# Municipio1 Comarca1\n",
    "browser.find_element(by=By.CSS_SELECTOR, value=\"#main > div.inner-body.with-footer > div.content.subHome.subhome__wrapper > div:nth-child(5) > div.subhome__content > div:nth-child(1) > div.zoneList > nav > div > ul > li:nth-child(1) > a.seo-box__location-link.seo-box__location-link--level2\").click()\n",
    "sleep(1)\n",
    "\n",
    "municipio1_comarca1_url = browser.current_url\n",
    "print(f\"Municipio1 Comarca1:{municipio1_comarca1_url} \")\n",
    "\n",
    "# Recoger la URL de los anuncios\n",
    "browser.find_element(by=By.XPATH, value=\"//*[@id=\\\"5244455514.109700\\\"]\").click()\n",
    "sleep(1)\n",
    "\n",
    "# Extraer datos de la URL actual\n",
    "datos.append(extraer_datos_url(browser.current_url))\n",
    "\n",
    "# Volver atrás y seguir con el siguiente\n",
    "browser.back()\n",
    "browser.find_element(by=By.XPATH, value=\"//*[@id=\\\"5227104703.109700\\\"]\").click()\n",
    "sleep(1)\n",
    "\n",
    "# Extraer datos de la siguiente URL\n",
    "datos.append(extraer_datos_url(browser.current_url))\n",
    "\n",
    "# Convertir los resultados en un DataFrame de Pandas\n",
    "df = pd.DataFrame(datos)\n",
    "\n",
    "# Mostrar el DataFrame\n",
    "print(df)\n",
    "\n",
    "# Cerrar el navegador\n",
    "browser.quit()"
   ]
  },
  {
   "cell_type": "code",
   "execution_count": 18,
   "metadata": {},
   "outputs": [
    {
     "data": {
      "text/html": [
       "<div>\n",
       "<style scoped>\n",
       "    .dataframe tbody tr th:only-of-type {\n",
       "        vertical-align: middle;\n",
       "    }\n",
       "\n",
       "    .dataframe tbody tr th {\n",
       "        vertical-align: top;\n",
       "    }\n",
       "\n",
       "    .dataframe thead th {\n",
       "        text-align: right;\n",
       "    }\n",
       "</style>\n",
       "<table border=\"1\" class=\"dataframe\">\n",
       "  <thead>\n",
       "    <tr style=\"text-align: right;\">\n",
       "      <th></th>\n",
       "      <th>URL</th>\n",
       "      <th>Nombre</th>\n",
       "      <th>Precio</th>\n",
       "    </tr>\n",
       "  </thead>\n",
       "  <tbody>\n",
       "    <tr>\n",
       "      <th>0</th>\n",
       "      <td>https://www.pisos.com/comprar/atico-ajalvir_ce...</td>\n",
       "      <td>Ático en venta en Calle Real, s/n</td>\n",
       "      <td>329.700 €</td>\n",
       "    </tr>\n",
       "    <tr>\n",
       "      <th>1</th>\n",
       "      <td>https://www.pisos.com/comprar/atico-ajalvir_ce...</td>\n",
       "      <td>Ático en venta en Calle Real, s/n</td>\n",
       "      <td>177.700 €</td>\n",
       "    </tr>\n",
       "  </tbody>\n",
       "</table>\n",
       "</div>"
      ],
      "text/plain": [
       "                                                 URL  \\\n",
       "0  https://www.pisos.com/comprar/atico-ajalvir_ce...   \n",
       "1  https://www.pisos.com/comprar/atico-ajalvir_ce...   \n",
       "\n",
       "                              Nombre     Precio  \n",
       "0  Ático en venta en Calle Real, s/n  329.700 €  \n",
       "1  Ático en venta en Calle Real, s/n  177.700 €  "
      ]
     },
     "execution_count": 18,
     "metadata": {},
     "output_type": "execute_result"
    }
   ],
   "source": [
    "df.head()"
   ]
  }
 ],
 "metadata": {
  "kernelspec": {
   "display_name": "Python 3.11.7",
   "language": "python",
   "name": "python3"
  },
  "language_info": {
   "codemirror_mode": {
    "name": "ipython",
    "version": 3
   },
   "file_extension": ".py",
   "mimetype": "text/x-python",
   "name": "python",
   "nbconvert_exporter": "python",
   "pygments_lexer": "ipython3",
   "version": "3.11.7"
  },
  "orig_nbformat": 4,
  "vscode": {
   "interpreter": {
    "hash": "faa10f75de45951c7c3939f3103988890fef5be60eea20e39c3d3747e4fc449a"
   }
  }
 },
 "nbformat": 4,
 "nbformat_minor": 2
}
