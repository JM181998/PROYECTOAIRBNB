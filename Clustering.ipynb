{
 "cells": [
  {
   "cell_type": "code",
   "execution_count": 165,
   "metadata": {},
   "outputs": [],
   "source": [
    "import pandas as pd\n",
    "import numpy as np\n",
    "import matplotlib.pyplot as plt\n",
    "import seaborn as sns\n",
    "from sklearn.cluster import KMeans\n",
    "from kmodes.kprototypes import KPrototypes\n",
    "from sklearn.preprocessing import StandardScaler\n",
    "from sklearn.impute import SimpleImputer\n",
    "from sklearn.metrics import silhouette_score"
   ]
  },
  {
   "cell_type": "code",
   "execution_count": 83,
   "metadata": {},
   "outputs": [],
   "source": [
    "#utilizamos el df de limpieza de jorge\n",
    "df = pd.read_csv(r\"C:\\Users\\franp\\Downloads\\limpieza Jorge 040325\\alquileres_completo_limpio.csv\")"
   ]
  },
  {
   "cell_type": "code",
   "execution_count": 84,
   "metadata": {},
   "outputs": [
    {
     "name": "stdout",
     "output_type": "stream",
     "text": [
      "El df tiene un total de 13 variables con valores nulos\n",
      "Las variables con NaN son: codigo_postal            35.329668\n",
      "antiguedad               48.636546\n",
      "conservacion             43.736120\n",
      "superficie                0.262133\n",
      "superficie_util           0.262133\n",
      "superficie_construida     0.262133\n",
      "superficie_solar         94.629920\n",
      "habitaciones              1.944151\n",
      "baños                     1.055812\n",
      "tipo_suelo               65.842648\n",
      "carpinteria_interior     90.668803\n",
      "carpinteria_exterior     79.815779\n",
      "precio_m2                 0.141989\n",
      "dtype: float64 variables con valores nulos\n"
     ]
    }
   ],
   "source": [
    "#queremos saber los % de NaN de cada variable\n",
    "nan_percen = df.isnull().mean() * 100\n",
    "print(f'El df tiene un total de {nan_percen[nan_percen > 0].count()} variables con valores nulos')\n",
    "print(f'Las variables con NaN son: {nan_percen[nan_percen > 0]} variables con valores nulos')"
   ]
  },
  {
   "cell_type": "code",
   "execution_count": 85,
   "metadata": {},
   "outputs": [
    {
     "name": "stdout",
     "output_type": "stream",
     "text": [
      "El código postal más común en Andalucía es: 29602.0 y la provincia más común es: Malaga\n"
     ]
    }
   ],
   "source": [
    "#cp más común en Andalucía\n",
    "andalucia = df[df['comunidad_autonoma'] == 'Andalucia']\n",
    "most_common_cp = andalucia['codigo_postal'].mode()[0]\n",
    "most_common_province = andalucia[andalucia['codigo_postal'] == most_common_cp]['provincia'].mode()[0]\n",
    "print(f'El código postal más común en Andalucía es: {most_common_cp} y la provincia más común es: {most_common_province}')"
   ]
  },
  {
   "cell_type": "code",
   "execution_count": null,
   "metadata": {},
   "outputs": [],
   "source": [
    "print(f'Las columnas numéricas son: {df.select_dtypes(include=['float64']).columns}')\n",
    "print(f'Las columnas categóricas son: {df.select_dtypes(include=[\"object\"]).columns}')"
   ]
  },
  {
   "cell_type": "code",
   "execution_count": 89,
   "metadata": {},
   "outputs": [
    {
     "name": "stdout",
     "output_type": "stream",
     "text": [
      "Las variables a eliminar son: codigo_postal       35.329668\n",
      "superficie_solar    94.629920\n",
      "dtype: float64\n"
     ]
    }
   ],
   "source": [
    "#para saber NaN por var numéricas\n",
    "df_nan_num=df.select_dtypes(include=['float64']).isna().mean() * 100\n",
    "df_nan_num_borrar = df_nan_num[df_nan_num > 30]\n",
    "print(f'Las variables a eliminar son: {df_nan_num_borrar}')"
   ]
  },
  {
   "cell_type": "code",
   "execution_count": 104,
   "metadata": {},
   "outputs": [
    {
     "name": "stdout",
     "output_type": "stream",
     "text": [
      "Las variables a eliminar son: antiguedad              48.636546\n",
      "conservacion            43.736120\n",
      "tipo_suelo              65.842648\n",
      "carpinteria_interior    90.668803\n",
      "carpinteria_exterior    79.815779\n",
      "dtype: float64\n"
     ]
    }
   ],
   "source": [
    "#para saber NaN por var categoricas\n",
    "df_nan_cat=df.select_dtypes(include=['O']).isna().mean() * 100\n",
    "df_nan_cat_borrar = df_nan_cat[df_nan_cat > 30]\n",
    "print(f'Las variables a eliminar son: {df_nan_cat_borrar}')"
   ]
  },
  {
   "cell_type": "code",
   "execution_count": 148,
   "metadata": {},
   "outputs": [],
   "source": [
    "#borramos variables num y cat del df\n",
    "df2 = df.drop(columns=['identificador', 'superficie_solar', 'superficie_util', 'superficie_construida', 'codigo_postal', 'antiguedad', 'conservacion', 'tipo_suelo', 'carpinteria_interior', 'carpinteria_exterior'], inplace=False)"
   ]
  },
  {
   "cell_type": "code",
   "execution_count": 149,
   "metadata": {},
   "outputs": [
    {
     "name": "stdout",
     "output_type": "stream",
     "text": [
      "superficie      0.262133\n",
      "habitaciones    1.944151\n",
      "baños           1.055812\n",
      "precio_m2       0.141989\n",
      "dtype: float64\n"
     ]
    }
   ],
   "source": [
    "#tras eliminar las variables con NaN > 30%, vemos cuales quedan\n",
    "df2_menos_30_nan = df2.isnull().mean() * 100\n",
    "\n",
    "print(df2_menos_30_nan[df2_menos_30_nan > 0])"
   ]
  },
  {
   "cell_type": "code",
   "execution_count": 150,
   "metadata": {},
   "outputs": [],
   "source": [
    "#seleccionamos las columnas a imputar\n",
    "\n",
    "columns_to_imput = ['superficie', 'habitaciones', 'baños', 'precio_m2']\n",
    "\n",
    "#crear el imputador con estrategia de la media\n",
    "\n",
    "imputer = SimpleImputer(strategy='mean')\n",
    "\n",
    "#imputar los valores faltantes\n",
    "\n",
    "df2[columns_to_imput] = imputer.fit_transform(df2[columns_to_imput])"
   ]
  },
  {
   "cell_type": "code",
   "execution_count": null,
   "metadata": {},
   "outputs": [],
   "source": [
    "cat_cols = df2.select_dtypes(include=['object']).columns"
   ]
  },
  {
   "cell_type": "code",
   "execution_count": 157,
   "metadata": {},
   "outputs": [
    {
     "name": "stdout",
     "output_type": "stream",
     "text": [
      "Índices de columnas categóricas: [0, 1, 2, 3, 4, 9, 10, 11, 12, 13, 14, 15, 16, 17, 18, 19, 20, 21, 22, 23, 24, 25, 26, 27, 28, 29, 30, 31, 32, 33, 34, 35, 38, 39, 40, 41, 42, 43, 44, 45]\n"
     ]
    }
   ],
   "source": [
    "#convertimos el df en un array de numpy\n",
    "X = df2.values\n",
    "\n",
    "#obtener los índices de las columnas categóricas\n",
    "cat_index = [df2.columns.get_loc(col) for col in cat_cols]\n",
    "print('Índices de columnas categóricas:', cat_index)"
   ]
  },
  {
   "cell_type": "code",
   "execution_count": 172,
   "metadata": {},
   "outputs": [
    {
     "data": {
      "text/plain": [
       "47"
      ]
     },
     "execution_count": 172,
     "metadata": {},
     "output_type": "execute_result"
    }
   ],
   "source": [
    "df2.shape[1]"
   ]
  },
  {
   "cell_type": "code",
   "execution_count": null,
   "metadata": {},
   "outputs": [],
   "source": [
    "#INTENTO 1 K.PROTOTYPES\n",
    "\n",
    "#ajustamos el modelo K-Prototypes\n",
    "\n",
    "kproto = KPrototypes(n_clusters=5, init='Cao', random_state=42)\n",
    "\n",
    "#ajustar el modelo a los datos\n",
    "\n",
    "clusters = kproto.fit_predict(X, categorical=cat_index)\n",
    "\n",
    "#añadir los clusters al df original\n",
    "df2['cluster'] = clusters\n",
    "\n",
    "print(df2.head(20))"
   ]
  },
  {
   "cell_type": "code",
   "execution_count": 169,
   "metadata": {},
   "outputs": [
    {
     "name": "stdout",
     "output_type": "stream",
     "text": [
      "Silhouette Score: 0.564\n"
     ]
    }
   ],
   "source": [
    "X_df_num = df2.select_dtypes(include='float64').values\n",
    "\n",
    "silhouette = silhouette_score(X_df_num, df2['cluster'])\n",
    "print(f'Silhouette Score: {silhouette:.3f}')"
   ]
  },
  {
   "cell_type": "code",
   "execution_count": 161,
   "metadata": {},
   "outputs": [
    {
     "name": "stdout",
     "output_type": "stream",
     "text": [
      "cluster\n",
      "0    14390\n",
      "4     8637\n",
      "3     3240\n",
      "1      929\n",
      "2      271\n",
      "Name: count, dtype: int64\n"
     ]
    }
   ],
   "source": [
    "print(df2['cluster'].value_counts())"
   ]
  },
  {
   "cell_type": "code",
   "execution_count": null,
   "metadata": {},
   "outputs": [
    {
     "name": "stdout",
     "output_type": "stream",
     "text": [
      "                                         nombre provincia comunidad_autonoma  \\\n",
      "0   Apartamento en Carretera de Ciudad de Cádiz   Almeria          Andalucia   \n",
      "1                            Piso en calle Vera   Almeria          Andalucia   \n",
      "2        Piso en Ciudad Jardín-Tagarete-Zapillo   Almeria          Andalucia   \n",
      "3                              Piso en La Envía   Almeria          Andalucia   \n",
      "4          Piso en Carretera de Ciudad de Cádiz   Almeria          Andalucia   \n",
      "5        Apartamento en calle Islas Canarias, 1   Almeria          Andalucia   \n",
      "6              Piso en calle Ciudad de Alicante   Almeria          Andalucia   \n",
      "7               Casa en calle de la Ensenada, 8   Almeria          Andalucia   \n",
      "8                     Apartamento en Vera Playa   Almeria          Andalucia   \n",
      "9             Apartamento en calle de Edimburgo   Almeria          Andalucia   \n",
      "10                    Piso en Campillo del Moro   Almeria          Andalucia   \n",
      "11                   Piso en Avda. Mediterraneo   Almeria          Andalucia   \n",
      "12                    Apartamento en Centro Sur   Almeria          Andalucia   \n",
      "13                     Piso en calle de Serrano   Almeria          Andalucia   \n",
      "14              Piso en calle de la Alameda, 80   Almeria          Andalucia   \n",
      "15                  Piso en calle del Galeón, 1   Almeria          Andalucia   \n",
      "16         Piso en calle Dársena de la Batea, 7   Almeria          Andalucia   \n",
      "17                   Ático en calle Mascarón, 1   Almeria          Andalucia   \n",
      "18                             Piso en Roquetas   Almeria          Andalucia   \n",
      "19              Ático en Avenida Medina Azahara   Almeria          Andalucia   \n",
      "\n",
      "                              coordenadas  \\\n",
      "0                  36.7171955, -2.6392756   \n",
      "1                  36.8317798, -2.4501068   \n",
      "2                  36.8287258, -2.4493571   \n",
      "3              36.835574427, -2.611330666   \n",
      "4                  36.7171955, -2.6392756   \n",
      "5                       37.2292, -1.80174   \n",
      "6              37.219177331, -1.808910538   \n",
      "7   36.76495532792194, -2.106471034387482   \n",
      "8              37.214870042, -1.830069349   \n",
      "9                  36.8033913, -2.5814332   \n",
      "10                   36.8110628, -2.57722   \n",
      "11                 36.8543269, -2.4431899   \n",
      "12                 36.8113025, -2.5760104   \n",
      "13             36.804892499, -2.629960027   \n",
      "14                   36.73083, -2.6237724   \n",
      "15                      36.6977, -2.79122   \n",
      "16                       36.698, -2.79245   \n",
      "17                      36.7097, -2.80563   \n",
      "18                 36.7773033, -2.6087667   \n",
      "19                 37.2134312, -1.8295477   \n",
      "\n",
      "                                                 href  superficie  planta  \\\n",
      "0   https://www.pisos.com/alquilar/apartamento-urb...        90.0       3   \n",
      "1   https://www.pisos.com/alquilar/piso-ciudad_jar...        75.0      21   \n",
      "2   https://www.pisos.com/alquilar/piso-ciudad_jar...        95.0       2   \n",
      "3   https://www.pisos.com/alquilar/piso-la_envia-4...       100.0       0   \n",
      "4   https://www.pisos.com/alquilar/piso-urbanizaci...        90.0       1   \n",
      "5   https://www.pisos.com/alquilar/apartamento-cal...        60.0       0   \n",
      "6   https://www.pisos.com/alquilar/piso-el_playazo...       103.0       1   \n",
      "7   https://www.pisos.com/alquilar/casa-nijar_la_i...        76.0       0   \n",
      "8   https://www.pisos.com/alquilar/apartamento-pue...        70.0       0   \n",
      "9   https://www.pisos.com/alquilar/apartamento-agu...        85.0       0   \n",
      "10  https://www.pisos.com/alquilar/piso-aguadulce_...        71.0       3   \n",
      "11  https://www.pisos.com/alquilar/piso-san_luis_l...        74.0       0   \n",
      "12  https://www.pisos.com/alquilar/apartamento-agu...        46.0      12   \n",
      "13  https://www.pisos.com/alquilar/piso-vicar_cent...       120.0       1   \n",
      "14  https://www.pisos.com/alquilar/piso-urbanizaci...        70.0       0   \n",
      "15  https://www.pisos.com/alquilar/piso-el_ejido_a...        72.0       2   \n",
      "16  https://www.pisos.com/alquilar/piso-el_ejido_a...       100.0       3   \n",
      "17  https://www.pisos.com/alquilar/atico-el_ejido_...        89.0       0   \n",
      "18  https://www.pisos.com/alquilar/piso-nucleo_urb...        90.0       2   \n",
      "19  https://www.pisos.com/alquilar/atico-puerto_ve...        75.0       2   \n",
      "\n",
      "    habitaciones     baños      calefaccion  ... precio_m2  \\\n",
      "0            2.0  1.000000               Si  ...       8.0   \n",
      "1            3.0  1.000000  Sin especificar  ...      10.0   \n",
      "2            3.0  1.000000  Sin especificar  ...       8.0   \n",
      "3            2.0  2.000000  Sin especificar  ...       8.0   \n",
      "4            2.0  1.000000               Si  ...      13.0   \n",
      "5            2.0  2.000000  Sin especificar  ...      10.0   \n",
      "6            3.0  2.000000  Sin especificar  ...       7.0   \n",
      "7            2.0  1.000000  Sin especificar  ...       2.0   \n",
      "8            2.0  2.000000  Sin especificar  ...       9.0   \n",
      "9            2.0  1.000000  Sin especificar  ...       7.0   \n",
      "10           2.0  1.000000  Sin especificar  ...       9.0   \n",
      "11           2.0  2.000000               Si  ...      10.0   \n",
      "12           1.0  1.000000  Sin especificar  ...       9.0   \n",
      "13           3.0  2.000000  Sin especificar  ...       6.0   \n",
      "14           2.0  1.000000               Si  ...       8.0   \n",
      "15           2.0  1.000000               Si  ...      27.0   \n",
      "16           3.0  1.000000  Sin especificar  ...      18.0   \n",
      "17           2.0  2.000000               Si  ...       6.0   \n",
      "18           3.0  1.739522  Sin especificar  ...       7.0   \n",
      "19           2.0  2.000000               Si  ...       7.0   \n",
      "\n",
      "                      emisiones                    consumo      orientacion  \\\n",
      "0                          C, C                       C, C             ESTE   \n",
      "1   Error al procesar emisiones  Error al procesar consumo  Sin especificar   \n",
      "2   Error al procesar emisiones  Error al procesar consumo  Sin especificar   \n",
      "3   Error al procesar emisiones  Error al procesar consumo  Sin especificar   \n",
      "4                          D, C                       D, C              SUR   \n",
      "5   Error al procesar emisiones  Error al procesar consumo  Sin especificar   \n",
      "6   Error al procesar emisiones  Error al procesar consumo            NORTE   \n",
      "7   Error al procesar emisiones  Error al procesar consumo  Sin especificar   \n",
      "8   Error al procesar emisiones  Error al procesar consumo  Sin especificar   \n",
      "9   Error al procesar emisiones  Error al procesar consumo             ESTE   \n",
      "10  Error al procesar emisiones  Error al procesar consumo  Sin especificar   \n",
      "11                         E, D                       E, D             ESTE   \n",
      "12  Error al procesar emisiones  Error al procesar consumo            OESTE   \n",
      "13  Error al procesar emisiones  Error al procesar consumo            NORTE   \n",
      "14                         D, D                       D, D          SURESTE   \n",
      "15  Error al procesar emisiones  Error al procesar consumo  Sin especificar   \n",
      "16  Error al procesar emisiones  Error al procesar consumo  Sin especificar   \n",
      "17  Error al procesar emisiones  Error al procesar consumo  Sin especificar   \n",
      "18  Error al procesar emisiones  Error al procesar consumo  Sin especificar   \n",
      "19  Error al procesar emisiones  Error al procesar consumo            OESTE   \n",
      "\n",
      "    calle_alumbrada                         agencia  \\\n",
      "0   Sin especificar               FARO INMOBILIARIA   \n",
      "1   Sin especificar         ALMERICRIS INMOBILIARIA   \n",
      "2   Sin especificar  ALCASA SERVICIOS INMOBILIARIOS   \n",
      "3   Sin especificar             M.M.C. INMOBILIARIA   \n",
      "4   Sin especificar               FARO INMOBILIARIA   \n",
      "5   Sin especificar                DPG INMOBILIARIA   \n",
      "6   Sin especificar                    RE/MAX PLAYA   \n",
      "7   Sin especificar                       HIDEALSUR   \n",
      "8   Sin especificar                DPG INMOBILIARIA   \n",
      "9   Sin especificar    B Y D SERVICIOS INMOBILIARIA   \n",
      "10  Sin especificar   DANTI Servicios Inmobiliarios   \n",
      "11  Sin especificar                    Indalo Remax   \n",
      "12  Sin especificar             INMOBILARIA TU CASA   \n",
      "13  Sin especificar           MEDITERRANEAN GESTIÓN   \n",
      "14  Sin especificar            Athenea Inmobiliaria   \n",
      "15  Sin especificar            GUILLERMO RUIZ PÉREZ   \n",
      "16  Sin especificar            GUILLERMO RUIZ PÉREZ   \n",
      "17  Sin especificar            GUILLERMO RUIZ PÉREZ   \n",
      "18  Sin especificar   RODAL SERVICIOS INMOBILIARIOS   \n",
      "19  Sin especificar                   Parrosol, S.L   \n",
      "\n",
      "                        actualizacion            timestamp tipo_de_casa  \\\n",
      "0   Anuncio actualizado el 01/03/2025  2025-03-01 17:43:44  Apartamento   \n",
      "1   Anuncio actualizado el 01/03/2025  2025-03-01 17:43:44         Piso   \n",
      "2   Anuncio actualizado el 01/03/2025  2025-03-01 17:43:45         Piso   \n",
      "3   Anuncio actualizado el 19/02/2025  2025-03-01 17:43:45         Piso   \n",
      "4   Anuncio actualizado el 01/03/2025  2025-03-01 17:43:45         Piso   \n",
      "5   Anuncio actualizado el 01/03/2025  2025-03-01 17:43:45  Apartamento   \n",
      "6   Anuncio actualizado el 10/02/2025  2025-03-01 17:43:45         Piso   \n",
      "7   Anuncio actualizado el 27/06/2024  2025-03-01 17:43:45         Casa   \n",
      "8   Anuncio actualizado el 27/02/2025  2025-03-01 17:43:47  Apartamento   \n",
      "9   Anuncio actualizado el 27/02/2025  2025-03-01 17:43:47  Apartamento   \n",
      "10  Anuncio actualizado el 27/02/2025  2025-03-01 17:43:49         Piso   \n",
      "11  Anuncio actualizado el 25/02/2025  2025-03-01 17:43:51         Piso   \n",
      "12  Anuncio actualizado el 27/02/2025  2025-03-01 17:43:51  Apartamento   \n",
      "13  Anuncio actualizado el 21/02/2025  2025-03-01 17:43:52         Piso   \n",
      "14  Anuncio actualizado el 24/02/2025  2025-03-01 17:43:52         Piso   \n",
      "15  Anuncio actualizado el 01/03/2025  2025-03-01 17:43:53         Piso   \n",
      "16  Anuncio actualizado el 01/03/2025  2025-03-01 17:43:53         Piso   \n",
      "17  Anuncio actualizado el 01/03/2025  2025-03-01 17:43:53        Ático   \n",
      "18  Anuncio actualizado el 28/02/2025  2025-03-01 17:43:54         Piso   \n",
      "19  Anuncio actualizado el 11/02/2025  2025-03-01 17:43:54        Ático   \n",
      "\n",
      "   cluster  \n",
      "0        0  \n",
      "1        0  \n",
      "2        0  \n",
      "3        0  \n",
      "4        0  \n",
      "5        0  \n",
      "6        0  \n",
      "7        0  \n",
      "8        0  \n",
      "9        0  \n",
      "10       0  \n",
      "11       0  \n",
      "12       0  \n",
      "13       0  \n",
      "14       0  \n",
      "15       0  \n",
      "16       0  \n",
      "17       0  \n",
      "18       0  \n",
      "19       0  \n",
      "\n",
      "[20 rows x 47 columns]\n"
     ]
    }
   ],
   "source": [
    "#INTENTO 2 - K PROTOTYPES\n",
    "\n",
    "#ajustamos el modelo K-Prototypes\n",
    "\n",
    "kproto = KPrototypes(n_clusters=3, init='Cao', random_state=42)\n",
    "\n",
    "#ajustar el modelo a los datos\n",
    "\n",
    "clusters = kproto.fit_predict(X, categorical=cat_index)\n",
    "\n",
    "#añadir los clusters al df original\n",
    "df2['cluster'] = clusters\n",
    "\n",
    "print(df2.head(20))"
   ]
  },
  {
   "cell_type": "code",
   "execution_count": 171,
   "metadata": {},
   "outputs": [
    {
     "name": "stdout",
     "output_type": "stream",
     "text": [
      "Silhouette Score: 0.694\n"
     ]
    }
   ],
   "source": [
    "X_df_num = df2.select_dtypes(include='float64').values\n",
    "\n",
    "silhouette = silhouette_score(X_df_num, df2['cluster'])\n",
    "print(f'Silhouette Score: {silhouette:.3f}')"
   ]
  },
  {
   "cell_type": "code",
   "execution_count": null,
   "metadata": {},
   "outputs": [],
   "source": []
  }
 ],
 "metadata": {
  "kernelspec": {
   "display_name": "Python 3",
   "language": "python",
   "name": "python3"
  },
  "language_info": {
   "codemirror_mode": {
    "name": "ipython",
    "version": 3
   },
   "file_extension": ".py",
   "mimetype": "text/x-python",
   "name": "python",
   "nbconvert_exporter": "python",
   "pygments_lexer": "ipython3",
   "version": "3.13.2"
  }
 },
 "nbformat": 4,
 "nbformat_minor": 2
}
