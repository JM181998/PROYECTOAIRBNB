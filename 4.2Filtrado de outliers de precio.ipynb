{
 "cells": [
  {
   "cell_type": "code",
   "execution_count": 1,
   "id": "31b89d4a-4d43-45c5-895d-8602f1cdc9ea",
   "metadata": {},
   "outputs": [],
   "source": [
    "import pandas as pd"
   ]
  },
  {
   "cell_type": "code",
   "execution_count": 2,
   "id": "f8bb7a1a-a887-4378-92c7-efcbff3d61cf",
   "metadata": {},
   "outputs": [],
   "source": [
    "df=pd.read_csv(\"alquilereslimpio.csv\")"
   ]
  },
  {
   "cell_type": "code",
   "execution_count": 8,
   "id": "618d6a78-374c-4e77-a4b2-892911323ded",
   "metadata": {},
   "outputs": [
    {
     "name": "stdout",
     "output_type": "stream",
     "text": [
      "Media: 1814.0082930200415\n",
      "Mediana: 1200.0\n",
      "Moda: 1200.0\n"
     ]
    }
   ],
   "source": [
    "media = df['precio'].mean()\n",
    "mediana = df['precio'].median()\n",
    "moda = df['precio'].mode()[0]  # mode() devuelve una serie, por lo que tomamos el primer valor\n",
    "\n",
    "print(f\"Media: {media}\")\n",
    "print(f\"Mediana: {mediana}\")\n",
    "print(f\"Moda: {moda}\")"
   ]
  },
  {
   "cell_type": "code",
   "execution_count": 10,
   "id": "9c767720-984b-4b79-bc1b-7c520b1a3620",
   "metadata": {},
   "outputs": [
    {
     "name": "stdout",
     "output_type": "stream",
     "text": [
      "Q1: 800.0\n",
      "Q3: 2100.0\n",
      "IQR: 1300.0\n",
      "Límite Inferior: -1150.0\n",
      "Límite Superior: 4050.0\n",
      "Rango de precios: 1.0 - 80000.0\n"
     ]
    }
   ],
   "source": [
    "df_limpio = df.dropna(subset=['precio'])\n",
    "\n",
    "Q1 = df_limpio['precio'].quantile(0.25)\n",
    "Q3 = df_limpio['precio'].quantile(0.75)\n",
    "IQR = Q3 - Q1\n",
    "\n",
    "limite_inferior = Q1 - 1.5 * IQR\n",
    "limite_superior = Q3 + 1.5 * IQR\n",
    "\n",
    "print(f\"Q1: {Q1}\")\n",
    "print(f\"Q3: {Q3}\")\n",
    "print(f\"IQR: {IQR}\")\n",
    "print(f\"Límite Inferior: {limite_inferior}\")\n",
    "print(f\"Límite Superior: {limite_superior}\")\n",
    "print(f\"Rango de precios: {df_limpio['precio'].min()} - {df_limpio['precio'].max()}\")"
   ]
  },
  {
   "cell_type": "code",
   "execution_count": 12,
   "id": "5c710e6a-9a22-46bc-a737-030fdbf7bcff",
   "metadata": {},
   "outputs": [
    {
     "data": {
      "image/png": "[encoded data removed]",
      "text/plain": [
       "<Figure size 640x480 with 1 Axes>"
      ]
     },
     "metadata": {},
     "output_type": "display_data"
    }
   ],
   "source": [
    "import matplotlib.pyplot as plt\n",
    "import seaborn as sns\n",
    "\n",
    "plt.figure(figsize=(12, 6))\n",
    "plt.subplot(1, 2, 1)\n",
    "sns.boxplot(x=df['precio'])\n",
    "plt.title('Boxplot antes de eliminar outliers')\n",
    "\n",
    "df_limpio = df_limpio[(df_limpio['precio'] >= limite_inferior) & (df_limpio['precio'] <= limite_superior)]\n",
    "\n",
    "# Boxplot después de eliminar outliers (con los valores filtrados)\n",
    "plt.subplot(1, 2, 2)\n",
    "sns.boxplot(x=df_limpio['precio'])\n",
    "plt.title('Boxplot después de eliminar outliers')\n",
    "\n",
    "# Mostrar el gráfico\n",
    "plt.tight_layout()\n",
    "plt.show()"
   ]
  },
  {
   "cell_type": "code",
   "execution_count": null,
   "id": "5f7f963e-a049-4b69-b553-f7d3f26a1da9",
   "metadata": {},
   "outputs": [],
   "source": []
  }
 ],
 "metadata": {
  "kernelspec": {
   "display_name": "Python 3 (ipykernel)",
   "language": "python",
   "name": "python3"
  },
  "language_info": {
   "codemirror_mode": {
    "name": "ipython",
    "version": 3
   },
   "file_extension": ".py",
   "mimetype": "text/x-python",
   "name": "python",
   "nbconvert_exporter": "python",
   "pygments_lexer": "ipython3",
   "version": "3.12.7"
  }
 },
 "nbformat": 4,
 "nbformat_minor": 5
}
