{
 "cells": [
  {
   "cell_type": "code",
   "execution_count": 1,
   "id": "31b89d4a-4d43-45c5-895d-8602f1cdc9ea",
   "metadata": {},
   "outputs": [],
   "source": [
    "import pandas as pd"
   ]
  },
  {
   "cell_type": "code",
   "execution_count": 5,
   "id": "f8bb7a1a-a887-4378-92c7-efcbff3d61cf",
   "metadata": {},
   "outputs": [],
   "source": [
    "df=pd.read_csv(\"alquilereslimpio.csv\")"
   ]
  },
  {
   "cell_type": "code",
   "execution_count": 13,
   "id": "fa236ff8-7069-482b-a888-01679c785914",
   "metadata": {},
   "outputs": [
    {
     "data": {
      "text/plain": [
       "precio\n",
       "490.0     16\n",
       "800.0     12\n",
       "1500.0     9\n",
       "1200.0     9\n",
       "1000.0     9\n",
       "          ..\n",
       "2410.0     1\n",
       "1985.0     1\n",
       "1590.0     1\n",
       "2485.0     1\n",
       "5000.0     1\n",
       "Name: count, Length: 271, dtype: int64"
      ]
     },
     "execution_count": 13,
     "metadata": {},
     "output_type": "execute_result"
    }
   ],
   "source": [
    "df[\"precio\"].value_counts()"
   ]
  },
  {
   "cell_type": "code",
   "execution_count": null,
   "id": "b3e42318-5111-48cf-b794-75dc6635f585",
   "metadata": {},
   "outputs": [],
   "source": []
  }
 ],
 "metadata": {
  "kernelspec": {
   "display_name": "Python 3 (ipykernel)",
   "language": "python",
   "name": "python3"
  },
  "language_info": {
   "codemirror_mode": {
    "name": "ipython",
    "version": 3
   },
   "file_extension": ".py",
   "mimetype": "text/x-python",
   "name": "python",
   "nbconvert_exporter": "python",
   "pygments_lexer": "ipython3",
   "version": "3.12.7"
  }
 },
 "nbformat": 4,
 "nbformat_minor": 5
}
