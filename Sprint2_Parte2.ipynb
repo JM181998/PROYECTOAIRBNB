{
 "cells": [
  {
   "cell_type": "code",
   "execution_count": 6,
   "metadata": {},
   "outputs": [],
   "source": [
    "import pandas as pd\n",
    "import seaborn as sns\n",
    "import matplotlib.pyplot as plt\n",
    "import numpy as np"
   ]
  },
  {
   "cell_type": "code",
   "execution_count": null,
   "metadata": {},
   "outputs": [],
   "source": [
    "#procedo a analizar el ultimo csv que tenemos aunque no sea el final para decidir que columnas son las mas importantes y clasificarlas.\n",
    "file_path = \"Streamlit/data/alquileres_completo_limpio.csv\"\n",
    "df = pd.read_csv(file_path)\n",
    "df.head()"
   ]
  },
  {
   "cell_type": "code",
   "execution_count": null,
   "metadata": {},
   "outputs": [],
   "source": [
    "#compruebo los valores vacios o nans que tenemos y los ordeno de mayor a menor ya que tenemos 58 columnas la mayoria vacias y la mayoria irrelevantes a la hora de  crear nuestro modelo\n",
    "valores_vacios = (df.isnull().sum() / len(df)) * 100\n",
    "df_porcentaje = pd.DataFrame({'Columna': valores_vacios.index, 'Porcentaje_NaNs': valores_vacios.values})\n",
    "df_porcentaje = df_porcentaje.sort_values(by='Porcentaje_NaNs', ascending=False)\n",
    "df_porcentaje"
   ]
  },
  {
   "cell_type": "code",
   "execution_count": null,
   "metadata": {},
   "outputs": [],
   "source": [
    "#he seleccionado estas columnas,son las 29 primeras con mayor numero de nans, como podeis observar arriba\n",
    "columnas_a_borrar = [\n",
    "    \"alcantarillado\", \"telefono\", \"calle_alumbrada\", \"calle_asfaltada\", \"interior\", \"tipo_de_casa\", \"chimenea\",\n",
    "    \"urbanizado\", \"luz\", \"superficie_solar\", \"adaptado_a_personas_con_movilidad_reducida\", \"sistema_de_seguridad\",\n",
    "    \"carpinteria_interior\", \"gas\", \"portero_automatico\", \"gastos_de_comunidad\", \"soleado\", \"vidrios_dobles\",\n",
    "    \"trastero\", \"balcon\", \"lavadero\", \"carpinteria_exterior\", \"se_aceptan_mascotas\", \"puerta_blindada\",\n",
    "    \"agua\", \"garaje\", \"comedor\", \"piscina\", \"tipo_suelo\", \"exterior\"]\n",
    "#cuando nos juntemos todos podemos comprobar mas o pruebo con las restantes un corr."
   ]
  },
  {
   "cell_type": "code",
   "execution_count": null,
   "metadata": {},
   "outputs": [],
   "source": [
    "df = df.drop(columns=[col for col in columnas_a_borrar if col in df.columns], errors='ignore')\n",
    "df.shape"
   ]
  },
  {
   "cell_type": "code",
   "execution_count": null,
   "metadata": {},
   "outputs": [],
   "source": [
    "correlation_matrix = df.corr()\n",
    "plt.figure(figsize=(10,8))\n",
    "sns.heatmap(correlation_matrix, annot=True, cmap=\"coolwarm\", fmt=\".2f\")\n",
    "plt.show()"
   ]
  },
  {
   "cell_type": "code",
   "execution_count": null,
   "metadata": {},
   "outputs": [],
   "source": [
    "csv_file_path = \"pruebaE.csv\"\n",
    "df.to_csv(csv_file_path, index=False)"
   ]
  },
  {
   "cell_type": "code",
   "execution_count": null,
   "metadata": {},
   "outputs": [],
   "source": [
    "df.dtypes\n"
   ]
  },
  {
   "cell_type": "code",
   "execution_count": null,
   "metadata": {},
   "outputs": [],
   "source": [
    "df_numerico = df.select_dtypes(include=['number'])\n",
    "correlation_matrix = df_numerico.corr()"
   ]
  },
  {
   "cell_type": "code",
   "execution_count": null,
   "metadata": {},
   "outputs": [],
   "source": [
    "plt.figure(figsize=(12, 8))\n",
    "sns.heatmap(correlation_matrix, annot=True, cmap=\"coolwarm\", fmt=\".2f\", linewidths=0.5)\n",
    "plt.title(\"Mapa de Correlación\")\n",
    "plt.show()"
   ]
  },
  {
   "cell_type": "code",
   "execution_count": null,
   "metadata": {},
   "outputs": [],
   "source": [
    "#ha simple vista podemos observar que las columnas numericas con mayor relacion al precio  son las superficies que pueden ser redundantes al proporcionar el mismo tipo de informacion\n",
    "#y por el contrario las que menos serian planta, codigo postal, precio por metro cuadrado que en principio deberia ser relevante y habitaciones\n"
   ]
  },
  {
   "cell_type": "code",
   "execution_count": null,
   "metadata": {},
   "outputs": [],
   "source": [
    "#otra vista mas visual, de las columnas numericas\n",
    "correlaciones_precio = df_numerico.corr()['precio'].sort_values(ascending=False)\n",
    "\n",
    "plt.figure(figsize=(10,6))\n",
    "sns.barplot(x=correlaciones_precio.index, y=correlaciones_precio.values, palette=\"coolwarm\")\n",
    "plt.xticks(rotation=45)\n",
    "plt.title(\"Correlación de las Variables con el Precio\")\n",
    "plt.xlabel(\"Variables\")\n",
    "plt.ylabel(\"Coeficiente de Correlación\")\n",
    "plt.show()\n",
    "\n"
   ]
  },
  {
   "cell_type": "code",
   "execution_count": null,
   "metadata": {},
   "outputs": [],
   "source": [
    "# Mostrar la tabla de correlaciones en formato visual\n",
    "#tools.display_dataframe_to_user(name=\"Correlaciones con Precio\", dataframe=correlaciones_precio.to_frame())\n",
    "#correlaciones_precio_df = correlaciones_precio.to_frame().reset_index()\n",
    "#correlaciones_precio_df.columns = [\"Variable\", \"Correlación con Precio\"]\n",
    "#print(correlaciones_precio_df.to_string(index=False))  # Para imprimir en formato claro"
   ]
  },
  {
   "cell_type": "code",
   "execution_count": null,
   "metadata": {},
   "outputs": [],
   "source": [
    "df.columns"
   ]
  },
  {
   "cell_type": "code",
   "execution_count": null,
   "metadata": {},
   "outputs": [],
   "source": [
    "df.shape"
   ]
  },
  {
   "cell_type": "code",
   "execution_count": null,
   "metadata": {},
   "outputs": [],
   "source": [
    "valores_vacios = (df.isnull().sum() / len(df2)) * 100\n",
    "df_porcentaje2 = pd.DataFrame({'Columna': valores_vacios.index, 'Porcentaje_NaNs': valores_vacios.values})\n",
    "df_porcentaje2 = df_porcentaje2.sort_values(by='Porcentaje_NaNs', ascending=False)\n",
    "df_porcentaje2"
   ]
  },
  {
   "cell_type": "code",
   "execution_count": null,
   "metadata": {},
   "outputs": [],
   "source": [
    "#voy a seguir quitando columnas que ha simple vista tienen muchos nan o me parecen irrelevantes"
   ]
  },
  {
   "cell_type": "code",
   "execution_count": null,
   "metadata": {},
   "outputs": [],
   "source": [
    "df_prueba = df[[\"precio\", \"piscina\"]].dropna(subset=\"precio\")\n",
    "df_prueba[\"piscina\"] = ~df_prueba[\"piscina\"].isna()\n",
    "df_prueba"
   ]
  },
  {
   "cell_type": "code",
   "execution_count": null,
   "metadata": {},
   "outputs": [
    {
     "data": {
      "image/png": "[encoded data removed]",
      "text/plain": [
       "<Figure size 640x480 with 1 Axes>"
      ]
     },
     "metadata": {},
     "output_type": "display_data"
    },
    {
     "name": "stdout",
     "output_type": "stream",
     "text": [
      "1600.0\n",
      "1150.0\n"
     ]
    }
   ],
   "source": [
    "\n",
    "sns.boxplot(x = df_prueba[\"piscina\"],y=df_prueba[\"precio\"].apply(np.log1p))\n",
    "plt.show()\n",
    "\n",
    "print(df_prueba[df_prueba[\"piscina\"]][\"precio\"].median())\n",
    "print(df_prueba[~df_prueba[\"piscina\"]][\"precio\"].median())\n"
   ]
  },
  {
   "cell_type": "code",
   "execution_count": null,
   "metadata": {},
   "outputs": [],
   "source": [
    "precio = df[\"precio\"].quantile(0.95)\n",
    "fig, axes = plt.subplots(1, 2, figsize = (18, 7))\n",
    "\n",
    "sns.histplot(x = df[\"piscina\"], kde = True, ax = axes[0]); sns.boxplot(x = precio, y = df[\"piscina\"], ax = axes[1]); plt.show()\n",
    "\n",
    "plt.figure(figsize = (18, 7))\n",
    "\n",
    "sns.boxplot(x = df[\"baños\"]);\n",
    "plt.show()"
   ]
  },
  {
   "cell_type": "code",
   "execution_count": null,
   "metadata": {},
   "outputs": [],
   "source": [
    "sns.boxplot(x = precio, y = df[\"baños\"])"
   ]
  },
  {
   "cell_type": "code",
   "execution_count": null,
   "metadata": {},
   "outputs": [],
   "source": [
    "df_filtrado = df[df[\"baños\"] < df[\"baños\"].quantile(0.99)]\n",
    "sns.histplot(x=df_filtrado[\"baños\"], kde=True)\n",
    "plt.show()"
   ]
  },
  {
   "cell_type": "code",
   "execution_count": null,
   "metadata": {},
   "outputs": [],
   "source": [
    "fig, axes = plt.subplots(1, 2, figsize = (18, 7))\n",
    "\n",
    "sns.histplot(x = df[\"superficie\"], kde = True, ax = axes[0]);\n",
    "sns.boxplot(x = precio, y = df[\"superficie\"], ax = axes[1]);\n",
    "plt.show()\n",
    "\n",
    "plt.figure(figsize = (18, 7))\n",
    "\n",
    "sns.boxplot(x = df[\"superficie\"]);\n",
    "plt.show()"
   ]
  },
  {
   "cell_type": "code",
   "execution_count": null,
   "metadata": {},
   "outputs": [],
   "source": [
    "df"
   ]
  }
 ],
 "metadata": {
  "kernelspec": {
   "display_name": "Python 3",
   "language": "python",
   "name": "python3"
  },
  "language_info": {
   "codemirror_mode": {
    "name": "ipython",
    "version": 3
   },
   "file_extension": ".py",
   "mimetype": "text/x-python",
   "name": "python",
   "nbconvert_exporter": "python",
   "pygments_lexer": "ipython3",
   "version": "3.11.9"
  }
 },
 "nbformat": 4,
 "nbformat_minor": 2
}
