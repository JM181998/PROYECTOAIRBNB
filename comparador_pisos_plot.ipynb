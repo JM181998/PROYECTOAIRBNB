{
 "cells": [
  {
   "cell_type": "code",
   "execution_count": 40,
   "metadata": {},
   "outputs": [],
   "source": [
    "import pandas as pd\n",
    "\n",
    "from sklearn.preprocessing import MinMaxScaler\n",
    "from sklearn.preprocessing import RobustScaler\n",
    "\n",
    "import plotly.graph_objects as go"
   ]
  },
  {
   "cell_type": "code",
   "execution_count": 41,
   "metadata": {},
   "outputs": [],
   "source": [
    "df = pd.read_csv('df_sin_outliers.csv')"
   ]
  },
  {
   "cell_type": "code",
   "execution_count": 42,
   "metadata": {},
   "outputs": [],
   "source": [
    "# Seleccionamos las columnas que incluiremos en el radar (numericas), ademas añadimos el \"identificador\" para buscar y \"ubicacion\" como etiqueta\n",
    "columnas_importantes = ['identificador', 'superficie', 'superficie_construida', 'superficie_util', 'planta', 'baños', 'precio_m2', 'precio', 'habitaciones', 'ubicacion']\n",
    "df_importante = df[columnas_importantes].copy()"
   ]
  },
  {
   "cell_type": "code",
   "execution_count": 43,
   "metadata": {},
   "outputs": [],
   "source": [
    "# Escalamos el precio por separado porque es el valor notablemente mas extremo que desfigura el grafico\n",
    "scaler_price = RobustScaler()\n",
    "df_importante['precio_escalado'] = scaler_price.fit_transform(df_importante[['precio']])\n",
    "\n",
    "# Normalizamos el resto\n",
    "scaler_others = MinMaxScaler()\n",
    "df_others_scaled = scaler_others.fit_transform(df_importante.drop(columns=['identificador', 'precio', 'precio_escalado', 'ubicacion']))\n",
    "\n",
    "# Los combinamos en un unico df\n",
    "df_scaled = pd.DataFrame(df_others_scaled, columns=columnas_importantes[1:-2])\n",
    "df_scaled['precio'] = df_importante['precio_escalado']\n",
    "df_scaled['ubicacion'] = df_importante['ubicacion'].values\n",
    "df_scaled['identificador'] = df_importante['identificador'].values"
   ]
  },
  {
   "cell_type": "code",
   "execution_count": 44,
   "metadata": {},
   "outputs": [
    {
     "data": {
      "text/plain": [
       "array(['33340257518_100500', '50886757575_100500', '51683300341_529013',\n",
       "       '47517244975_513000', '50856390998_519306', '35018048379_526695',\n",
       "       '5902921560_109300', '47502779453_528856', '50883275252_519306',\n",
       "       '50872681561_519306', '50920427457_519306', '50854380584_519306',\n",
       "       '50901028147_519306', '40925147915_516977', '42509188465_516977',\n",
       "       '45835622809_995624', '49172728381_512084', '44234791411_100500',\n",
       "       '41667118296_100500', '35080998400_100500', '21710467295_100500',\n",
       "       '24207042538_100500', '30022979549_100500', '25856398462_100500',\n",
       "       '27577902426_100500', '43407410448_100500', '16685628598_100500',\n",
       "       '22540699556_100500', '37503592408_100500', '37540578316_100500',\n",
       "       '25073193570_100500', '50864232106_519306', '41686407946_100500',\n",
       "       '23420993208_100500', '50924911519_100500', '21755871564_100500',\n",
       "       '21719196290_100500', '485842523_501539', '35028116537_501539',\n",
       "       '86729224712_501539', '10834785389_501539', '41675443400_500785',\n",
       "       '873651980_500785', '872806566_500785', '945856908445356_109700',\n",
       "       '240363243_173200', '940927608_173200', '26703581883_173200',\n",
       "       '43430425386_173200', '945856909186798_109700',\n",
       "       '1693786163_500785', '945856909186788_109700',\n",
       "       '22505441113_173200', '945856908072688_109700',\n",
       "       '945856908072264_109700', '28394424641_500785',\n",
       "       '11702010235_500785', '1703094639_500785', '872960754_500785',\n",
       "       '712606796_173200', '875195339_500785', '945856908073178_109700',\n",
       "       '41724027506_173200', '19235664457_996484', '35928907818_500785',\n",
       "       '24260668316_500785', '46684262149_500785', '15088820870_100500',\n",
       "       '35058413223_500785', '19216208720_996484', '872766877_500785',\n",
       "       '49236099346_500785', '945856909186781_109700', '793744592_173200',\n",
       "       '40860153307_500785', '876635923_500785', '39261097881_527266',\n",
       "       '39220328315_527266', '30919164017_525717', '30885233169_525717',\n",
       "       '50857107387_519306', '47525053002_996808', '50896371612_519306',\n",
       "       '39258736912_527266', '50860148687_519306', '43341772581_525717',\n",
       "       '50856563841_519306', '42566489521_525717', '50884503365_519306',\n",
       "       '31720454297_525717', '50896757801_519306', '39203520044_527266',\n",
       "       '39224744177_527266', '50895470461_519306', '37511946757_525717',\n",
       "       '43432620753_525717', '42516107817_525717', '45042110580_525717',\n",
       "       '51760441673_525717', '37572135257_103200',\n",
       "       '945856908192747_109800', '21746535994_995929',\n",
       "       '40001153525_109300', '39229685648_109300', '48421031933_109300',\n",
       "       '39207634695_109300', '41755897701_109300', '31735978188_109300',\n",
       "       '50931029650_109300', '47531706140_109300', '51724265043_109300',\n",
       "       '46737235288_523207', '50883487479_519306', '50904504367_519306',\n",
       "       '50881697492_519306', '50840080274_519306', '50870332809_519306',\n",
       "       '50857137990_519306', '50856097746_519306', '50844682178_519306',\n",
       "       '50843667116_519306', '50836715297_519306', '45885263761_103800',\n",
       "       '50842585643_519306', '50916684917_519306', '50924953594_519306',\n",
       "       '50912303244_100500', '43365589507_514629', '42552129443_109300',\n",
       "       '50895361984_519306', '50896067064_519306', '50902073327_519306',\n",
       "       '50881805198_519306', '50932668315_519306', '50904080785_519306',\n",
       "       '50855275583_519306', '50916909548_519306', '50915597862_529160',\n",
       "       '50839886428_529160', '51682962351_501162', '39231549805_526695',\n",
       "       '39212946724_526695', '39263190739_526695', '5017173508_995451',\n",
       "       '39229952511_526695', '39252670773_526695', '49197906265_526695',\n",
       "       '39242209437_526695', '49231967197_526695', '49265289567_526695',\n",
       "       '49237117277_526695', '49226594891_526695', '39201315670_526695',\n",
       "       '39183519696_526695', '51687744221_529410', '35033799005_526695',\n",
       "       '945856907480607_109800', '945856907256918_109800',\n",
       "       '50872004122_529351', '50842388096_519306', '611958171_345700',\n",
       "       '18802334_448000', '1009499722_448000', '10498968_448000',\n",
       "       '19198816219_448000', '16771016_448000', '30928174793_993702',\n",
       "       '1006826813_448000', '10986075_448000', '19235795440_448000',\n",
       "       '14038932_448000', '19260470200_448000', '48832462_448000',\n",
       "       '15931489665_448000', '1000130807_448000', '12949468_448000',\n",
       "       '70015919740_448000', '25919330866_100500', '50865921750_519306',\n",
       "       '50860864231_519306', '50920279655_519306', '50914559741_519306',\n",
       "       '50889164146_519306', '50931317021_519306', '50857063882_519306',\n",
       "       '50870762799_519306', '50924594756_519306', '50873147807_519306',\n",
       "       '2538074553_995275', '18422525037_995275', '39241682659_526695',\n",
       "       '49229874778_526695', '50876658539_399400', '51766122852_399400',\n",
       "       '50886495906_399400', '51675388379_993693', '31748799267_133300',\n",
       "       '50847286981_399400', '30885015024_514452',\n",
       "       '945856909488280_109700', '46759677139_133300',\n",
       "       '50929793975_519306', '50835647393_519306', '50834735536_519306',\n",
       "       '50901069667_519306', '50867982192_519306', '31686474063_133300',\n",
       "       '32544916300_133300', '50871718211_519306', '31751988042_133300',\n",
       "       '31699080994_133300', '50874892864_519306', '50888663358_519306',\n",
       "       '50883089859_519306', '50905081544_519306', '41681046939_133300',\n",
       "       '36687705284_526101', '33381712119_526101', '50923156533_519306',\n",
       "       '31707733321_133300', '50887392374_519306', '50858730470_519306',\n",
       "       '50835311066_519306', '50879192862_519306', '50852189978_519306',\n",
       "       '50924212524_519306', '50881530160_519306', '51740095463_399400',\n",
       "       '50858957109_519306', '33347700316_526101', '50930158973_519306',\n",
       "       '50914306466_519306', '50889444969_519306', '50859077635_519306',\n",
       "       '50900094367_519306', '33347344484_526101', '50858848558_519306',\n",
       "       '50875440930_519306', '33354392079_526101', '50920093784_519306',\n",
       "       '50873501937_519306', '51673438709_399400', '50846524849_519306',\n",
       "       '50919648581_519306', '50870134291_519306', '50931141345_519306',\n",
       "       '50925685160_519306', '50912782518_519306', '50931669756_399400',\n",
       "       '51711344668_399400', '50916619719_519306', '47593602432_526101',\n",
       "       '50873412859_519306', '39265841354_527206', '39198640641_527206',\n",
       "       '40005870390_996542', '38401942335_527206', '50899689584_992227',\n",
       "       '51753691860_529118', '39252028451_527206', '40901566427_527206',\n",
       "       '39229612489_527206', '39191654458_527206', '39173847142_527206',\n",
       "       '40933041284_527206', '40846279329_527206', '50016795078_996580',\n",
       "       '50000986128_996580', '50050215109_992227', '50092036489_996580',\n",
       "       '51719204815_996580', '43423393431_991170', '50888232543_520820',\n",
       "       '50875887022_520252', '30073556584_263100', '49211708624_529071',\n",
       "       '49252302033_529071', '49257475668_529071', '50863161655_519306',\n",
       "       '844780054_263100', '834848412_996624', '50876617895_519306',\n",
       "       '49182905784_529071', '50910991161_519306', '50870321402_519306',\n",
       "       '50907196658_519306', '50919917442_519306', '50879140091_519306',\n",
       "       '50921003133_519306', '50913641895_519306', '50842725433_519306',\n",
       "       '50885797395_519306', '50896979112_519306', '50850135124_519306',\n",
       "       '50895427282_519306', '50908554287_519306', '50884200868_519306',\n",
       "       '50905524626_519306', '50847579076_519306', '50866776763_519306',\n",
       "       '50840780861_519306', '50871393188_519306', '50916826031_519306',\n",
       "       '50872125571_519306', '50921730615_519306', '50863161206_519306',\n",
       "       '50835410051_519306', '50911400508_519306', '50907931193_519306',\n",
       "       '50839175296_519306', '50903015615_519306', '50931319904_519306',\n",
       "       '50867490734_519306', '50838466233_519306', '50861901479_519306',\n",
       "       '50916935822_519306', '50856213986_519306', '50921758418_519306',\n",
       "       '50906714028_519306', '35016543532_526695', '50883883660_519306',\n",
       "       '35067350297_526695', '50902219312_519306', '50911228121_519306',\n",
       "       '50840531909_519306', '50910717064_519306', '50897188971_519306',\n",
       "       '50834918096_519306', '50837002569_519306', '50841412732_519306',\n",
       "       '50884185921_519306', '35854758768_526695', '42506858326_526695',\n",
       "       '42568043872_526695', '44264888104_527521', '38372011314_526594',\n",
       "       '33361520532_526253', '33386665316_526253', '33360009374_526253',\n",
       "       '33368414233_526253', '33385776774_526253', '33432305960_526253',\n",
       "       '33399191891_526253', '33384489830_526253', '33349198015_526253',\n",
       "       '33364833903_526253', '33427354743_526253', '33341931090_526253',\n",
       "       '42529852626_527521', '35847349016_992700', '44206006528_992700',\n",
       "       '50844709672_990788', '50921725103_527521', '36744332633_515860',\n",
       "       '42569746956_527521', '50880187619_519306', '37503439747_515860',\n",
       "       '45068955314_511366', '15037582467_511366', '881774588_511366',\n",
       "       '872929542_511366', '46675636034_511366', '45929023380_511366',\n",
       "       '45910018155_511366', '15037801727_511366', '100043408805_511366',\n",
       "       '15023223780_511366', '945856909116497_109700',\n",
       "       '15005644916_511366', '45905088192_511366', '15001304606_511366',\n",
       "       '45022669966_511366', '45875064995_511366', '15002843926_511366',\n",
       "       '45889224383_511366', '5099143055_511366', '50899795446_519306',\n",
       "       '35003116300_526695', '41743224432_526695', '35091692710_526695',\n",
       "       '43348471319_526695', '35848124399_526695', '41731768486_526695',\n",
       "       '41697299390_526695', '97580267584_999170', '42597300129_527935',\n",
       "       '42593481754_527935', '945856908343126_109700',\n",
       "       '9246773760_999170', '945856909275779_109700',\n",
       "       '945856909204477_109700', '945856908343141_109700',\n",
       "       '945856909236557_109700', '94200187190_999170',\n",
       "       '945856909471158_109700', '43394768394_999170',\n",
       "       '45890656113_524515', '945856909166449_109700',\n",
       "       '13337584681_999170', '40869084171_999170', '15072484278_999170',\n",
       "       '13350126254_999170', '90889051015_994503', '50916002663_994503',\n",
       "       '25910123525_994503', '40890773598_518396', '94249261141_518396',\n",
       "       '41706747166_526662', '6688712420_518396', '33355355558_518396',\n",
       "       '932865902_379200', '35860441958_518396', '51726378036_519501',\n",
       "       '25877688952_518396', '49258515351_500401', '40920945071_526662',\n",
       "       '39214950347_526662', '5902333653_517066', '21761769204_517066',\n",
       "       '31755972948_515222', '35927391574_515244', '36740629947_108500',\n",
       "       '48338247401_515244', '47580563749_528727', '51742968095_993512',\n",
       "       '40079382439_525282', '35031695794_500957', '45869858314_500957',\n",
       "       '40912730312_526695', '51729211654_103800', '51766475053_103800',\n",
       "       '49261638607_523073', '51722188486_518438', '33380756374_109300',\n",
       "       '15090728394_103800'], dtype=object)"
      ]
     },
     "execution_count": 44,
     "metadata": {},
     "output_type": "execute_result"
    }
   ],
   "source": [
    "df_scaled['identificador'].unique()"
   ]
  },
  {
   "cell_type": "code",
   "execution_count": 45,
   "metadata": {},
   "outputs": [],
   "source": [
    "# Introducimos manualmente los identificadores a comparar\n",
    "id1 = '51683300341_529013'\n",
    "id2 = '51722188486_518438'"
   ]
  },
  {
   "cell_type": "code",
   "execution_count": 46,
   "metadata": {},
   "outputs": [],
   "source": [
    "# Filtramos\n",
    "piso1 = df_scaled[df_scaled['identificador'] == id1].drop(columns=['identificador'])\n",
    "piso2 = df_scaled[df_scaled['identificador'] == id2].drop(columns=['identificador'])"
   ]
  },
  {
   "cell_type": "code",
   "execution_count": 47,
   "metadata": {},
   "outputs": [
    {
     "data": {
      "application/vnd.plotly.v1+json": {
       "config": {
        "plotlyServerURL": "https://plot.ly"
       },
       "data": [
        {
         "fill": "toself",
         "name": "51683300341_529013 - roquetas_de_mar",
         "r": [
          0.020698576972833116,
          0.020698576972833116,
          0.016165535079211122,
          0.15789473684210525,
          0,
          0.11475409836065574,
          -0.43109540636042404,
          "roquetas_de_mar"
         ],
         "theta": [
          "superficie",
          "superficie_construida",
          "superficie_util",
          "planta",
          "baños",
          "precio_m2",
          "precio",
          "ubicacion"
         ],
         "type": "scatterpolar"
        },
        {
         "fill": "toself",
         "name": "51722188486_518438 - cartagena",
         "r": [
          0,
          0,
          0,
          0.05263157894736842,
          0,
          0.4754098360655738,
          -0.5724381625441696,
          "cartagena"
         ],
         "theta": [
          "superficie",
          "superficie_construida",
          "superficie_util",
          "planta",
          "baños",
          "precio_m2",
          "precio",
          "ubicacion"
         ],
         "type": "scatterpolar"
        }
       ],
       "layout": {
        "polar": {
         "radialaxis": {
          "range": [
           -2,
           2
          ],
          "visible": true
         }
        },
        "showlegend": true,
        "template": {
         "data": {
          "bar": [
           {
            "error_x": {
             "color": "#2a3f5f"
            },
            "error_y": {
             "color": "#2a3f5f"
            },
            "marker": {
             "line": {
              "color": "#E5ECF6",
              "width": 0.5
             },
             "pattern": {
              "fillmode": "overlay",
              "size": 10,
              "solidity": 0.2
             }
            },
            "type": "bar"
           }
          ],
          "barpolar": [
           {
            "marker": {
             "line": {
              "color": "#E5ECF6",
              "width": 0.5
             },
             "pattern": {
              "fillmode": "overlay",
              "size": 10,
              "solidity": 0.2
             }
            },
            "type": "barpolar"
           }
          ],
          "carpet": [
           {
            "aaxis": {
             "endlinecolor": "#2a3f5f",
             "gridcolor": "white",
             "linecolor": "white",
             "minorgridcolor": "white",
             "startlinecolor": "#2a3f5f"
            },
            "baxis": {
             "endlinecolor": "#2a3f5f",
             "gridcolor": "white",
             "linecolor": "white",
             "minorgridcolor": "white",
             "startlinecolor": "#2a3f5f"
            },
            "type": "carpet"
           }
          ],
          "choropleth": [
           {
            "colorbar": {
             "outlinewidth": 0,
             "ticks": ""
            },
            "type": "choropleth"
           }
          ],
          "contour": [
           {
            "colorbar": {
             "outlinewidth": 0,
             "ticks": ""
            },
            "colorscale": [
             [
              0,
              "#0d0887"
             ],
             [
              0.1111111111111111,
              "#46039f"
             ],
             [
              0.2222222222222222,
              "#7201a8"
             ],
             [
              0.3333333333333333,
              "#9c179e"
             ],
             [
              0.4444444444444444,
              "#bd3786"
             ],
             [
              0.5555555555555556,
              "#d8576b"
             ],
             [
              0.6666666666666666,
              "#ed7953"
             ],
             [
              0.7777777777777778,
              "#fb9f3a"
             ],
             [
              0.8888888888888888,
              "#fdca26"
             ],
             [
              1,
              "#f0f921"
             ]
            ],
            "type": "contour"
           }
          ],
          "contourcarpet": [
           {
            "colorbar": {
             "outlinewidth": 0,
             "ticks": ""
            },
            "type": "contourcarpet"
           }
          ],
          "heatmap": [
           {
            "colorbar": {
             "outlinewidth": 0,
             "ticks": ""
            },
            "colorscale": [
             [
              0,
              "#0d0887"
             ],
             [
              0.1111111111111111,
              "#46039f"
             ],
             [
              0.2222222222222222,
              "#7201a8"
             ],
             [
              0.3333333333333333,
              "#9c179e"
             ],
             [
              0.4444444444444444,
              "#bd3786"
             ],
             [
              0.5555555555555556,
              "#d8576b"
             ],
             [
              0.6666666666666666,
              "#ed7953"
             ],
             [
              0.7777777777777778,
              "#fb9f3a"
             ],
             [
              0.8888888888888888,
              "#fdca26"
             ],
             [
              1,
              "#f0f921"
             ]
            ],
            "type": "heatmap"
           }
          ],
          "heatmapgl": [
           {
            "colorbar": {
             "outlinewidth": 0,
             "ticks": ""
            },
            "colorscale": [
             [
              0,
              "#0d0887"
             ],
             [
              0.1111111111111111,
              "#46039f"
             ],
             [
              0.2222222222222222,
              "#7201a8"
             ],
             [
              0.3333333333333333,
              "#9c179e"
             ],
             [
              0.4444444444444444,
              "#bd3786"
             ],
             [
              0.5555555555555556,
              "#d8576b"
             ],
             [
              0.6666666666666666,
              "#ed7953"
             ],
             [
              0.7777777777777778,
              "#fb9f3a"
             ],
             [
              0.8888888888888888,
              "#fdca26"
             ],
             [
              1,
              "#f0f921"
             ]
            ],
            "type": "heatmapgl"
           }
          ],
          "histogram": [
           {
            "marker": {
             "pattern": {
              "fillmode": "overlay",
              "size": 10,
              "solidity": 0.2
             }
            },
            "type": "histogram"
           }
          ],
          "histogram2d": [
           {
            "colorbar": {
             "outlinewidth": 0,
             "ticks": ""
            },
            "colorscale": [
             [
              0,
              "#0d0887"
             ],
             [
              0.1111111111111111,
              "#46039f"
             ],
             [
              0.2222222222222222,
              "#7201a8"
             ],
             [
              0.3333333333333333,
              "#9c179e"
             ],
             [
              0.4444444444444444,
              "#bd3786"
             ],
             [
              0.5555555555555556,
              "#d8576b"
             ],
             [
              0.6666666666666666,
              "#ed7953"
             ],
             [
              0.7777777777777778,
              "#fb9f3a"
             ],
             [
              0.8888888888888888,
              "#fdca26"
             ],
             [
              1,
              "#f0f921"
             ]
            ],
            "type": "histogram2d"
           }
          ],
          "histogram2dcontour": [
           {
            "colorbar": {
             "outlinewidth": 0,
             "ticks": ""
            },
            "colorscale": [
             [
              0,
              "#0d0887"
             ],
             [
              0.1111111111111111,
              "#46039f"
             ],
             [
              0.2222222222222222,
              "#7201a8"
             ],
             [
              0.3333333333333333,
              "#9c179e"
             ],
             [
              0.4444444444444444,
              "#bd3786"
             ],
             [
              0.5555555555555556,
              "#d8576b"
             ],
             [
              0.6666666666666666,
              "#ed7953"
             ],
             [
              0.7777777777777778,
              "#fb9f3a"
             ],
             [
              0.8888888888888888,
              "#fdca26"
             ],
             [
              1,
              "#f0f921"
             ]
            ],
            "type": "histogram2dcontour"
           }
          ],
          "mesh3d": [
           {
            "colorbar": {
             "outlinewidth": 0,
             "ticks": ""
            },
            "type": "mesh3d"
           }
          ],
          "parcoords": [
           {
            "line": {
             "colorbar": {
              "outlinewidth": 0,
              "ticks": ""
             }
            },
            "type": "parcoords"
           }
          ],
          "pie": [
           {
            "automargin": true,
            "type": "pie"
           }
          ],
          "scatter": [
           {
            "fillpattern": {
             "fillmode": "overlay",
             "size": 10,
             "solidity": 0.2
            },
            "type": "scatter"
           }
          ],
          "scatter3d": [
           {
            "line": {
             "colorbar": {
              "outlinewidth": 0,
              "ticks": ""
             }
            },
            "marker": {
             "colorbar": {
              "outlinewidth": 0,
              "ticks": ""
             }
            },
            "type": "scatter3d"
           }
          ],
          "scattercarpet": [
           {
            "marker": {
             "colorbar": {
              "outlinewidth": 0,
              "ticks": ""
             }
            },
            "type": "scattercarpet"
           }
          ],
          "scattergeo": [
           {
            "marker": {
             "colorbar": {
              "outlinewidth": 0,
              "ticks": ""
             }
            },
            "type": "scattergeo"
           }
          ],
          "scattergl": [
           {
            "marker": {
             "colorbar": {
              "outlinewidth": 0,
              "ticks": ""
             }
            },
            "type": "scattergl"
           }
          ],
          "scattermapbox": [
           {
            "marker": {
             "colorbar": {
              "outlinewidth": 0,
              "ticks": ""
             }
            },
            "type": "scattermapbox"
           }
          ],
          "scatterpolar": [
           {
            "marker": {
             "colorbar": {
              "outlinewidth": 0,
              "ticks": ""
             }
            },
            "type": "scatterpolar"
           }
          ],
          "scatterpolargl": [
           {
            "marker": {
             "colorbar": {
              "outlinewidth": 0,
              "ticks": ""
             }
            },
            "type": "scatterpolargl"
           }
          ],
          "scatterternary": [
           {
            "marker": {
             "colorbar": {
              "outlinewidth": 0,
              "ticks": ""
             }
            },
            "type": "scatterternary"
           }
          ],
          "surface": [
           {
            "colorbar": {
             "outlinewidth": 0,
             "ticks": ""
            },
            "colorscale": [
             [
              0,
              "#0d0887"
             ],
             [
              0.1111111111111111,
              "#46039f"
             ],
             [
              0.2222222222222222,
              "#7201a8"
             ],
             [
              0.3333333333333333,
              "#9c179e"
             ],
             [
              0.4444444444444444,
              "#bd3786"
             ],
             [
              0.5555555555555556,
              "#d8576b"
             ],
             [
              0.6666666666666666,
              "#ed7953"
             ],
             [
              0.7777777777777778,
              "#fb9f3a"
             ],
             [
              0.8888888888888888,
              "#fdca26"
             ],
             [
              1,
              "#f0f921"
             ]
            ],
            "type": "surface"
           }
          ],
          "table": [
           {
            "cells": {
             "fill": {
              "color": "#EBF0F8"
             },
             "line": {
              "color": "white"
             }
            },
            "header": {
             "fill": {
              "color": "#C8D4E3"
             },
             "line": {
              "color": "white"
             }
            },
            "type": "table"
           }
          ]
         },
         "layout": {
          "annotationdefaults": {
           "arrowcolor": "#2a3f5f",
           "arrowhead": 0,
           "arrowwidth": 1
          },
          "autotypenumbers": "strict",
          "coloraxis": {
           "colorbar": {
            "outlinewidth": 0,
            "ticks": ""
           }
          },
          "colorscale": {
           "diverging": [
            [
             0,
             "#8e0152"
            ],
            [
             0.1,
             "#c51b7d"
            ],
            [
             0.2,
             "#de77ae"
            ],
            [
             0.3,
             "#f1b6da"
            ],
            [
             0.4,
             "#fde0ef"
            ],
            [
             0.5,
             "#f7f7f7"
            ],
            [
             0.6,
             "#e6f5d0"
            ],
            [
             0.7,
             "#b8e186"
            ],
            [
             0.8,
             "#7fbc41"
            ],
            [
             0.9,
             "#4d9221"
            ],
            [
             1,
             "#276419"
            ]
           ],
           "sequential": [
            [
             0,
             "#0d0887"
            ],
            [
             0.1111111111111111,
             "#46039f"
            ],
            [
             0.2222222222222222,
             "#7201a8"
            ],
            [
             0.3333333333333333,
             "#9c179e"
            ],
            [
             0.4444444444444444,
             "#bd3786"
            ],
            [
             0.5555555555555556,
             "#d8576b"
            ],
            [
             0.6666666666666666,
             "#ed7953"
            ],
            [
             0.7777777777777778,
             "#fb9f3a"
            ],
            [
             0.8888888888888888,
             "#fdca26"
            ],
            [
             1,
             "#f0f921"
            ]
           ],
           "sequentialminus": [
            [
             0,
             "#0d0887"
            ],
            [
             0.1111111111111111,
             "#46039f"
            ],
            [
             0.2222222222222222,
             "#7201a8"
            ],
            [
             0.3333333333333333,
             "#9c179e"
            ],
            [
             0.4444444444444444,
             "#bd3786"
            ],
            [
             0.5555555555555556,
             "#d8576b"
            ],
            [
             0.6666666666666666,
             "#ed7953"
            ],
            [
             0.7777777777777778,
             "#fb9f3a"
            ],
            [
             0.8888888888888888,
             "#fdca26"
            ],
            [
             1,
             "#f0f921"
            ]
           ]
          },
          "colorway": [
           "#636efa",
           "#EF553B",
           "#00cc96",
           "#ab63fa",
           "#FFA15A",
           "#19d3f3",
           "#FF6692",
           "#B6E880",
           "#FF97FF",
           "#FECB52"
          ],
          "font": {
           "color": "#2a3f5f"
          },
          "geo": {
           "bgcolor": "white",
           "lakecolor": "white",
           "landcolor": "#E5ECF6",
           "showlakes": true,
           "showland": true,
           "subunitcolor": "white"
          },
          "hoverlabel": {
           "align": "left"
          },
          "hovermode": "closest",
          "mapbox": {
           "style": "light"
          },
          "paper_bgcolor": "white",
          "plot_bgcolor": "#E5ECF6",
          "polar": {
           "angularaxis": {
            "gridcolor": "white",
            "linecolor": "white",
            "ticks": ""
           },
           "bgcolor": "#E5ECF6",
           "radialaxis": {
            "gridcolor": "white",
            "linecolor": "white",
            "ticks": ""
           }
          },
          "scene": {
           "xaxis": {
            "backgroundcolor": "#E5ECF6",
            "gridcolor": "white",
            "gridwidth": 2,
            "linecolor": "white",
            "showbackground": true,
            "ticks": "",
            "zerolinecolor": "white"
           },
           "yaxis": {
            "backgroundcolor": "#E5ECF6",
            "gridcolor": "white",
            "gridwidth": 2,
            "linecolor": "white",
            "showbackground": true,
            "ticks": "",
            "zerolinecolor": "white"
           },
           "zaxis": {
            "backgroundcolor": "#E5ECF6",
            "gridcolor": "white",
            "gridwidth": 2,
            "linecolor": "white",
            "showbackground": true,
            "ticks": "",
            "zerolinecolor": "white"
           }
          },
          "shapedefaults": {
           "line": {
            "color": "#2a3f5f"
           }
          },
          "ternary": {
           "aaxis": {
            "gridcolor": "white",
            "linecolor": "white",
            "ticks": ""
           },
           "baxis": {
            "gridcolor": "white",
            "linecolor": "white",
            "ticks": ""
           },
           "bgcolor": "#E5ECF6",
           "caxis": {
            "gridcolor": "white",
            "linecolor": "white",
            "ticks": ""
           }
          },
          "title": {
           "x": 0.05
          },
          "xaxis": {
           "automargin": true,
           "gridcolor": "white",
           "linecolor": "white",
           "ticks": "",
           "title": {
            "standoff": 15
           },
           "zerolinecolor": "white",
           "zerolinewidth": 2
          },
          "yaxis": {
           "automargin": true,
           "gridcolor": "white",
           "linecolor": "white",
           "ticks": "",
           "title": {
            "standoff": 15
           },
           "zerolinecolor": "white",
           "zerolinewidth": 2
          }
         }
        }
       }
      }
     },
     "metadata": {},
     "output_type": "display_data"
    }
   ],
   "source": [
    "# Creamos el gráfico de radar\n",
    "fig = go.Figure()\n",
    "\n",
    "fig.add_trace(go.Scatterpolar(\n",
    "    r=piso1.iloc[0],\n",
    "    theta=piso1.columns,\n",
    "    fill='toself',\n",
    "    name=f'{id1} - {piso1[\"ubicacion\"].values[0]}'\n",
    "))\n",
    "\n",
    "fig.add_trace(go.Scatterpolar(\n",
    "    r=piso2.iloc[0],\n",
    "    theta=piso2.columns,\n",
    "    fill='toself',\n",
    "    name=f'{id2} - {piso2[\"ubicacion\"].values[0]}'\n",
    "))\n",
    "\n",
    "fig.update_layout(\n",
    "    polar=dict(\n",
    "        radialaxis=dict(\n",
    "            visible=True,\n",
    "            range=[-2, 2]\n",
    "        )\n",
    "    ),\n",
    "    showlegend=True\n",
    ")\n",
    "\n",
    "fig.show()"
   ]
  },
  {
   "cell_type": "markdown",
   "metadata": {},
   "source": [
    "Aquí tenemos el grafico comparativo en forma de radar entre las principales caracteristicas de los inmuebles seleccionados.\n",
    "Ahora añadiremos un df exclusivo de los dos comparados para ver los valores reales de cada categoria esclada."
   ]
  },
  {
   "cell_type": "code",
   "execution_count": 48,
   "metadata": {},
   "outputs": [],
   "source": [
    "id1 = '51683300341_529013'\n",
    "id2 = '51722188486_518438'\n",
    "piso1_original = df[df['identificador'] == id1][columnas_importantes]\n",
    "piso2_original = df[df['identificador'] == id2][columnas_importantes]\n",
    "\n",
    "df_comparativo = pd.concat([piso1_original, piso2_original], ignore_index=True)"
   ]
  },
  {
   "cell_type": "code",
   "execution_count": 49,
   "metadata": {},
   "outputs": [
    {
     "data": {
      "text/html": [
       "<div>\n",
       "<style scoped>\n",
       "    .dataframe tbody tr th:only-of-type {\n",
       "        vertical-align: middle;\n",
       "    }\n",
       "\n",
       "    .dataframe tbody tr th {\n",
       "        vertical-align: top;\n",
       "    }\n",
       "\n",
       "    .dataframe thead th {\n",
       "        text-align: right;\n",
       "    }\n",
       "</style>\n",
       "<table border=\"1\" class=\"dataframe\">\n",
       "  <thead>\n",
       "    <tr style=\"text-align: right;\">\n",
       "      <th></th>\n",
       "      <th>identificador</th>\n",
       "      <th>superficie</th>\n",
       "      <th>superficie_construida</th>\n",
       "      <th>superficie_util</th>\n",
       "      <th>planta</th>\n",
       "      <th>baños</th>\n",
       "      <th>precio_m2</th>\n",
       "      <th>precio</th>\n",
       "      <th>habitaciones</th>\n",
       "      <th>ubicacion</th>\n",
       "    </tr>\n",
       "  </thead>\n",
       "  <tbody>\n",
       "    <tr>\n",
       "      <th>0</th>\n",
       "      <td>51683300341_529013</td>\n",
       "      <td>79.0</td>\n",
       "      <td>79.0</td>\n",
       "      <td>64.0</td>\n",
       "      <td>2.0</td>\n",
       "      <td>1.0</td>\n",
       "      <td>8.0</td>\n",
       "      <td>650.0</td>\n",
       "      <td>2.0</td>\n",
       "      <td>roquetas_de_mar</td>\n",
       "    </tr>\n",
       "    <tr>\n",
       "      <th>1</th>\n",
       "      <td>51722188486_518438</td>\n",
       "      <td>15.0</td>\n",
       "      <td>15.0</td>\n",
       "      <td>14.0</td>\n",
       "      <td>0.0</td>\n",
       "      <td>1.0</td>\n",
       "      <td>30.0</td>\n",
       "      <td>450.0</td>\n",
       "      <td>1.0</td>\n",
       "      <td>cartagena</td>\n",
       "    </tr>\n",
       "  </tbody>\n",
       "</table>\n",
       "</div>"
      ],
      "text/plain": [
       "        identificador  superficie  superficie_construida  superficie_util  \\\n",
       "0  51683300341_529013        79.0                   79.0             64.0   \n",
       "1  51722188486_518438        15.0                   15.0             14.0   \n",
       "\n",
       "   planta  baños  precio_m2  precio  habitaciones        ubicacion  \n",
       "0     2.0    1.0        8.0   650.0           2.0  roquetas_de_mar  \n",
       "1     0.0    1.0       30.0   450.0           1.0        cartagena  "
      ]
     },
     "execution_count": 49,
     "metadata": {},
     "output_type": "execute_result"
    }
   ],
   "source": [
    "df_comparativo"
   ]
  }
 ],
 "metadata": {
  "kernelspec": {
   "display_name": "Python 3.11.7",
   "language": "python",
   "name": "python3"
  },
  "language_info": {
   "codemirror_mode": {
    "name": "ipython",
    "version": 3
   },
   "file_extension": ".py",
   "mimetype": "text/x-python",
   "name": "python",
   "nbconvert_exporter": "python",
   "pygments_lexer": "ipython3",
   "version": "3.11.7"
  },
  "orig_nbformat": 4,
  "vscode": {
   "interpreter": {
    "hash": "faa10f75de45951c7c3939f3103988890fef5be60eea20e39c3d3747e4fc449a"
   }
  }
 },
 "nbformat": 4,
 "nbformat_minor": 2
}
