{
 "cells": [
  {
   "cell_type": "code",
   "execution_count": null,
   "id": "3331810c-ca07-4286-a456-6a04cc331224",
   "metadata": {},
   "outputs": [],
   "source": [
    "\n",
    "import pandas as pd\n",
    "import pandas as pd\n",
    "import numpy as np"
   ]
  },
  {
   "cell_type": "code",
   "execution_count": null,
   "id": "8e5a9f7d-606f-4984-8d8c-108926a7f004",
   "metadata": {},
   "outputs": [],
   "source": []
  },
  {
   "cell_type": "code",
   "execution_count": null,
   "id": "29302e2a-7d29-41cf-a307-e58990fe0dda",
   "metadata": {},
   "outputs": [],
   "source": [
    "#quitar los strings\n",
    "df[\"precio_m2\"] = df[\"precio_m2\"].str.replace(r\" €/m²\", \"\", regex=True)\n",
    "df[\"precio\"] = df[\"precio\"].str.replace(r\" €/mes| €\", \"\", regex=True)\n",
    "df[\"superficie\"] = df[\"superficie\"].str.replace(r\" m²\", \"\", regex=True)\n",
    "\n",
    "# Reemplazar errores de procesamiento por NaN\n",
    "df[\"precio_m2\"] = pd.to_numeric(df[\"precio_m2\"], errors='coerce')\n",
    "df[\"precio\"] = pd.to_numeric(df[\"precio\"], errors='coerce')\n",
    "df[\"superficie\"] = pd.to_numeric(df[\"superficie\"], errors='coerce')\n",
    "\n",
    "# Volver a llenar valores nulos en columnas clave\n",
    "df[\"precio_m2\"].fillna(df[\"precio_m2\"].median(), inplace=True)\n",
    "df[\"precio\"].fillna(df[\"precio\"].median(), inplace=True)\n",
    "df[\"superficie\"].fillna(df[\"superficie\"].median(), inplace=True)"
   ]
  },
  {
   "cell_type": "code",
   "execution_count": null,
   "id": "8a079c3b-1995-4ba9-9327-6368b40cf151",
   "metadata": {},
   "outputs": [],
   "source": [
    "df[\"precio_m2\"]"
   ]
  },
  {
   "cell_type": "code",
   "execution_count": null,
   "id": "65f8991d-215f-4086-9ccd-3a73eb5d0129",
   "metadata": {},
   "outputs": [],
   "source": [
    "df[\"precio\"]"
   ]
  },
  {
   "cell_type": "code",
   "execution_count": null,
   "id": "569118df-d5f3-4685-9133-157710931dc3",
   "metadata": {},
   "outputs": [],
   "source": []
  }
 ],
 "metadata": {
  "kernelspec": {
   "display_name": "Python 3 (ipykernel)",
   "language": "python",
   "name": "python3"
  },
  "language_info": {
   "codemirror_mode": {
    "name": "ipython",
    "version": 3
   },
   "file_extension": ".py",
   "mimetype": "text/x-python",
   "name": "python",
   "nbconvert_exporter": "python",
   "pygments_lexer": "ipython3",
   "version": "3.12.7"
  }
 },
 "nbformat": 4,
 "nbformat_minor": 5
}
